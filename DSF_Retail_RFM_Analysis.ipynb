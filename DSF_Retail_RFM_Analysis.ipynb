{
  "nbformat": 4,
  "nbformat_minor": 0,
  "metadata": {
    "colab": {
      "name": "DSF_Retail_RFM_Analysis.ipynb",
      "provenance": [],
      "collapsed_sections": [],
      "machine_shape": "hm"
    },
    "kernelspec": {
      "name": "python3",
      "display_name": "Python 3"
    }
  },
  "cells": [
    {
      "cell_type": "code",
      "metadata": {
        "id": "KxzFCMU8awKU",
        "colab_type": "code",
        "outputId": "03f48d49-0d17-4e0c-88f1-0fcd19887397",
        "colab": {
          "base_uri": "https://localhost:8080/",
          "height": 121
        }
      },
      "source": [
        "from google.colab import drive\n",
        "drive.mount('/content/gdrive')"
      ],
      "execution_count": 1,
      "outputs": [
        {
          "output_type": "stream",
          "text": [
            "Go to this URL in a browser: https://accounts.google.com/o/oauth2/auth?client_id=947318989803-6bn6qk8qdgf4n4g3pfee6491hc0brc4i.apps.googleusercontent.com&redirect_uri=urn%3aietf%3awg%3aoauth%3a2.0%3aoob&response_type=code&scope=email%20https%3a%2f%2fwww.googleapis.com%2fauth%2fdocs.test%20https%3a%2f%2fwww.googleapis.com%2fauth%2fdrive%20https%3a%2f%2fwww.googleapis.com%2fauth%2fdrive.photos.readonly%20https%3a%2f%2fwww.googleapis.com%2fauth%2fpeopleapi.readonly\n",
            "\n",
            "Enter your authorization code:\n",
            "··········\n",
            "Mounted at /content/gdrive\n"
          ],
          "name": "stdout"
        }
      ]
    },
    {
      "cell_type": "code",
      "metadata": {
        "id": "fXTf-Z9sbRxf",
        "colab_type": "code",
        "outputId": "c6c1c947-c2ca-436f-fee5-b98ebeff5c1a",
        "colab": {
          "base_uri": "https://localhost:8080/",
          "height": 34
        }
      },
      "source": [
        "cd 'gdrive/My Drive/DSF Project: Retail/'"
      ],
      "execution_count": 2,
      "outputs": [
        {
          "output_type": "stream",
          "text": [
            "/content/gdrive/My Drive/DSF Project: Retail\n"
          ],
          "name": "stdout"
        }
      ]
    },
    {
      "cell_type": "code",
      "metadata": {
        "id": "WMKRSbI7bXU6",
        "colab_type": "code",
        "colab": {}
      },
      "source": [
        "import cv2\n",
        "import numpy as np\n",
        "import pandas as pd\n",
        "import matplotlib.pyplot as plt\n",
        "from mpl_toolkits.mplot3d import Axes3D\n",
        "import time\n",
        "import warnings\n",
        "import seaborn as sns"
      ],
      "execution_count": 0,
      "outputs": []
    },
    {
      "cell_type": "markdown",
      "metadata": {
        "id": "KM8O89oobrHI",
        "colab_type": "text"
      },
      "source": [
        "# **RFM Analysis**"
      ]
    },
    {
      "cell_type": "code",
      "metadata": {
        "id": "lo4T84BjMiI0",
        "colab_type": "code",
        "colab": {}
      },
      "source": [
        "columns = ['Date','Transaction Time','Customer Number','Receipt Number','Item Number','Item Description','Net Sales']"
      ],
      "execution_count": 0,
      "outputs": []
    },
    {
      "cell_type": "code",
      "metadata": {
        "id": "E-70IkpKSRwr",
        "colab_type": "code",
        "outputId": "3244242a-68c6-4ddc-d6bd-45bdd3dea0db",
        "colab": {
          "base_uri": "https://localhost:8080/",
          "height": 50
        }
      },
      "source": [
        "train_RFM = pd.read_csv(r'costello_ace_2017-2018.csv',usecols= columns)"
      ],
      "execution_count": 5,
      "outputs": [
        {
          "output_type": "stream",
          "text": [
            "/usr/local/lib/python3.6/dist-packages/IPython/core/interactiveshell.py:2718: DtypeWarning: Columns (10) have mixed types. Specify dtype option on import or set low_memory=False.\n",
            "  interactivity=interactivity, compiler=compiler, result=result)\n"
          ],
          "name": "stderr"
        }
      ]
    },
    {
      "cell_type": "code",
      "metadata": {
        "id": "0yQQwaUFmsyK",
        "colab_type": "code",
        "outputId": "b28aa2a0-d217-4726-f780-0b8ba53faec6",
        "colab": {
          "base_uri": "https://localhost:8080/",
          "height": 34
        }
      },
      "source": [
        "import gc\n",
        "gc.collect()"
      ],
      "execution_count": 6,
      "outputs": [
        {
          "output_type": "execute_result",
          "data": {
            "text/plain": [
              "0"
            ]
          },
          "metadata": {
            "tags": []
          },
          "execution_count": 6
        }
      ]
    },
    {
      "cell_type": "code",
      "metadata": {
        "id": "IHpnS69ahjSQ",
        "colab_type": "code",
        "outputId": "0b6d809d-f869-4b92-dad9-5fc2b8787c5a",
        "colab": {
          "base_uri": "https://localhost:8080/",
          "height": 34
        }
      },
      "source": [
        "train_RFM.shape"
      ],
      "execution_count": 7,
      "outputs": [
        {
          "output_type": "execute_result",
          "data": {
            "text/plain": [
              "(17328044, 7)"
            ]
          },
          "metadata": {
            "tags": []
          },
          "execution_count": 7
        }
      ]
    },
    {
      "cell_type": "code",
      "metadata": {
        "id": "nAo4Ly8-TE2L",
        "colab_type": "code",
        "outputId": "e99de95a-2c8a-46fa-b093-060e93bb980f",
        "colab": {
          "base_uri": "https://localhost:8080/",
          "height": 1000
        }
      },
      "source": [
        "train_RFM.tail(50)"
      ],
      "execution_count": 8,
      "outputs": [
        {
          "output_type": "execute_result",
          "data": {
            "text/html": [
              "<div>\n",
              "<style scoped>\n",
              "    .dataframe tbody tr th:only-of-type {\n",
              "        vertical-align: middle;\n",
              "    }\n",
              "\n",
              "    .dataframe tbody tr th {\n",
              "        vertical-align: top;\n",
              "    }\n",
              "\n",
              "    .dataframe thead th {\n",
              "        text-align: right;\n",
              "    }\n",
              "</style>\n",
              "<table border=\"1\" class=\"dataframe\">\n",
              "  <thead>\n",
              "    <tr style=\"text-align: right;\">\n",
              "      <th></th>\n",
              "      <th>Date</th>\n",
              "      <th>Transaction Time</th>\n",
              "      <th>Customer Number</th>\n",
              "      <th>Receipt Number</th>\n",
              "      <th>Item Number</th>\n",
              "      <th>Item Description</th>\n",
              "      <th>Net Sales</th>\n",
              "    </tr>\n",
              "  </thead>\n",
              "  <tbody>\n",
              "    <tr>\n",
              "      <th>17327994</th>\n",
              "      <td>9/30/2018</td>\n",
              "      <td>18:07:47</td>\n",
              "      <td>*1272</td>\n",
              "      <td>H88639</td>\n",
              "      <td>7104888</td>\n",
              "      <td>TRAP SPIDER &amp; CRICKET PK</td>\n",
              "      <td>13.98</td>\n",
              "    </tr>\n",
              "    <tr>\n",
              "      <th>17327995</th>\n",
              "      <td>9/30/2018</td>\n",
              "      <td>18:07:47</td>\n",
              "      <td>*1272</td>\n",
              "      <td>H88639</td>\n",
              "      <td>CC1082</td>\n",
              "      <td>$5 OFF</td>\n",
              "      <td>-5</td>\n",
              "    </tr>\n",
              "    <tr>\n",
              "      <th>17327996</th>\n",
              "      <td>9/30/2018</td>\n",
              "      <td>18:07:52</td>\n",
              "      <td>600065</td>\n",
              "      <td>J97605</td>\n",
              "      <td>1203785</td>\n",
              "      <td>CLEANR KABOOM TLEGRT32OZ</td>\n",
              "      <td>4.87</td>\n",
              "    </tr>\n",
              "    <tr>\n",
              "      <th>17327997</th>\n",
              "      <td>9/30/2018</td>\n",
              "      <td>18:07:52</td>\n",
              "      <td>600065</td>\n",
              "      <td>J97605</td>\n",
              "      <td>1361302</td>\n",
              "      <td>CLEANR BATHROOM 20OZ SB</td>\n",
              "      <td>4.45</td>\n",
              "    </tr>\n",
              "    <tr>\n",
              "      <th>17327998</th>\n",
              "      <td>9/30/2018</td>\n",
              "      <td>18:07:52</td>\n",
              "      <td>600065</td>\n",
              "      <td>J97605</td>\n",
              "      <td>45029</td>\n",
              "      <td>LINER MAGNTC 70X71 CLEAR</td>\n",
              "      <td>1.7</td>\n",
              "    </tr>\n",
              "    <tr>\n",
              "      <th>17327999</th>\n",
              "      <td>9/30/2018</td>\n",
              "      <td>18:08:26</td>\n",
              "      <td>500268</td>\n",
              "      <td>H34196</td>\n",
              "      <td>6187025</td>\n",
              "      <td>ACE BAG 13GAL 22CT DRAW</td>\n",
              "      <td>3.36</td>\n",
              "    </tr>\n",
              "    <tr>\n",
              "      <th>17328000</th>\n",
              "      <td>9/30/2018</td>\n",
              "      <td>18:08:45</td>\n",
              "      <td>*5</td>\n",
              "      <td>H88640</td>\n",
              "      <td>5326053</td>\n",
              "      <td>WALLBOARD ANC KIT 21NC#8</td>\n",
              "      <td>19.99</td>\n",
              "    </tr>\n",
              "    <tr>\n",
              "      <th>17328001</th>\n",
              "      <td>9/30/2018</td>\n",
              "      <td>18:08:45</td>\n",
              "      <td>*5</td>\n",
              "      <td>H88640</td>\n",
              "      <td>30205</td>\n",
              "      <td>BATTRY ALKLN DURA 9V CD2</td>\n",
              "      <td>10.49</td>\n",
              "    </tr>\n",
              "    <tr>\n",
              "      <th>17328002</th>\n",
              "      <td>9/30/2018</td>\n",
              "      <td>18:09:20</td>\n",
              "      <td>372546</td>\n",
              "      <td>E13888</td>\n",
              "      <td>S3739</td>\n",
              "      <td>60 WATT CL APPLIANCE BULB</td>\n",
              "      <td>8.97</td>\n",
              "    </tr>\n",
              "    <tr>\n",
              "      <th>17328003</th>\n",
              "      <td>9/30/2018</td>\n",
              "      <td>18:09:20</td>\n",
              "      <td>372546</td>\n",
              "      <td>E13888</td>\n",
              "      <td>7415110</td>\n",
              "      <td>FLYING INSECT KLLR18OZ</td>\n",
              "      <td>0</td>\n",
              "    </tr>\n",
              "    <tr>\n",
              "      <th>17328004</th>\n",
              "      <td>9/30/2018</td>\n",
              "      <td>18:09:20</td>\n",
              "      <td>372546</td>\n",
              "      <td>E13888</td>\n",
              "      <td>7415110</td>\n",
              "      <td>FLYING INSECT KLLR18OZ</td>\n",
              "      <td>3.99</td>\n",
              "    </tr>\n",
              "    <tr>\n",
              "      <th>17328005</th>\n",
              "      <td>9/30/2018</td>\n",
              "      <td>18:09:21</td>\n",
              "      <td>139036</td>\n",
              "      <td>G53963</td>\n",
              "      <td>4320172</td>\n",
              "      <td>SHARKBITE TEE 1/2\" LF</td>\n",
              "      <td>12.99</td>\n",
              "    </tr>\n",
              "    <tr>\n",
              "      <th>17328006</th>\n",
              "      <td>9/30/2018</td>\n",
              "      <td>18:09:21</td>\n",
              "      <td>139036</td>\n",
              "      <td>G53963</td>\n",
              "      <td>4321451</td>\n",
              "      <td>SB HI-EAR ELBOW 1/2\"F LF</td>\n",
              "      <td>8.99</td>\n",
              "    </tr>\n",
              "    <tr>\n",
              "      <th>17328007</th>\n",
              "      <td>9/30/2018</td>\n",
              "      <td>18:09:50</td>\n",
              "      <td>133559</td>\n",
              "      <td>B52083</td>\n",
              "      <td>3030186</td>\n",
              "      <td>STAPLE COXL GRY7/16\"CD15</td>\n",
              "      <td>7.98</td>\n",
              "    </tr>\n",
              "    <tr>\n",
              "      <th>17328008</th>\n",
              "      <td>9/30/2018</td>\n",
              "      <td>18:09:50</td>\n",
              "      <td>133559</td>\n",
              "      <td>B52083</td>\n",
              "      <td>CC1082</td>\n",
              "      <td>$5 OFF</td>\n",
              "      <td>-5</td>\n",
              "    </tr>\n",
              "    <tr>\n",
              "      <th>17328009</th>\n",
              "      <td>9/30/2018</td>\n",
              "      <td>18:10:59</td>\n",
              "      <td>*5</td>\n",
              "      <td>J60363</td>\n",
              "      <td>1205244</td>\n",
              "      <td>FILLR WOOD STNABLE 1OZ</td>\n",
              "      <td>7.49</td>\n",
              "    </tr>\n",
              "    <tr>\n",
              "      <th>17328010</th>\n",
              "      <td>9/30/2018</td>\n",
              "      <td>18:10:59</td>\n",
              "      <td>*5</td>\n",
              "      <td>J60363</td>\n",
              "      <td>19268</td>\n",
              "      <td>PUTTY PAINTRS 1/2PT DAP</td>\n",
              "      <td>5.99</td>\n",
              "    </tr>\n",
              "    <tr>\n",
              "      <th>17328011</th>\n",
              "      <td>9/30/2018</td>\n",
              "      <td>18:10:59</td>\n",
              "      <td>*5</td>\n",
              "      <td>J60363</td>\n",
              "      <td>1197805</td>\n",
              "      <td>PUTTY WOOD RED MAHOGNY</td>\n",
              "      <td>4.99</td>\n",
              "    </tr>\n",
              "    <tr>\n",
              "      <th>17328012</th>\n",
              "      <td>9/30/2018</td>\n",
              "      <td>18:11:00</td>\n",
              "      <td>*5</td>\n",
              "      <td>E13890</td>\n",
              "      <td>56</td>\n",
              "      <td>FASTENERS</td>\n",
              "      <td>0.6</td>\n",
              "    </tr>\n",
              "    <tr>\n",
              "      <th>17328013</th>\n",
              "      <td>9/30/2018</td>\n",
              "      <td>18:11:00</td>\n",
              "      <td>*5</td>\n",
              "      <td>E13890</td>\n",
              "      <td>56</td>\n",
              "      <td>FASTENERS</td>\n",
              "      <td>9.54</td>\n",
              "    </tr>\n",
              "    <tr>\n",
              "      <th>17328014</th>\n",
              "      <td>9/30/2018</td>\n",
              "      <td>18:11:38</td>\n",
              "      <td>*5</td>\n",
              "      <td>A29053</td>\n",
              "      <td>56</td>\n",
              "      <td>FASTENERS</td>\n",
              "      <td>3.57</td>\n",
              "    </tr>\n",
              "    <tr>\n",
              "      <th>17328015</th>\n",
              "      <td>9/30/2018</td>\n",
              "      <td>18:11:38</td>\n",
              "      <td>*5</td>\n",
              "      <td>A29053</td>\n",
              "      <td>56</td>\n",
              "      <td>FASTENERS</td>\n",
              "      <td>2.67</td>\n",
              "    </tr>\n",
              "    <tr>\n",
              "      <th>17328016</th>\n",
              "      <td>9/30/2018</td>\n",
              "      <td>18:11:38</td>\n",
              "      <td>*5</td>\n",
              "      <td>A29053</td>\n",
              "      <td>56</td>\n",
              "      <td>FASTENERS</td>\n",
              "      <td>2</td>\n",
              "    </tr>\n",
              "    <tr>\n",
              "      <th>17328017</th>\n",
              "      <td>9/30/2018</td>\n",
              "      <td>18:11:38</td>\n",
              "      <td>*5</td>\n",
              "      <td>A29053</td>\n",
              "      <td>56</td>\n",
              "      <td>FASTENERS</td>\n",
              "      <td>0.98</td>\n",
              "    </tr>\n",
              "    <tr>\n",
              "      <th>17328018</th>\n",
              "      <td>9/30/2018</td>\n",
              "      <td>18:14:20</td>\n",
              "      <td>505095</td>\n",
              "      <td>B02345</td>\n",
              "      <td>17614</td>\n",
              "      <td>SANDPAPR ALOX9X11 MED5PK</td>\n",
              "      <td>1.17</td>\n",
              "    </tr>\n",
              "    <tr>\n",
              "      <th>17328019</th>\n",
              "      <td>9/30/2018</td>\n",
              "      <td>18:16:03</td>\n",
              "      <td>286845</td>\n",
              "      <td>B52084</td>\n",
              "      <td>6305254</td>\n",
              "      <td>POSTER STRPS SM COMMAND</td>\n",
              "      <td>10.49</td>\n",
              "    </tr>\n",
              "    <tr>\n",
              "      <th>17328020</th>\n",
              "      <td>9/30/2018</td>\n",
              "      <td>18:16:03</td>\n",
              "      <td>600577</td>\n",
              "      <td>E13891</td>\n",
              "      <td>CO3778</td>\n",
              "      <td>DR PEPPER 20OZ</td>\n",
              "      <td>1.22</td>\n",
              "    </tr>\n",
              "    <tr>\n",
              "      <th>17328021</th>\n",
              "      <td>9/30/2018</td>\n",
              "      <td>18:16:03</td>\n",
              "      <td>286845</td>\n",
              "      <td>B52084</td>\n",
              "      <td>9269862</td>\n",
              "      <td>CMN Donations</td>\n",
              "      <td>1</td>\n",
              "    </tr>\n",
              "    <tr>\n",
              "      <th>17328022</th>\n",
              "      <td>9/30/2018</td>\n",
              "      <td>18:16:03</td>\n",
              "      <td>600577</td>\n",
              "      <td>E13891</td>\n",
              "      <td>93598</td>\n",
              "      <td>PATTIE YORK MINT 1.5OZ</td>\n",
              "      <td>0.89</td>\n",
              "    </tr>\n",
              "    <tr>\n",
              "      <th>17328023</th>\n",
              "      <td>9/30/2018</td>\n",
              "      <td>18:17:28</td>\n",
              "      <td>145989</td>\n",
              "      <td>H88641</td>\n",
              "      <td>B01271XH</td>\n",
              "      <td>COLOR SAMPLE BM BASE1 PT</td>\n",
              "      <td>6.99</td>\n",
              "    </tr>\n",
              "    <tr>\n",
              "      <th>17328024</th>\n",
              "      <td>9/30/2018</td>\n",
              "      <td>18:17:28</td>\n",
              "      <td>145989</td>\n",
              "      <td>H88641</td>\n",
              "      <td>1515014</td>\n",
              "      <td>STAIN MINWX8OZ WTHRD OAK</td>\n",
              "      <td>7.99</td>\n",
              "    </tr>\n",
              "    <tr>\n",
              "      <th>17328025</th>\n",
              "      <td>9/30/2018</td>\n",
              "      <td>18:17:28</td>\n",
              "      <td>145989</td>\n",
              "      <td>H88641</td>\n",
              "      <td>12389</td>\n",
              "      <td>STAIN MINWX 8OZ DRFTWOOD</td>\n",
              "      <td>7.99</td>\n",
              "    </tr>\n",
              "    <tr>\n",
              "      <th>17328026</th>\n",
              "      <td>9/30/2018</td>\n",
              "      <td>18:17:30</td>\n",
              "      <td>297854</td>\n",
              "      <td>B52085</td>\n",
              "      <td>AR47070</td>\n",
              "      <td>REVENGE RAT TRAP</td>\n",
              "      <td>2.99</td>\n",
              "    </tr>\n",
              "    <tr>\n",
              "      <th>17328027</th>\n",
              "      <td>9/30/2018</td>\n",
              "      <td>18:17:30</td>\n",
              "      <td>297854</td>\n",
              "      <td>B52085</td>\n",
              "      <td>70737</td>\n",
              "      <td>TRAP RAT VICTOR</td>\n",
              "      <td>3.99</td>\n",
              "    </tr>\n",
              "    <tr>\n",
              "      <th>17328028</th>\n",
              "      <td>9/30/2018</td>\n",
              "      <td>18:17:30</td>\n",
              "      <td>297854</td>\n",
              "      <td>B52085</td>\n",
              "      <td>5333075</td>\n",
              "      <td>ANCHOR 10-12W/WH SCRWCD4</td>\n",
              "      <td>2.69</td>\n",
              "    </tr>\n",
              "    <tr>\n",
              "      <th>17328029</th>\n",
              "      <td>9/30/2018</td>\n",
              "      <td>18:17:30</td>\n",
              "      <td>297854</td>\n",
              "      <td>B52085</td>\n",
              "      <td>1011006</td>\n",
              "      <td>JNT CMPND ALL PURP 1.75P</td>\n",
              "      <td>5.99</td>\n",
              "    </tr>\n",
              "    <tr>\n",
              "      <th>17328030</th>\n",
              "      <td>9/30/2018</td>\n",
              "      <td>18:17:30</td>\n",
              "      <td>297854</td>\n",
              "      <td>B52085</td>\n",
              "      <td>1504125</td>\n",
              "      <td>GOO GONE REMOVER 2OZ</td>\n",
              "      <td>2.99</td>\n",
              "    </tr>\n",
              "    <tr>\n",
              "      <th>17328031</th>\n",
              "      <td>9/30/2018</td>\n",
              "      <td>18:17:30</td>\n",
              "      <td>297854</td>\n",
              "      <td>B52085</td>\n",
              "      <td>9269862</td>\n",
              "      <td>CMN Donations</td>\n",
              "      <td>1</td>\n",
              "    </tr>\n",
              "    <tr>\n",
              "      <th>17328032</th>\n",
              "      <td>9/30/2018</td>\n",
              "      <td>18:19:37</td>\n",
              "      <td>442546</td>\n",
              "      <td>B02346</td>\n",
              "      <td>7055973</td>\n",
              "      <td>ADJUSTABLE FLAG BRACKET</td>\n",
              "      <td>17.99</td>\n",
              "    </tr>\n",
              "    <tr>\n",
              "      <th>17328033</th>\n",
              "      <td>9/30/2018</td>\n",
              "      <td>18:19:37</td>\n",
              "      <td>442546</td>\n",
              "      <td>B02346</td>\n",
              "      <td>7098189</td>\n",
              "      <td>5' ALUM FLAG POLE</td>\n",
              "      <td>15.99</td>\n",
              "    </tr>\n",
              "    <tr>\n",
              "      <th>17328034</th>\n",
              "      <td>9/30/2018</td>\n",
              "      <td>18:20:40</td>\n",
              "      <td>500218</td>\n",
              "      <td>H88642</td>\n",
              "      <td>H80051</td>\n",
              "      <td>PHILIP PN SMS Z 8X1 1/4  100</td>\n",
              "      <td>2.88</td>\n",
              "    </tr>\n",
              "    <tr>\n",
              "      <th>17328035</th>\n",
              "      <td>9/30/2018</td>\n",
              "      <td>18:20:40</td>\n",
              "      <td>500218</td>\n",
              "      <td>H88642</td>\n",
              "      <td>H48023</td>\n",
              "      <td>XL-TR WSH LATH SP 8X1.25</td>\n",
              "      <td>2.35</td>\n",
              "    </tr>\n",
              "    <tr>\n",
              "      <th>17328036</th>\n",
              "      <td>9/30/2018</td>\n",
              "      <td>18:21:20</td>\n",
              "      <td>*5</td>\n",
              "      <td>B02347</td>\n",
              "      <td>7104888</td>\n",
              "      <td>TRAP SPIDER &amp; CRICKET PK</td>\n",
              "      <td>13.98</td>\n",
              "    </tr>\n",
              "    <tr>\n",
              "      <th>17328037</th>\n",
              "      <td>9/30/2018</td>\n",
              "      <td>18:37:18</td>\n",
              "      <td>*5</td>\n",
              "      <td>B52086</td>\n",
              "      <td>S9596</td>\n",
              "      <td>9A19 LED 120V 2700K 4PK</td>\n",
              "      <td>7.99</td>\n",
              "    </tr>\n",
              "    <tr>\n",
              "      <th>17328038</th>\n",
              "      <td>9/30/2018</td>\n",
              "      <td>20:07:23</td>\n",
              "      <td>99989</td>\n",
              "      <td>474</td>\n",
              "      <td>3016607</td>\n",
              "      <td>BATTRY ALKLN AAA CD4 ACE</td>\n",
              "      <td>1.06</td>\n",
              "    </tr>\n",
              "    <tr>\n",
              "      <th>17328039</th>\n",
              "      <td>9/30/2018</td>\n",
              "      <td>20:07:23</td>\n",
              "      <td>99989</td>\n",
              "      <td>474</td>\n",
              "      <td>10541</td>\n",
              "      <td>PALMYRA PUSHBROOM 18\"</td>\n",
              "      <td>7.7</td>\n",
              "    </tr>\n",
              "    <tr>\n",
              "      <th>17328040</th>\n",
              "      <td>9/30/2018</td>\n",
              "      <td>20:07:23</td>\n",
              "      <td>99989</td>\n",
              "      <td>474</td>\n",
              "      <td>12172</td>\n",
              "      <td>WIRE BRUSH MINI SS 3PK</td>\n",
              "      <td>1.21</td>\n",
              "    </tr>\n",
              "    <tr>\n",
              "      <th>17328041</th>\n",
              "      <td>9/30/2018</td>\n",
              "      <td>20:07:23</td>\n",
              "      <td>99989</td>\n",
              "      <td>474</td>\n",
              "      <td>1455567</td>\n",
              "      <td>BRUSH SCRUB HANG-UP</td>\n",
              "      <td>1.23</td>\n",
              "    </tr>\n",
              "    <tr>\n",
              "      <th>17328042</th>\n",
              "      <td>9/30/2018</td>\n",
              "      <td>20:07:23</td>\n",
              "      <td>99989</td>\n",
              "      <td>474</td>\n",
              "      <td>2301166</td>\n",
              "      <td>CM SLIDE LOCK KNIFE</td>\n",
              "      <td>5.67</td>\n",
              "    </tr>\n",
              "    <tr>\n",
              "      <th>17328043</th>\n",
              "      <td>\u001a</td>\n",
              "      <td>NaN</td>\n",
              "      <td>NaN</td>\n",
              "      <td>NaN</td>\n",
              "      <td>NaN</td>\n",
              "      <td>NaN</td>\n",
              "      <td>NaN</td>\n",
              "    </tr>\n",
              "  </tbody>\n",
              "</table>\n",
              "</div>"
            ],
            "text/plain": [
              "               Date Transaction Time  ...              Item Description Net Sales\n",
              "17327994  9/30/2018         18:07:47  ...      TRAP SPIDER & CRICKET PK     13.98\n",
              "17327995  9/30/2018         18:07:47  ...                        $5 OFF        -5\n",
              "17327996  9/30/2018         18:07:52  ...      CLEANR KABOOM TLEGRT32OZ      4.87\n",
              "17327997  9/30/2018         18:07:52  ...       CLEANR BATHROOM 20OZ SB      4.45\n",
              "17327998  9/30/2018         18:07:52  ...      LINER MAGNTC 70X71 CLEAR       1.7\n",
              "17327999  9/30/2018         18:08:26  ...       ACE BAG 13GAL 22CT DRAW      3.36\n",
              "17328000  9/30/2018         18:08:45  ...      WALLBOARD ANC KIT 21NC#8     19.99\n",
              "17328001  9/30/2018         18:08:45  ...      BATTRY ALKLN DURA 9V CD2     10.49\n",
              "17328002  9/30/2018         18:09:20  ...     60 WATT CL APPLIANCE BULB      8.97\n",
              "17328003  9/30/2018         18:09:20  ...        FLYING INSECT KLLR18OZ         0\n",
              "17328004  9/30/2018         18:09:20  ...        FLYING INSECT KLLR18OZ      3.99\n",
              "17328005  9/30/2018         18:09:21  ...         SHARKBITE TEE 1/2\" LF     12.99\n",
              "17328006  9/30/2018         18:09:21  ...      SB HI-EAR ELBOW 1/2\"F LF      8.99\n",
              "17328007  9/30/2018         18:09:50  ...      STAPLE COXL GRY7/16\"CD15      7.98\n",
              "17328008  9/30/2018         18:09:50  ...                        $5 OFF        -5\n",
              "17328009  9/30/2018         18:10:59  ...        FILLR WOOD STNABLE 1OZ      7.49\n",
              "17328010  9/30/2018         18:10:59  ...       PUTTY PAINTRS 1/2PT DAP      5.99\n",
              "17328011  9/30/2018         18:10:59  ...        PUTTY WOOD RED MAHOGNY      4.99\n",
              "17328012  9/30/2018         18:11:00  ...                     FASTENERS       0.6\n",
              "17328013  9/30/2018         18:11:00  ...                     FASTENERS      9.54\n",
              "17328014  9/30/2018         18:11:38  ...                     FASTENERS      3.57\n",
              "17328015  9/30/2018         18:11:38  ...                     FASTENERS      2.67\n",
              "17328016  9/30/2018         18:11:38  ...                     FASTENERS         2\n",
              "17328017  9/30/2018         18:11:38  ...                     FASTENERS      0.98\n",
              "17328018  9/30/2018         18:14:20  ...      SANDPAPR ALOX9X11 MED5PK      1.17\n",
              "17328019  9/30/2018         18:16:03  ...       POSTER STRPS SM COMMAND     10.49\n",
              "17328020  9/30/2018         18:16:03  ...                DR PEPPER 20OZ      1.22\n",
              "17328021  9/30/2018         18:16:03  ...                 CMN Donations         1\n",
              "17328022  9/30/2018         18:16:03  ...        PATTIE YORK MINT 1.5OZ      0.89\n",
              "17328023  9/30/2018         18:17:28  ...      COLOR SAMPLE BM BASE1 PT      6.99\n",
              "17328024  9/30/2018         18:17:28  ...      STAIN MINWX8OZ WTHRD OAK      7.99\n",
              "17328025  9/30/2018         18:17:28  ...      STAIN MINWX 8OZ DRFTWOOD      7.99\n",
              "17328026  9/30/2018         18:17:30  ...              REVENGE RAT TRAP      2.99\n",
              "17328027  9/30/2018         18:17:30  ...               TRAP RAT VICTOR      3.99\n",
              "17328028  9/30/2018         18:17:30  ...      ANCHOR 10-12W/WH SCRWCD4      2.69\n",
              "17328029  9/30/2018         18:17:30  ...      JNT CMPND ALL PURP 1.75P      5.99\n",
              "17328030  9/30/2018         18:17:30  ...          GOO GONE REMOVER 2OZ      2.99\n",
              "17328031  9/30/2018         18:17:30  ...                 CMN Donations         1\n",
              "17328032  9/30/2018         18:19:37  ...       ADJUSTABLE FLAG BRACKET     17.99\n",
              "17328033  9/30/2018         18:19:37  ...             5' ALUM FLAG POLE     15.99\n",
              "17328034  9/30/2018         18:20:40  ...  PHILIP PN SMS Z 8X1 1/4  100      2.88\n",
              "17328035  9/30/2018         18:20:40  ...      XL-TR WSH LATH SP 8X1.25      2.35\n",
              "17328036  9/30/2018         18:21:20  ...      TRAP SPIDER & CRICKET PK     13.98\n",
              "17328037  9/30/2018         18:37:18  ...       9A19 LED 120V 2700K 4PK      7.99\n",
              "17328038  9/30/2018         20:07:23  ...      BATTRY ALKLN AAA CD4 ACE      1.06\n",
              "17328039  9/30/2018         20:07:23  ...         PALMYRA PUSHBROOM 18\"       7.7\n",
              "17328040  9/30/2018         20:07:23  ...        WIRE BRUSH MINI SS 3PK      1.21\n",
              "17328041  9/30/2018         20:07:23  ...           BRUSH SCRUB HANG-UP      1.23\n",
              "17328042  9/30/2018         20:07:23  ...           CM SLIDE LOCK KNIFE      5.67\n",
              "17328043          \u001a              NaN  ...                           NaN       NaN\n",
              "\n",
              "[50 rows x 7 columns]"
            ]
          },
          "metadata": {
            "tags": []
          },
          "execution_count": 8
        }
      ]
    },
    {
      "cell_type": "markdown",
      "metadata": {
        "id": "YdPEpsZAsDz2",
        "colab_type": "text"
      },
      "source": [
        "**Data Preprocessing**"
      ]
    },
    {
      "cell_type": "code",
      "metadata": {
        "id": "N5hRhpGvTdsF",
        "colab_type": "code",
        "outputId": "ba931c83-deba-4052-e1ee-bb55e2a616a2",
        "colab": {
          "base_uri": "https://localhost:8080/",
          "height": 151
        }
      },
      "source": [
        "train_RFM.isna().sum()"
      ],
      "execution_count": 9,
      "outputs": [
        {
          "output_type": "execute_result",
          "data": {
            "text/plain": [
              "Date                 0\n",
              "Transaction Time     1\n",
              "Customer Number     63\n",
              "Receipt Number       1\n",
              "Item Number          1\n",
              "Item Description     1\n",
              "Net Sales            1\n",
              "dtype: int64"
            ]
          },
          "metadata": {
            "tags": []
          },
          "execution_count": 9
        }
      ]
    },
    {
      "cell_type": "code",
      "metadata": {
        "id": "YCPZxPQmZ07X",
        "colab_type": "code",
        "colab": {}
      },
      "source": [
        "train_RFM = train_RFM.drop(train_RFM.loc[train_RFM['Customer Number'].isnull()].index) # Removing all record with NaN value\n"
      ],
      "execution_count": 0,
      "outputs": []
    },
    {
      "cell_type": "code",
      "metadata": {
        "id": "fdQxG6UNcZTQ",
        "colab_type": "code",
        "outputId": "d89ef50a-b96f-4749-fea4-249b89245fa8",
        "colab": {
          "base_uri": "https://localhost:8080/",
          "height": 151
        }
      },
      "source": [
        "train_RFM.isna().sum()"
      ],
      "execution_count": 11,
      "outputs": [
        {
          "output_type": "execute_result",
          "data": {
            "text/plain": [
              "Date                0\n",
              "Transaction Time    0\n",
              "Customer Number     0\n",
              "Receipt Number      0\n",
              "Item Number         0\n",
              "Item Description    0\n",
              "Net Sales           0\n",
              "dtype: int64"
            ]
          },
          "metadata": {
            "tags": []
          },
          "execution_count": 11
        }
      ]
    },
    {
      "cell_type": "code",
      "metadata": {
        "id": "F8LB1m1iZ6Gy",
        "colab_type": "code",
        "outputId": "04b71711-dfa8-4d2e-dce2-3a7298d5559c",
        "colab": {
          "base_uri": "https://localhost:8080/",
          "height": 639
        }
      },
      "source": [
        "train_RFM.tail(20)"
      ],
      "execution_count": 12,
      "outputs": [
        {
          "output_type": "execute_result",
          "data": {
            "text/html": [
              "<div>\n",
              "<style scoped>\n",
              "    .dataframe tbody tr th:only-of-type {\n",
              "        vertical-align: middle;\n",
              "    }\n",
              "\n",
              "    .dataframe tbody tr th {\n",
              "        vertical-align: top;\n",
              "    }\n",
              "\n",
              "    .dataframe thead th {\n",
              "        text-align: right;\n",
              "    }\n",
              "</style>\n",
              "<table border=\"1\" class=\"dataframe\">\n",
              "  <thead>\n",
              "    <tr style=\"text-align: right;\">\n",
              "      <th></th>\n",
              "      <th>Date</th>\n",
              "      <th>Transaction Time</th>\n",
              "      <th>Customer Number</th>\n",
              "      <th>Receipt Number</th>\n",
              "      <th>Item Number</th>\n",
              "      <th>Item Description</th>\n",
              "      <th>Net Sales</th>\n",
              "    </tr>\n",
              "  </thead>\n",
              "  <tbody>\n",
              "    <tr>\n",
              "      <th>17328023</th>\n",
              "      <td>9/30/2018</td>\n",
              "      <td>18:17:28</td>\n",
              "      <td>145989</td>\n",
              "      <td>H88641</td>\n",
              "      <td>B01271XH</td>\n",
              "      <td>COLOR SAMPLE BM BASE1 PT</td>\n",
              "      <td>6.99</td>\n",
              "    </tr>\n",
              "    <tr>\n",
              "      <th>17328024</th>\n",
              "      <td>9/30/2018</td>\n",
              "      <td>18:17:28</td>\n",
              "      <td>145989</td>\n",
              "      <td>H88641</td>\n",
              "      <td>1515014</td>\n",
              "      <td>STAIN MINWX8OZ WTHRD OAK</td>\n",
              "      <td>7.99</td>\n",
              "    </tr>\n",
              "    <tr>\n",
              "      <th>17328025</th>\n",
              "      <td>9/30/2018</td>\n",
              "      <td>18:17:28</td>\n",
              "      <td>145989</td>\n",
              "      <td>H88641</td>\n",
              "      <td>12389</td>\n",
              "      <td>STAIN MINWX 8OZ DRFTWOOD</td>\n",
              "      <td>7.99</td>\n",
              "    </tr>\n",
              "    <tr>\n",
              "      <th>17328026</th>\n",
              "      <td>9/30/2018</td>\n",
              "      <td>18:17:30</td>\n",
              "      <td>297854</td>\n",
              "      <td>B52085</td>\n",
              "      <td>AR47070</td>\n",
              "      <td>REVENGE RAT TRAP</td>\n",
              "      <td>2.99</td>\n",
              "    </tr>\n",
              "    <tr>\n",
              "      <th>17328027</th>\n",
              "      <td>9/30/2018</td>\n",
              "      <td>18:17:30</td>\n",
              "      <td>297854</td>\n",
              "      <td>B52085</td>\n",
              "      <td>70737</td>\n",
              "      <td>TRAP RAT VICTOR</td>\n",
              "      <td>3.99</td>\n",
              "    </tr>\n",
              "    <tr>\n",
              "      <th>17328028</th>\n",
              "      <td>9/30/2018</td>\n",
              "      <td>18:17:30</td>\n",
              "      <td>297854</td>\n",
              "      <td>B52085</td>\n",
              "      <td>5333075</td>\n",
              "      <td>ANCHOR 10-12W/WH SCRWCD4</td>\n",
              "      <td>2.69</td>\n",
              "    </tr>\n",
              "    <tr>\n",
              "      <th>17328029</th>\n",
              "      <td>9/30/2018</td>\n",
              "      <td>18:17:30</td>\n",
              "      <td>297854</td>\n",
              "      <td>B52085</td>\n",
              "      <td>1011006</td>\n",
              "      <td>JNT CMPND ALL PURP 1.75P</td>\n",
              "      <td>5.99</td>\n",
              "    </tr>\n",
              "    <tr>\n",
              "      <th>17328030</th>\n",
              "      <td>9/30/2018</td>\n",
              "      <td>18:17:30</td>\n",
              "      <td>297854</td>\n",
              "      <td>B52085</td>\n",
              "      <td>1504125</td>\n",
              "      <td>GOO GONE REMOVER 2OZ</td>\n",
              "      <td>2.99</td>\n",
              "    </tr>\n",
              "    <tr>\n",
              "      <th>17328031</th>\n",
              "      <td>9/30/2018</td>\n",
              "      <td>18:17:30</td>\n",
              "      <td>297854</td>\n",
              "      <td>B52085</td>\n",
              "      <td>9269862</td>\n",
              "      <td>CMN Donations</td>\n",
              "      <td>1</td>\n",
              "    </tr>\n",
              "    <tr>\n",
              "      <th>17328032</th>\n",
              "      <td>9/30/2018</td>\n",
              "      <td>18:19:37</td>\n",
              "      <td>442546</td>\n",
              "      <td>B02346</td>\n",
              "      <td>7055973</td>\n",
              "      <td>ADJUSTABLE FLAG BRACKET</td>\n",
              "      <td>17.99</td>\n",
              "    </tr>\n",
              "    <tr>\n",
              "      <th>17328033</th>\n",
              "      <td>9/30/2018</td>\n",
              "      <td>18:19:37</td>\n",
              "      <td>442546</td>\n",
              "      <td>B02346</td>\n",
              "      <td>7098189</td>\n",
              "      <td>5' ALUM FLAG POLE</td>\n",
              "      <td>15.99</td>\n",
              "    </tr>\n",
              "    <tr>\n",
              "      <th>17328034</th>\n",
              "      <td>9/30/2018</td>\n",
              "      <td>18:20:40</td>\n",
              "      <td>500218</td>\n",
              "      <td>H88642</td>\n",
              "      <td>H80051</td>\n",
              "      <td>PHILIP PN SMS Z 8X1 1/4  100</td>\n",
              "      <td>2.88</td>\n",
              "    </tr>\n",
              "    <tr>\n",
              "      <th>17328035</th>\n",
              "      <td>9/30/2018</td>\n",
              "      <td>18:20:40</td>\n",
              "      <td>500218</td>\n",
              "      <td>H88642</td>\n",
              "      <td>H48023</td>\n",
              "      <td>XL-TR WSH LATH SP 8X1.25</td>\n",
              "      <td>2.35</td>\n",
              "    </tr>\n",
              "    <tr>\n",
              "      <th>17328036</th>\n",
              "      <td>9/30/2018</td>\n",
              "      <td>18:21:20</td>\n",
              "      <td>*5</td>\n",
              "      <td>B02347</td>\n",
              "      <td>7104888</td>\n",
              "      <td>TRAP SPIDER &amp; CRICKET PK</td>\n",
              "      <td>13.98</td>\n",
              "    </tr>\n",
              "    <tr>\n",
              "      <th>17328037</th>\n",
              "      <td>9/30/2018</td>\n",
              "      <td>18:37:18</td>\n",
              "      <td>*5</td>\n",
              "      <td>B52086</td>\n",
              "      <td>S9596</td>\n",
              "      <td>9A19 LED 120V 2700K 4PK</td>\n",
              "      <td>7.99</td>\n",
              "    </tr>\n",
              "    <tr>\n",
              "      <th>17328038</th>\n",
              "      <td>9/30/2018</td>\n",
              "      <td>20:07:23</td>\n",
              "      <td>99989</td>\n",
              "      <td>474</td>\n",
              "      <td>3016607</td>\n",
              "      <td>BATTRY ALKLN AAA CD4 ACE</td>\n",
              "      <td>1.06</td>\n",
              "    </tr>\n",
              "    <tr>\n",
              "      <th>17328039</th>\n",
              "      <td>9/30/2018</td>\n",
              "      <td>20:07:23</td>\n",
              "      <td>99989</td>\n",
              "      <td>474</td>\n",
              "      <td>10541</td>\n",
              "      <td>PALMYRA PUSHBROOM 18\"</td>\n",
              "      <td>7.7</td>\n",
              "    </tr>\n",
              "    <tr>\n",
              "      <th>17328040</th>\n",
              "      <td>9/30/2018</td>\n",
              "      <td>20:07:23</td>\n",
              "      <td>99989</td>\n",
              "      <td>474</td>\n",
              "      <td>12172</td>\n",
              "      <td>WIRE BRUSH MINI SS 3PK</td>\n",
              "      <td>1.21</td>\n",
              "    </tr>\n",
              "    <tr>\n",
              "      <th>17328041</th>\n",
              "      <td>9/30/2018</td>\n",
              "      <td>20:07:23</td>\n",
              "      <td>99989</td>\n",
              "      <td>474</td>\n",
              "      <td>1455567</td>\n",
              "      <td>BRUSH SCRUB HANG-UP</td>\n",
              "      <td>1.23</td>\n",
              "    </tr>\n",
              "    <tr>\n",
              "      <th>17328042</th>\n",
              "      <td>9/30/2018</td>\n",
              "      <td>20:07:23</td>\n",
              "      <td>99989</td>\n",
              "      <td>474</td>\n",
              "      <td>2301166</td>\n",
              "      <td>CM SLIDE LOCK KNIFE</td>\n",
              "      <td>5.67</td>\n",
              "    </tr>\n",
              "  </tbody>\n",
              "</table>\n",
              "</div>"
            ],
            "text/plain": [
              "               Date Transaction Time  ...              Item Description Net Sales\n",
              "17328023  9/30/2018         18:17:28  ...      COLOR SAMPLE BM BASE1 PT      6.99\n",
              "17328024  9/30/2018         18:17:28  ...      STAIN MINWX8OZ WTHRD OAK      7.99\n",
              "17328025  9/30/2018         18:17:28  ...      STAIN MINWX 8OZ DRFTWOOD      7.99\n",
              "17328026  9/30/2018         18:17:30  ...              REVENGE RAT TRAP      2.99\n",
              "17328027  9/30/2018         18:17:30  ...               TRAP RAT VICTOR      3.99\n",
              "17328028  9/30/2018         18:17:30  ...      ANCHOR 10-12W/WH SCRWCD4      2.69\n",
              "17328029  9/30/2018         18:17:30  ...      JNT CMPND ALL PURP 1.75P      5.99\n",
              "17328030  9/30/2018         18:17:30  ...          GOO GONE REMOVER 2OZ      2.99\n",
              "17328031  9/30/2018         18:17:30  ...                 CMN Donations         1\n",
              "17328032  9/30/2018         18:19:37  ...       ADJUSTABLE FLAG BRACKET     17.99\n",
              "17328033  9/30/2018         18:19:37  ...             5' ALUM FLAG POLE     15.99\n",
              "17328034  9/30/2018         18:20:40  ...  PHILIP PN SMS Z 8X1 1/4  100      2.88\n",
              "17328035  9/30/2018         18:20:40  ...      XL-TR WSH LATH SP 8X1.25      2.35\n",
              "17328036  9/30/2018         18:21:20  ...      TRAP SPIDER & CRICKET PK     13.98\n",
              "17328037  9/30/2018         18:37:18  ...       9A19 LED 120V 2700K 4PK      7.99\n",
              "17328038  9/30/2018         20:07:23  ...      BATTRY ALKLN AAA CD4 ACE      1.06\n",
              "17328039  9/30/2018         20:07:23  ...         PALMYRA PUSHBROOM 18\"       7.7\n",
              "17328040  9/30/2018         20:07:23  ...        WIRE BRUSH MINI SS 3PK      1.21\n",
              "17328041  9/30/2018         20:07:23  ...           BRUSH SCRUB HANG-UP      1.23\n",
              "17328042  9/30/2018         20:07:23  ...           CM SLIDE LOCK KNIFE      5.67\n",
              "\n",
              "[20 rows x 7 columns]"
            ]
          },
          "metadata": {
            "tags": []
          },
          "execution_count": 12
        }
      ]
    },
    {
      "cell_type": "code",
      "metadata": {
        "id": "6SkchylRpaS4",
        "colab_type": "code",
        "colab": {}
      },
      "source": [
        ""
      ],
      "execution_count": 0,
      "outputs": []
    },
    {
      "cell_type": "code",
      "metadata": {
        "id": "YO4nqBhZoGlD",
        "colab_type": "code",
        "colab": {}
      },
      "source": [
        "#train_RFM['Date'] = train_RFM['Date'].astype('str')"
      ],
      "execution_count": 0,
      "outputs": []
    },
    {
      "cell_type": "code",
      "metadata": {
        "id": "mOzK-lnvn1MS",
        "colab_type": "code",
        "colab": {}
      },
      "source": [
        "train_RFM=train_RFM.sort_values(by = ['Date'])"
      ],
      "execution_count": 0,
      "outputs": []
    },
    {
      "cell_type": "code",
      "metadata": {
        "id": "FJ-HLBmFp_Iv",
        "colab_type": "code",
        "colab": {}
      },
      "source": [
        "size = train_RFM.shape[0]-25\n",
        "train_RFM = train_RFM[0:size]"
      ],
      "execution_count": 0,
      "outputs": []
    },
    {
      "cell_type": "code",
      "metadata": {
        "id": "a5Exs6aljs3x",
        "colab_type": "code",
        "colab": {}
      },
      "source": [
        "\n",
        "train_RFM['Date'] = pd.to_datetime(train_RFM['Date'])\n",
        "#train_RFM['year'] = train_RFM['Date'].dt.year\n"
      ],
      "execution_count": 0,
      "outputs": []
    },
    {
      "cell_type": "code",
      "metadata": {
        "id": "vq2qkpTDp6x_",
        "colab_type": "code",
        "colab": {}
      },
      "source": [
        "train_RFM['year'], train_RFM['months'] = train_RFM['Date'].dt.year, train_RFM['Date'].dt.month"
      ],
      "execution_count": 0,
      "outputs": []
    },
    {
      "cell_type": "code",
      "metadata": {
        "id": "0MbBRanFqDQ-",
        "colab_type": "code",
        "outputId": "8a2dfadf-ad71-4ac3-acec-008eff815664",
        "colab": {
          "base_uri": "https://localhost:8080/",
          "height": 402
        }
      },
      "source": [
        "train_RFM"
      ],
      "execution_count": 18,
      "outputs": [
        {
          "output_type": "execute_result",
          "data": {
            "text/html": [
              "<div>\n",
              "<style scoped>\n",
              "    .dataframe tbody tr th:only-of-type {\n",
              "        vertical-align: middle;\n",
              "    }\n",
              "\n",
              "    .dataframe tbody tr th {\n",
              "        vertical-align: top;\n",
              "    }\n",
              "\n",
              "    .dataframe thead th {\n",
              "        text-align: right;\n",
              "    }\n",
              "</style>\n",
              "<table border=\"1\" class=\"dataframe\">\n",
              "  <thead>\n",
              "    <tr style=\"text-align: right;\">\n",
              "      <th></th>\n",
              "      <th>Date</th>\n",
              "      <th>Transaction Time</th>\n",
              "      <th>Customer Number</th>\n",
              "      <th>Receipt Number</th>\n",
              "      <th>Item Number</th>\n",
              "      <th>Item Description</th>\n",
              "      <th>Net Sales</th>\n",
              "      <th>year</th>\n",
              "      <th>months</th>\n",
              "    </tr>\n",
              "  </thead>\n",
              "  <tbody>\n",
              "    <tr>\n",
              "      <th>5868993</th>\n",
              "      <td>2017-01-01</td>\n",
              "      <td>15:54:38</td>\n",
              "      <td>30247</td>\n",
              "      <td>B15056</td>\n",
              "      <td>6237762</td>\n",
              "      <td>GLAD FORCEFLEX BLK 50CT</td>\n",
              "      <td>12.74</td>\n",
              "      <td>2017</td>\n",
              "      <td>1</td>\n",
              "    </tr>\n",
              "    <tr>\n",
              "      <th>5863918</th>\n",
              "      <td>2017-01-01</td>\n",
              "      <td>14:26:52</td>\n",
              "      <td>233070</td>\n",
              "      <td>A15017</td>\n",
              "      <td>30733</td>\n",
              "      <td>BOX SGL GNG PVC OW 14CU\"</td>\n",
              "      <td>1.99</td>\n",
              "      <td>2017</td>\n",
              "      <td>1</td>\n",
              "    </tr>\n",
              "    <tr>\n",
              "      <th>5863919</th>\n",
              "      <td>2017-01-01</td>\n",
              "      <td>14:26:52</td>\n",
              "      <td>*5</td>\n",
              "      <td>I29245</td>\n",
              "      <td>PSWITCH832</td>\n",
              "      <td>LED NIGHT LIGHT SWITCH 2PK</td>\n",
              "      <td>11.24</td>\n",
              "      <td>2017</td>\n",
              "      <td>1</td>\n",
              "    </tr>\n",
              "    <tr>\n",
              "      <th>5863920</th>\n",
              "      <td>2017-01-01</td>\n",
              "      <td>14:26:52</td>\n",
              "      <td>233070</td>\n",
              "      <td>A15017</td>\n",
              "      <td>3202181</td>\n",
              "      <td>BLANK WALLPLATE 1G WHITE</td>\n",
              "      <td>0.99</td>\n",
              "      <td>2017</td>\n",
              "      <td>1</td>\n",
              "    </tr>\n",
              "    <tr>\n",
              "      <th>5863921</th>\n",
              "      <td>2017-01-01</td>\n",
              "      <td>14:26:52</td>\n",
              "      <td>233070</td>\n",
              "      <td>A15017</td>\n",
              "      <td>33180</td>\n",
              "      <td>TAPE ELECT3/4X60'VYL ACE</td>\n",
              "      <td>0.99</td>\n",
              "      <td>2017</td>\n",
              "      <td>1</td>\n",
              "    </tr>\n",
              "    <tr>\n",
              "      <th>...</th>\n",
              "      <td>...</td>\n",
              "      <td>...</td>\n",
              "      <td>...</td>\n",
              "      <td>...</td>\n",
              "      <td>...</td>\n",
              "      <td>...</td>\n",
              "      <td>...</td>\n",
              "      <td>...</td>\n",
              "      <td>...</td>\n",
              "    </tr>\n",
              "    <tr>\n",
              "      <th>16867755</th>\n",
              "      <td>2018-09-09</td>\n",
              "      <td>12:05:21</td>\n",
              "      <td>136015</td>\n",
              "      <td>B43393</td>\n",
              "      <td>37009048</td>\n",
              "      <td>9\" PLASTIC TRAY LINER</td>\n",
              "      <td>1.98</td>\n",
              "      <td>2018</td>\n",
              "      <td>9</td>\n",
              "    </tr>\n",
              "    <tr>\n",
              "      <th>16867754</th>\n",
              "      <td>2018-09-09</td>\n",
              "      <td>12:05:21</td>\n",
              "      <td>136015</td>\n",
              "      <td>B43393</td>\n",
              "      <td>18159</td>\n",
              "      <td>PAD REPLACE TRIMLINE2PK</td>\n",
              "      <td>5.49</td>\n",
              "      <td>2018</td>\n",
              "      <td>9</td>\n",
              "    </tr>\n",
              "    <tr>\n",
              "      <th>16867753</th>\n",
              "      <td>2018-09-09</td>\n",
              "      <td>12:05:21</td>\n",
              "      <td>136015</td>\n",
              "      <td>B43393</td>\n",
              "      <td>18158</td>\n",
              "      <td>PAINT EDGER</td>\n",
              "      <td>4.99</td>\n",
              "      <td>2018</td>\n",
              "      <td>9</td>\n",
              "    </tr>\n",
              "    <tr>\n",
              "      <th>16867752</th>\n",
              "      <td>2018-09-09</td>\n",
              "      <td>12:05:21</td>\n",
              "      <td>136015</td>\n",
              "      <td>B43393</td>\n",
              "      <td>68003060</td>\n",
              "      <td>3\" TRIM &amp; TOUCH UP ROLLER KIT</td>\n",
              "      <td>4.99</td>\n",
              "      <td>2018</td>\n",
              "      <td>9</td>\n",
              "    </tr>\n",
              "    <tr>\n",
              "      <th>16867751</th>\n",
              "      <td>2018-09-09</td>\n",
              "      <td>12:05:19</td>\n",
              "      <td>*5</td>\n",
              "      <td>F84625</td>\n",
              "      <td>4495354</td>\n",
              "      <td>AUGER 1/4\"X25' PISTOL GR</td>\n",
              "      <td>-29.99</td>\n",
              "      <td>2018</td>\n",
              "      <td>9</td>\n",
              "    </tr>\n",
              "  </tbody>\n",
              "</table>\n",
              "<p>17327956 rows × 9 columns</p>\n",
              "</div>"
            ],
            "text/plain": [
              "               Date Transaction Time Customer Number  ... Net Sales  year months\n",
              "5868993  2017-01-01         15:54:38           30247  ...     12.74  2017      1\n",
              "5863918  2017-01-01         14:26:52          233070  ...      1.99  2017      1\n",
              "5863919  2017-01-01         14:26:52              *5  ...     11.24  2017      1\n",
              "5863920  2017-01-01         14:26:52          233070  ...      0.99  2017      1\n",
              "5863921  2017-01-01         14:26:52          233070  ...      0.99  2017      1\n",
              "...             ...              ...             ...  ...       ...   ...    ...\n",
              "16867755 2018-09-09         12:05:21          136015  ...      1.98  2018      9\n",
              "16867754 2018-09-09         12:05:21          136015  ...      5.49  2018      9\n",
              "16867753 2018-09-09         12:05:21          136015  ...      4.99  2018      9\n",
              "16867752 2018-09-09         12:05:21          136015  ...      4.99  2018      9\n",
              "16867751 2018-09-09         12:05:19              *5  ...    -29.99  2018      9\n",
              "\n",
              "[17327956 rows x 9 columns]"
            ]
          },
          "metadata": {
            "tags": []
          },
          "execution_count": 18
        }
      ]
    },
    {
      "cell_type": "code",
      "metadata": {
        "id": "j57s8xIXqHdd",
        "colab_type": "code",
        "colab": {}
      },
      "source": [
        "train_RFM['months']=train_RFM.months.astype(str).str.zfill(2)\n"
      ],
      "execution_count": 0,
      "outputs": []
    },
    {
      "cell_type": "code",
      "metadata": {
        "id": "vLF5kZARqTbR",
        "colab_type": "code",
        "outputId": "985ad7a8-54fb-4756-d54b-8c52b90618a0",
        "colab": {
          "base_uri": "https://localhost:8080/",
          "height": 195
        }
      },
      "source": [
        "train_RFM.head()"
      ],
      "execution_count": 20,
      "outputs": [
        {
          "output_type": "execute_result",
          "data": {
            "text/html": [
              "<div>\n",
              "<style scoped>\n",
              "    .dataframe tbody tr th:only-of-type {\n",
              "        vertical-align: middle;\n",
              "    }\n",
              "\n",
              "    .dataframe tbody tr th {\n",
              "        vertical-align: top;\n",
              "    }\n",
              "\n",
              "    .dataframe thead th {\n",
              "        text-align: right;\n",
              "    }\n",
              "</style>\n",
              "<table border=\"1\" class=\"dataframe\">\n",
              "  <thead>\n",
              "    <tr style=\"text-align: right;\">\n",
              "      <th></th>\n",
              "      <th>Date</th>\n",
              "      <th>Transaction Time</th>\n",
              "      <th>Customer Number</th>\n",
              "      <th>Receipt Number</th>\n",
              "      <th>Item Number</th>\n",
              "      <th>Item Description</th>\n",
              "      <th>Net Sales</th>\n",
              "      <th>year</th>\n",
              "      <th>months</th>\n",
              "    </tr>\n",
              "  </thead>\n",
              "  <tbody>\n",
              "    <tr>\n",
              "      <th>5868993</th>\n",
              "      <td>2017-01-01</td>\n",
              "      <td>15:54:38</td>\n",
              "      <td>30247</td>\n",
              "      <td>B15056</td>\n",
              "      <td>6237762</td>\n",
              "      <td>GLAD FORCEFLEX BLK 50CT</td>\n",
              "      <td>12.74</td>\n",
              "      <td>2017</td>\n",
              "      <td>01</td>\n",
              "    </tr>\n",
              "    <tr>\n",
              "      <th>5863918</th>\n",
              "      <td>2017-01-01</td>\n",
              "      <td>14:26:52</td>\n",
              "      <td>233070</td>\n",
              "      <td>A15017</td>\n",
              "      <td>30733</td>\n",
              "      <td>BOX SGL GNG PVC OW 14CU\"</td>\n",
              "      <td>1.99</td>\n",
              "      <td>2017</td>\n",
              "      <td>01</td>\n",
              "    </tr>\n",
              "    <tr>\n",
              "      <th>5863919</th>\n",
              "      <td>2017-01-01</td>\n",
              "      <td>14:26:52</td>\n",
              "      <td>*5</td>\n",
              "      <td>I29245</td>\n",
              "      <td>PSWITCH832</td>\n",
              "      <td>LED NIGHT LIGHT SWITCH 2PK</td>\n",
              "      <td>11.24</td>\n",
              "      <td>2017</td>\n",
              "      <td>01</td>\n",
              "    </tr>\n",
              "    <tr>\n",
              "      <th>5863920</th>\n",
              "      <td>2017-01-01</td>\n",
              "      <td>14:26:52</td>\n",
              "      <td>233070</td>\n",
              "      <td>A15017</td>\n",
              "      <td>3202181</td>\n",
              "      <td>BLANK WALLPLATE 1G WHITE</td>\n",
              "      <td>0.99</td>\n",
              "      <td>2017</td>\n",
              "      <td>01</td>\n",
              "    </tr>\n",
              "    <tr>\n",
              "      <th>5863921</th>\n",
              "      <td>2017-01-01</td>\n",
              "      <td>14:26:52</td>\n",
              "      <td>233070</td>\n",
              "      <td>A15017</td>\n",
              "      <td>33180</td>\n",
              "      <td>TAPE ELECT3/4X60'VYL ACE</td>\n",
              "      <td>0.99</td>\n",
              "      <td>2017</td>\n",
              "      <td>01</td>\n",
              "    </tr>\n",
              "  </tbody>\n",
              "</table>\n",
              "</div>"
            ],
            "text/plain": [
              "              Date Transaction Time Customer Number  ... Net Sales  year months\n",
              "5868993 2017-01-01         15:54:38           30247  ...     12.74  2017     01\n",
              "5863918 2017-01-01         14:26:52          233070  ...      1.99  2017     01\n",
              "5863919 2017-01-01         14:26:52              *5  ...     11.24  2017     01\n",
              "5863920 2017-01-01         14:26:52          233070  ...      0.99  2017     01\n",
              "5863921 2017-01-01         14:26:52          233070  ...      0.99  2017     01\n",
              "\n",
              "[5 rows x 9 columns]"
            ]
          },
          "metadata": {
            "tags": []
          },
          "execution_count": 20
        }
      ]
    },
    {
      "cell_type": "code",
      "metadata": {
        "id": "X_v6yIDTqdUi",
        "colab_type": "code",
        "colab": {}
      },
      "source": [
        "train_RFM['Date']=train_RFM['year'].astype('str') + train_RFM['months']\n"
      ],
      "execution_count": 0,
      "outputs": []
    },
    {
      "cell_type": "code",
      "metadata": {
        "id": "wCM2Qx83qyNa",
        "colab_type": "code",
        "outputId": "fc215530-0073-4de5-ced0-c3b5cd29e91c",
        "colab": {
          "base_uri": "https://localhost:8080/",
          "height": 1000
        }
      },
      "source": [
        "train_RFM.tail(50)"
      ],
      "execution_count": 22,
      "outputs": [
        {
          "output_type": "execute_result",
          "data": {
            "text/html": [
              "<div>\n",
              "<style scoped>\n",
              "    .dataframe tbody tr th:only-of-type {\n",
              "        vertical-align: middle;\n",
              "    }\n",
              "\n",
              "    .dataframe tbody tr th {\n",
              "        vertical-align: top;\n",
              "    }\n",
              "\n",
              "    .dataframe thead th {\n",
              "        text-align: right;\n",
              "    }\n",
              "</style>\n",
              "<table border=\"1\" class=\"dataframe\">\n",
              "  <thead>\n",
              "    <tr style=\"text-align: right;\">\n",
              "      <th></th>\n",
              "      <th>Date</th>\n",
              "      <th>Transaction Time</th>\n",
              "      <th>Customer Number</th>\n",
              "      <th>Receipt Number</th>\n",
              "      <th>Item Number</th>\n",
              "      <th>Item Description</th>\n",
              "      <th>Net Sales</th>\n",
              "      <th>year</th>\n",
              "      <th>months</th>\n",
              "    </tr>\n",
              "  </thead>\n",
              "  <tbody>\n",
              "    <tr>\n",
              "      <th>16867800</th>\n",
              "      <td>201809</td>\n",
              "      <td>12:06:06</td>\n",
              "      <td>*5</td>\n",
              "      <td>F84626</td>\n",
              "      <td>7105786</td>\n",
              "      <td>LIQUID ANT BAIT 6PK</td>\n",
              "      <td>6.99</td>\n",
              "      <td>2018</td>\n",
              "      <td>09</td>\n",
              "    </tr>\n",
              "    <tr>\n",
              "      <th>16867799</th>\n",
              "      <td>201809</td>\n",
              "      <td>12:06:06</td>\n",
              "      <td>*5</td>\n",
              "      <td>D94255</td>\n",
              "      <td>57063200</td>\n",
              "      <td>VT TITAN 2\" SHRT CT TRIM BSH</td>\n",
              "      <td>6.99</td>\n",
              "      <td>2018</td>\n",
              "      <td>09</td>\n",
              "    </tr>\n",
              "    <tr>\n",
              "      <th>16867798</th>\n",
              "      <td>201809</td>\n",
              "      <td>12:06:04</td>\n",
              "      <td>*5</td>\n",
              "      <td>G47821</td>\n",
              "      <td>10704</td>\n",
              "      <td>OIL MULTI-PURP 3IN1 3OZ</td>\n",
              "      <td>4.99</td>\n",
              "      <td>2018</td>\n",
              "      <td>09</td>\n",
              "    </tr>\n",
              "    <tr>\n",
              "      <th>16867797</th>\n",
              "      <td>201809</td>\n",
              "      <td>12:06:04</td>\n",
              "      <td>*5</td>\n",
              "      <td>G47821</td>\n",
              "      <td>70723</td>\n",
              "      <td>TWINE TW NYLON #18X525GD</td>\n",
              "      <td>10.49</td>\n",
              "      <td>2018</td>\n",
              "      <td>09</td>\n",
              "    </tr>\n",
              "    <tr>\n",
              "      <th>16867796</th>\n",
              "      <td>201809</td>\n",
              "      <td>12:06:04</td>\n",
              "      <td>*5</td>\n",
              "      <td>G47821</td>\n",
              "      <td>81355</td>\n",
              "      <td>FUNNEL FLEXIBLE 11\"</td>\n",
              "      <td>4.49</td>\n",
              "      <td>2018</td>\n",
              "      <td>09</td>\n",
              "    </tr>\n",
              "    <tr>\n",
              "      <th>16867795</th>\n",
              "      <td>201809</td>\n",
              "      <td>12:06:03</td>\n",
              "      <td>*A32VT</td>\n",
              "      <td>D32949</td>\n",
              "      <td>3435</td>\n",
              "      <td>CWB ORANGE SNITZ</td>\n",
              "      <td>1.79</td>\n",
              "      <td>2018</td>\n",
              "      <td>09</td>\n",
              "    </tr>\n",
              "    <tr>\n",
              "      <th>16867794</th>\n",
              "      <td>201809</td>\n",
              "      <td>12:06:03</td>\n",
              "      <td>*A32VT</td>\n",
              "      <td>D32949</td>\n",
              "      <td>8207433</td>\n",
              "      <td>HICKORY BBQ PELLETS 20LB</td>\n",
              "      <td>19.99</td>\n",
              "      <td>2018</td>\n",
              "      <td>09</td>\n",
              "    </tr>\n",
              "    <tr>\n",
              "      <th>16867793</th>\n",
              "      <td>201809</td>\n",
              "      <td>12:06:03</td>\n",
              "      <td>*A32VT</td>\n",
              "      <td>D32949</td>\n",
              "      <td>8306540</td>\n",
              "      <td>PECAN BBQ PELLETS 20LB</td>\n",
              "      <td>19.99</td>\n",
              "      <td>2018</td>\n",
              "      <td>09</td>\n",
              "    </tr>\n",
              "    <tr>\n",
              "      <th>16867792</th>\n",
              "      <td>201809</td>\n",
              "      <td>12:05:59</td>\n",
              "      <td>117005</td>\n",
              "      <td>J44340</td>\n",
              "      <td>9247289</td>\n",
              "      <td>HIGHLIGHTER FL YLW 2PK</td>\n",
              "      <td>2.99</td>\n",
              "      <td>2018</td>\n",
              "      <td>09</td>\n",
              "    </tr>\n",
              "    <tr>\n",
              "      <th>16867791</th>\n",
              "      <td>201809</td>\n",
              "      <td>12:05:59</td>\n",
              "      <td>117005</td>\n",
              "      <td>J44340</td>\n",
              "      <td>UT3PK</td>\n",
              "      <td>3PK UTILITY LIGHTER</td>\n",
              "      <td>5.99</td>\n",
              "      <td>2018</td>\n",
              "      <td>09</td>\n",
              "    </tr>\n",
              "    <tr>\n",
              "      <th>16867790</th>\n",
              "      <td>201809</td>\n",
              "      <td>12:05:59</td>\n",
              "      <td>117005</td>\n",
              "      <td>J44340</td>\n",
              "      <td>EA1173</td>\n",
              "      <td>MICRO NYLON WIRE 3'-ASST</td>\n",
              "      <td>9.98</td>\n",
              "      <td>2018</td>\n",
              "      <td>09</td>\n",
              "    </tr>\n",
              "    <tr>\n",
              "      <th>16867789</th>\n",
              "      <td>201809</td>\n",
              "      <td>12:05:59</td>\n",
              "      <td>117005</td>\n",
              "      <td>J44340</td>\n",
              "      <td>1491455</td>\n",
              "      <td>POLISH GRANITE GG 24OZ</td>\n",
              "      <td>10.49</td>\n",
              "      <td>2018</td>\n",
              "      <td>09</td>\n",
              "    </tr>\n",
              "    <tr>\n",
              "      <th>16867788</th>\n",
              "      <td>201809</td>\n",
              "      <td>12:05:58</td>\n",
              "      <td>427894</td>\n",
              "      <td>I55249</td>\n",
              "      <td>4101572</td>\n",
              "      <td>HOSE DISCHARGE 1-1/2\"</td>\n",
              "      <td>14.94</td>\n",
              "      <td>2018</td>\n",
              "      <td>09</td>\n",
              "    </tr>\n",
              "    <tr>\n",
              "      <th>16867787</th>\n",
              "      <td>201809</td>\n",
              "      <td>12:05:58</td>\n",
              "      <td>427894</td>\n",
              "      <td>I55249</td>\n",
              "      <td>4035465</td>\n",
              "      <td>HOSE SPA 1-1/2ID X 1.90D</td>\n",
              "      <td>41.93</td>\n",
              "      <td>2018</td>\n",
              "      <td>09</td>\n",
              "    </tr>\n",
              "    <tr>\n",
              "      <th>16867768</th>\n",
              "      <td>201809</td>\n",
              "      <td>12:05:36</td>\n",
              "      <td>501006</td>\n",
              "      <td>F64727</td>\n",
              "      <td>4172722</td>\n",
              "      <td>ALLERGEN FILTER 14X30X1</td>\n",
              "      <td>12.99</td>\n",
              "      <td>2018</td>\n",
              "      <td>09</td>\n",
              "    </tr>\n",
              "    <tr>\n",
              "      <th>16867767</th>\n",
              "      <td>201809</td>\n",
              "      <td>12:05:32</td>\n",
              "      <td>*5</td>\n",
              "      <td>A53386</td>\n",
              "      <td>88851</td>\n",
              "      <td>WINDSHIELD WASH ACE GAL</td>\n",
              "      <td>3.49</td>\n",
              "      <td>2018</td>\n",
              "      <td>09</td>\n",
              "    </tr>\n",
              "    <tr>\n",
              "      <th>16867771</th>\n",
              "      <td>201809</td>\n",
              "      <td>12:05:38</td>\n",
              "      <td>*5</td>\n",
              "      <td>U48365</td>\n",
              "      <td>3502994</td>\n",
              "      <td>PRO BATTERY CHARGER</td>\n",
              "      <td>24.99</td>\n",
              "      <td>2018</td>\n",
              "      <td>09</td>\n",
              "    </tr>\n",
              "    <tr>\n",
              "      <th>16867765</th>\n",
              "      <td>201809</td>\n",
              "      <td>12:05:32</td>\n",
              "      <td>*5</td>\n",
              "      <td>B73584</td>\n",
              "      <td>ARB7047026</td>\n",
              "      <td>REVENGE MOUSE GLUE TRAP 4PK</td>\n",
              "      <td>3.99</td>\n",
              "      <td>2018</td>\n",
              "      <td>09</td>\n",
              "    </tr>\n",
              "    <tr>\n",
              "      <th>16867745</th>\n",
              "      <td>201809</td>\n",
              "      <td>12:05:09</td>\n",
              "      <td>*A95JT</td>\n",
              "      <td>B73580</td>\n",
              "      <td>COUPON5</td>\n",
              "      <td>IN-STORE COUPON SAVE $5.00</td>\n",
              "      <td>-5</td>\n",
              "      <td>2018</td>\n",
              "      <td>09</td>\n",
              "    </tr>\n",
              "    <tr>\n",
              "      <th>16867744</th>\n",
              "      <td>201809</td>\n",
              "      <td>12:05:09</td>\n",
              "      <td>*5</td>\n",
              "      <td>G47820</td>\n",
              "      <td>2019966</td>\n",
              "      <td>MARKER CHINA RED</td>\n",
              "      <td>2.98</td>\n",
              "      <td>2018</td>\n",
              "      <td>09</td>\n",
              "    </tr>\n",
              "    <tr>\n",
              "      <th>16867766</th>\n",
              "      <td>201809</td>\n",
              "      <td>12:05:32</td>\n",
              "      <td>*5</td>\n",
              "      <td>A53386</td>\n",
              "      <td>21250SC1</td>\n",
              "      <td>KEY SCHLAGE SC1250PK</td>\n",
              "      <td>6.98</td>\n",
              "      <td>2018</td>\n",
              "      <td>09</td>\n",
              "    </tr>\n",
              "    <tr>\n",
              "      <th>16867742</th>\n",
              "      <td>201809</td>\n",
              "      <td>12:05:09</td>\n",
              "      <td>*5</td>\n",
              "      <td>G47820</td>\n",
              "      <td>56</td>\n",
              "      <td>FASTENERS</td>\n",
              "      <td>7.99</td>\n",
              "      <td>2018</td>\n",
              "      <td>09</td>\n",
              "    </tr>\n",
              "    <tr>\n",
              "      <th>16867741</th>\n",
              "      <td>201809</td>\n",
              "      <td>12:05:09</td>\n",
              "      <td>*A95JT</td>\n",
              "      <td>B73580</td>\n",
              "      <td>90658</td>\n",
              "      <td>CANDY LIFESAVR ASSORTED</td>\n",
              "      <td>0.99</td>\n",
              "      <td>2018</td>\n",
              "      <td>09</td>\n",
              "    </tr>\n",
              "    <tr>\n",
              "      <th>16867740</th>\n",
              "      <td>201809</td>\n",
              "      <td>12:05:09</td>\n",
              "      <td>*5</td>\n",
              "      <td>G47820</td>\n",
              "      <td>2071439</td>\n",
              "      <td>RULE TAPE 1-1/4\"X25'FAT</td>\n",
              "      <td>22.99</td>\n",
              "      <td>2018</td>\n",
              "      <td>09</td>\n",
              "    </tr>\n",
              "    <tr>\n",
              "      <th>16867746</th>\n",
              "      <td>201809</td>\n",
              "      <td>12:05:09</td>\n",
              "      <td>*5</td>\n",
              "      <td>G47820</td>\n",
              "      <td>BAG</td>\n",
              "      <td>SUFFOLK COUNTY BAG CHARGE</td>\n",
              "      <td>0.05</td>\n",
              "      <td>2018</td>\n",
              "      <td>09</td>\n",
              "    </tr>\n",
              "    <tr>\n",
              "      <th>16867739</th>\n",
              "      <td>201809</td>\n",
              "      <td>12:05:09</td>\n",
              "      <td>*A95JT</td>\n",
              "      <td>B73580</td>\n",
              "      <td>6165849</td>\n",
              "      <td>LATCHING TOTE 7.5QT CLR</td>\n",
              "      <td>7.98</td>\n",
              "      <td>2018</td>\n",
              "      <td>09</td>\n",
              "    </tr>\n",
              "    <tr>\n",
              "      <th>16867737</th>\n",
              "      <td>201809</td>\n",
              "      <td>12:05:03</td>\n",
              "      <td>*5</td>\n",
              "      <td>U48363</td>\n",
              "      <td>12293</td>\n",
              "      <td>LUBRICANT SLCN SPRY 11OZ</td>\n",
              "      <td>6.99</td>\n",
              "      <td>2018</td>\n",
              "      <td>09</td>\n",
              "    </tr>\n",
              "    <tr>\n",
              "      <th>16867736</th>\n",
              "      <td>201809</td>\n",
              "      <td>12:04:59</td>\n",
              "      <td>*5</td>\n",
              "      <td>B73645</td>\n",
              "      <td>8611261</td>\n",
              "      <td>CHAFING FUEL GEL 6.24OZ</td>\n",
              "      <td>6</td>\n",
              "      <td>2018</td>\n",
              "      <td>09</td>\n",
              "    </tr>\n",
              "    <tr>\n",
              "      <th>16867735</th>\n",
              "      <td>201809</td>\n",
              "      <td>12:04:55</td>\n",
              "      <td>*21885</td>\n",
              "      <td>H79270</td>\n",
              "      <td>1023381</td>\n",
              "      <td>SILICONE II K&amp;B CLR2.8OZ</td>\n",
              "      <td>12.98</td>\n",
              "      <td>2018</td>\n",
              "      <td>09</td>\n",
              "    </tr>\n",
              "    <tr>\n",
              "      <th>16867734</th>\n",
              "      <td>201809</td>\n",
              "      <td>12:04:49</td>\n",
              "      <td>*5</td>\n",
              "      <td>H27660</td>\n",
              "      <td>3008737</td>\n",
              "      <td>BATTERY WATCH/CALC 2032</td>\n",
              "      <td>11.98</td>\n",
              "      <td>2018</td>\n",
              "      <td>09</td>\n",
              "    </tr>\n",
              "    <tr>\n",
              "      <th>16867733</th>\n",
              "      <td>201809</td>\n",
              "      <td>12:04:47</td>\n",
              "      <td>340258</td>\n",
              "      <td>F64726</td>\n",
              "      <td>1211234</td>\n",
              "      <td>BRUSH DSHWASHING HOMEPRO</td>\n",
              "      <td>7.99</td>\n",
              "      <td>2018</td>\n",
              "      <td>09</td>\n",
              "    </tr>\n",
              "    <tr>\n",
              "      <th>16867732</th>\n",
              "      <td>201809</td>\n",
              "      <td>12:04:47</td>\n",
              "      <td>340258</td>\n",
              "      <td>F64726</td>\n",
              "      <td>1372168</td>\n",
              "      <td>CITRUS AIR FRSR SOLID8OZ</td>\n",
              "      <td>8.99</td>\n",
              "      <td>2018</td>\n",
              "      <td>09</td>\n",
              "    </tr>\n",
              "    <tr>\n",
              "      <th>16867738</th>\n",
              "      <td>201809</td>\n",
              "      <td>12:05:05</td>\n",
              "      <td>*5</td>\n",
              "      <td>U48364</td>\n",
              "      <td>3008737</td>\n",
              "      <td>BATTERY WATCH/CALC 2032</td>\n",
              "      <td>17.97</td>\n",
              "      <td>2018</td>\n",
              "      <td>09</td>\n",
              "    </tr>\n",
              "    <tr>\n",
              "      <th>16867747</th>\n",
              "      <td>201809</td>\n",
              "      <td>12:05:10</td>\n",
              "      <td>*5</td>\n",
              "      <td>C20712</td>\n",
              "      <td>36193</td>\n",
              "      <td>WIRE CONN WTPRF 4PK TAN</td>\n",
              "      <td>4.99</td>\n",
              "      <td>2018</td>\n",
              "      <td>09</td>\n",
              "    </tr>\n",
              "    <tr>\n",
              "      <th>16867743</th>\n",
              "      <td>201809</td>\n",
              "      <td>12:05:09</td>\n",
              "      <td>*A95JT</td>\n",
              "      <td>B73580</td>\n",
              "      <td>8478034</td>\n",
              "      <td>STEP STOOL 2STEPS 325LB</td>\n",
              "      <td>16.99</td>\n",
              "      <td>2018</td>\n",
              "      <td>09</td>\n",
              "    </tr>\n",
              "    <tr>\n",
              "      <th>16867749</th>\n",
              "      <td>201809</td>\n",
              "      <td>12:05:17</td>\n",
              "      <td>1511</td>\n",
              "      <td>I85200</td>\n",
              "      <td>1531359</td>\n",
              "      <td>WD40 SMART STRAW 8OZ</td>\n",
              "      <td>4.99</td>\n",
              "      <td>2018</td>\n",
              "      <td>09</td>\n",
              "    </tr>\n",
              "    <tr>\n",
              "      <th>16867764</th>\n",
              "      <td>201809</td>\n",
              "      <td>12:05:32</td>\n",
              "      <td>*5</td>\n",
              "      <td>A53386</td>\n",
              "      <td>3008737</td>\n",
              "      <td>BATTERY WATCH/CALC 2032</td>\n",
              "      <td>5.99</td>\n",
              "      <td>2018</td>\n",
              "      <td>09</td>\n",
              "    </tr>\n",
              "    <tr>\n",
              "      <th>16867763</th>\n",
              "      <td>201809</td>\n",
              "      <td>12:05:32</td>\n",
              "      <td>*5</td>\n",
              "      <td>B73584</td>\n",
              "      <td>51848</td>\n",
              "      <td>CLOTH HDW 24\"X5' 1/4\"MSH</td>\n",
              "      <td>14.99</td>\n",
              "      <td>2018</td>\n",
              "      <td>09</td>\n",
              "    </tr>\n",
              "    <tr>\n",
              "      <th>16867748</th>\n",
              "      <td>201809</td>\n",
              "      <td>12:05:10</td>\n",
              "      <td>*5</td>\n",
              "      <td>C20712</td>\n",
              "      <td>3121423</td>\n",
              "      <td>CONN WIRE AQUABL/RED CD5</td>\n",
              "      <td>5.99</td>\n",
              "      <td>2018</td>\n",
              "      <td>09</td>\n",
              "    </tr>\n",
              "    <tr>\n",
              "      <th>16867761</th>\n",
              "      <td>201809</td>\n",
              "      <td>12:05:29</td>\n",
              "      <td>131626</td>\n",
              "      <td>H79271</td>\n",
              "      <td>3294584</td>\n",
              "      <td>FUSETRON 30A EASYID CD/2</td>\n",
              "      <td>20.99</td>\n",
              "      <td>2018</td>\n",
              "      <td>09</td>\n",
              "    </tr>\n",
              "    <tr>\n",
              "      <th>16867760</th>\n",
              "      <td>201809</td>\n",
              "      <td>12:05:29</td>\n",
              "      <td>131626</td>\n",
              "      <td>H79271</td>\n",
              "      <td>4549952</td>\n",
              "      <td>PVC CMNT HT MD BL LVA8OZ</td>\n",
              "      <td>6.99</td>\n",
              "      <td>2018</td>\n",
              "      <td>09</td>\n",
              "    </tr>\n",
              "    <tr>\n",
              "      <th>16867759</th>\n",
              "      <td>201809</td>\n",
              "      <td>12:05:29</td>\n",
              "      <td>9109</td>\n",
              "      <td>E18889</td>\n",
              "      <td>3462686</td>\n",
              "      <td>BULB SOFTWHT 29W ACE 4PK</td>\n",
              "      <td>5.99</td>\n",
              "      <td>2018</td>\n",
              "      <td>09</td>\n",
              "    </tr>\n",
              "    <tr>\n",
              "      <th>16867758</th>\n",
              "      <td>201809</td>\n",
              "      <td>12:05:28</td>\n",
              "      <td>300014</td>\n",
              "      <td>F84624</td>\n",
              "      <td>HH50165</td>\n",
              "      <td>$5 REWARDF</td>\n",
              "      <td>-5</td>\n",
              "      <td>2018</td>\n",
              "      <td>09</td>\n",
              "    </tr>\n",
              "    <tr>\n",
              "      <th>16867762</th>\n",
              "      <td>201809</td>\n",
              "      <td>12:05:32</td>\n",
              "      <td>*5</td>\n",
              "      <td>A53386</td>\n",
              "      <td>12766</td>\n",
              "      <td>GLUE EPXY 5MIN .84OZTUBE</td>\n",
              "      <td>6.99</td>\n",
              "      <td>2018</td>\n",
              "      <td>09</td>\n",
              "    </tr>\n",
              "    <tr>\n",
              "      <th>16867756</th>\n",
              "      <td>201809</td>\n",
              "      <td>12:05:28</td>\n",
              "      <td>300014</td>\n",
              "      <td>F84624</td>\n",
              "      <td>56</td>\n",
              "      <td>FASTENERS</td>\n",
              "      <td>0.9</td>\n",
              "      <td>2018</td>\n",
              "      <td>09</td>\n",
              "    </tr>\n",
              "    <tr>\n",
              "      <th>16867755</th>\n",
              "      <td>201809</td>\n",
              "      <td>12:05:21</td>\n",
              "      <td>136015</td>\n",
              "      <td>B43393</td>\n",
              "      <td>37009048</td>\n",
              "      <td>9\" PLASTIC TRAY LINER</td>\n",
              "      <td>1.98</td>\n",
              "      <td>2018</td>\n",
              "      <td>09</td>\n",
              "    </tr>\n",
              "    <tr>\n",
              "      <th>16867754</th>\n",
              "      <td>201809</td>\n",
              "      <td>12:05:21</td>\n",
              "      <td>136015</td>\n",
              "      <td>B43393</td>\n",
              "      <td>18159</td>\n",
              "      <td>PAD REPLACE TRIMLINE2PK</td>\n",
              "      <td>5.49</td>\n",
              "      <td>2018</td>\n",
              "      <td>09</td>\n",
              "    </tr>\n",
              "    <tr>\n",
              "      <th>16867753</th>\n",
              "      <td>201809</td>\n",
              "      <td>12:05:21</td>\n",
              "      <td>136015</td>\n",
              "      <td>B43393</td>\n",
              "      <td>18158</td>\n",
              "      <td>PAINT EDGER</td>\n",
              "      <td>4.99</td>\n",
              "      <td>2018</td>\n",
              "      <td>09</td>\n",
              "    </tr>\n",
              "    <tr>\n",
              "      <th>16867752</th>\n",
              "      <td>201809</td>\n",
              "      <td>12:05:21</td>\n",
              "      <td>136015</td>\n",
              "      <td>B43393</td>\n",
              "      <td>68003060</td>\n",
              "      <td>3\" TRIM &amp; TOUCH UP ROLLER KIT</td>\n",
              "      <td>4.99</td>\n",
              "      <td>2018</td>\n",
              "      <td>09</td>\n",
              "    </tr>\n",
              "    <tr>\n",
              "      <th>16867751</th>\n",
              "      <td>201809</td>\n",
              "      <td>12:05:19</td>\n",
              "      <td>*5</td>\n",
              "      <td>F84625</td>\n",
              "      <td>4495354</td>\n",
              "      <td>AUGER 1/4\"X25' PISTOL GR</td>\n",
              "      <td>-29.99</td>\n",
              "      <td>2018</td>\n",
              "      <td>09</td>\n",
              "    </tr>\n",
              "  </tbody>\n",
              "</table>\n",
              "</div>"
            ],
            "text/plain": [
              "            Date Transaction Time Customer Number  ... Net Sales  year months\n",
              "16867800  201809         12:06:06              *5  ...      6.99  2018     09\n",
              "16867799  201809         12:06:06              *5  ...      6.99  2018     09\n",
              "16867798  201809         12:06:04              *5  ...      4.99  2018     09\n",
              "16867797  201809         12:06:04              *5  ...     10.49  2018     09\n",
              "16867796  201809         12:06:04              *5  ...      4.49  2018     09\n",
              "16867795  201809         12:06:03          *A32VT  ...      1.79  2018     09\n",
              "16867794  201809         12:06:03          *A32VT  ...     19.99  2018     09\n",
              "16867793  201809         12:06:03          *A32VT  ...     19.99  2018     09\n",
              "16867792  201809         12:05:59          117005  ...      2.99  2018     09\n",
              "16867791  201809         12:05:59          117005  ...      5.99  2018     09\n",
              "16867790  201809         12:05:59          117005  ...      9.98  2018     09\n",
              "16867789  201809         12:05:59          117005  ...     10.49  2018     09\n",
              "16867788  201809         12:05:58          427894  ...     14.94  2018     09\n",
              "16867787  201809         12:05:58          427894  ...     41.93  2018     09\n",
              "16867768  201809         12:05:36          501006  ...     12.99  2018     09\n",
              "16867767  201809         12:05:32              *5  ...      3.49  2018     09\n",
              "16867771  201809         12:05:38              *5  ...     24.99  2018     09\n",
              "16867765  201809         12:05:32              *5  ...      3.99  2018     09\n",
              "16867745  201809         12:05:09          *A95JT  ...        -5  2018     09\n",
              "16867744  201809         12:05:09              *5  ...      2.98  2018     09\n",
              "16867766  201809         12:05:32              *5  ...      6.98  2018     09\n",
              "16867742  201809         12:05:09              *5  ...      7.99  2018     09\n",
              "16867741  201809         12:05:09          *A95JT  ...      0.99  2018     09\n",
              "16867740  201809         12:05:09              *5  ...     22.99  2018     09\n",
              "16867746  201809         12:05:09              *5  ...      0.05  2018     09\n",
              "16867739  201809         12:05:09          *A95JT  ...      7.98  2018     09\n",
              "16867737  201809         12:05:03              *5  ...      6.99  2018     09\n",
              "16867736  201809         12:04:59              *5  ...         6  2018     09\n",
              "16867735  201809         12:04:55          *21885  ...     12.98  2018     09\n",
              "16867734  201809         12:04:49              *5  ...     11.98  2018     09\n",
              "16867733  201809         12:04:47          340258  ...      7.99  2018     09\n",
              "16867732  201809         12:04:47          340258  ...      8.99  2018     09\n",
              "16867738  201809         12:05:05              *5  ...     17.97  2018     09\n",
              "16867747  201809         12:05:10              *5  ...      4.99  2018     09\n",
              "16867743  201809         12:05:09          *A95JT  ...     16.99  2018     09\n",
              "16867749  201809         12:05:17            1511  ...      4.99  2018     09\n",
              "16867764  201809         12:05:32              *5  ...      5.99  2018     09\n",
              "16867763  201809         12:05:32              *5  ...     14.99  2018     09\n",
              "16867748  201809         12:05:10              *5  ...      5.99  2018     09\n",
              "16867761  201809         12:05:29          131626  ...     20.99  2018     09\n",
              "16867760  201809         12:05:29          131626  ...      6.99  2018     09\n",
              "16867759  201809         12:05:29            9109  ...      5.99  2018     09\n",
              "16867758  201809         12:05:28          300014  ...        -5  2018     09\n",
              "16867762  201809         12:05:32              *5  ...      6.99  2018     09\n",
              "16867756  201809         12:05:28          300014  ...       0.9  2018     09\n",
              "16867755  201809         12:05:21          136015  ...      1.98  2018     09\n",
              "16867754  201809         12:05:21          136015  ...      5.49  2018     09\n",
              "16867753  201809         12:05:21          136015  ...      4.99  2018     09\n",
              "16867752  201809         12:05:21          136015  ...      4.99  2018     09\n",
              "16867751  201809         12:05:19              *5  ...    -29.99  2018     09\n",
              "\n",
              "[50 rows x 9 columns]"
            ]
          },
          "metadata": {
            "tags": []
          },
          "execution_count": 22
        }
      ]
    },
    {
      "cell_type": "code",
      "metadata": {
        "id": "NIFndYRWdveC",
        "colab_type": "code",
        "outputId": "61078de2-eb27-4ac8-bbbd-95a5e68cb050",
        "colab": {
          "base_uri": "https://localhost:8080/",
          "height": 185
        }
      },
      "source": [
        "train_RFM.isna().sum()"
      ],
      "execution_count": 23,
      "outputs": [
        {
          "output_type": "execute_result",
          "data": {
            "text/plain": [
              "Date                0\n",
              "Transaction Time    0\n",
              "Customer Number     0\n",
              "Receipt Number      0\n",
              "Item Number         0\n",
              "Item Description    0\n",
              "Net Sales           0\n",
              "year                0\n",
              "months              0\n",
              "dtype: int64"
            ]
          },
          "metadata": {
            "tags": []
          },
          "execution_count": 23
        }
      ]
    },
    {
      "cell_type": "code",
      "metadata": {
        "id": "nDShboazih1I",
        "colab_type": "code",
        "colab": {}
      },
      "source": [
        "train_RFM['Net Sales'] = train_RFM['Net Sales'].astype('str')"
      ],
      "execution_count": 0,
      "outputs": []
    },
    {
      "cell_type": "code",
      "metadata": {
        "id": "LijOlmqmddf2",
        "colab_type": "code",
        "colab": {}
      },
      "source": [
        "train_RFM['Net Sales'] = train_RFM['Net Sales'].replace(',', '')"
      ],
      "execution_count": 0,
      "outputs": []
    },
    {
      "cell_type": "code",
      "metadata": {
        "id": "re9bW7FZjfuH",
        "colab_type": "code",
        "colab": {}
      },
      "source": [
        "train_RFM = train_RFM[pd.to_numeric(train_RFM['Net Sales'], errors='coerce').notnull()]"
      ],
      "execution_count": 0,
      "outputs": []
    },
    {
      "cell_type": "code",
      "metadata": {
        "id": "EwC3dn4Fj8ba",
        "colab_type": "code",
        "outputId": "78298e79-fb1d-4424-a9e6-2761cc4f30c4",
        "colab": {
          "base_uri": "https://localhost:8080/",
          "height": 118
        }
      },
      "source": [
        "train_RFM['Net Sales']=train_RFM['Net Sales'].astype('float')"
      ],
      "execution_count": 27,
      "outputs": [
        {
          "output_type": "stream",
          "text": [
            "/usr/local/lib/python3.6/dist-packages/ipykernel_launcher.py:1: SettingWithCopyWarning: \n",
            "A value is trying to be set on a copy of a slice from a DataFrame.\n",
            "Try using .loc[row_indexer,col_indexer] = value instead\n",
            "\n",
            "See the caveats in the documentation: http://pandas.pydata.org/pandas-docs/stable/user_guide/indexing.html#returning-a-view-versus-a-copy\n",
            "  \"\"\"Entry point for launching an IPython kernel.\n"
          ],
          "name": "stderr"
        }
      ]
    },
    {
      "cell_type": "code",
      "metadata": {
        "id": "zo-0wpj_j0dw",
        "colab_type": "code",
        "outputId": "ed818422-7ce5-4910-8d60-083c9f30f232",
        "colab": {
          "base_uri": "https://localhost:8080/",
          "height": 185
        }
      },
      "source": [
        "train_RFM.isna().sum()"
      ],
      "execution_count": 28,
      "outputs": [
        {
          "output_type": "execute_result",
          "data": {
            "text/plain": [
              "Date                0\n",
              "Transaction Time    0\n",
              "Customer Number     0\n",
              "Receipt Number      0\n",
              "Item Number         0\n",
              "Item Description    0\n",
              "Net Sales           0\n",
              "year                0\n",
              "months              0\n",
              "dtype: int64"
            ]
          },
          "metadata": {
            "tags": []
          },
          "execution_count": 28
        }
      ]
    },
    {
      "cell_type": "markdown",
      "metadata": {
        "id": "rEr04ZsBtG-t",
        "colab_type": "text"
      },
      "source": [
        "Total Number of Customers"
      ]
    },
    {
      "cell_type": "code",
      "metadata": {
        "id": "5lejoDxMq6Ad",
        "colab_type": "code",
        "outputId": "c6500985-0e32-467a-9faa-746f8736f940",
        "colab": {
          "base_uri": "https://localhost:8080/",
          "height": 34
        }
      },
      "source": [
        "Cust=train_RFM[['Customer Number']].drop_duplicates()\n",
        "print (\"No of customers are :\" , len(Cust))\n",
        "#Cust_country=train_RFM[['Country','CustomerID']].drop_duplicates()\n",
        "Cust_freq=train_RFM[['Receipt Number','Customer Number']].drop_duplicates()"
      ],
      "execution_count": 29,
      "outputs": [
        {
          "output_type": "stream",
          "text": [
            "No of customers are : 349280\n"
          ],
          "name": "stdout"
        }
      ]
    },
    {
      "cell_type": "markdown",
      "metadata": {
        "id": "Z_TrPe0MtV1m",
        "colab_type": "text"
      },
      "source": [
        "**Frequency Flag**"
      ]
    },
    {
      "cell_type": "code",
      "metadata": {
        "id": "_7MWVthI4eNJ",
        "colab_type": "code",
        "colab": {}
      },
      "source": [
        "Cust_freq=train_RFM[['Receipt Number','Customer Number']].drop_duplicates()\n",
        "#Cust_freq_count = Cust_freq.groupby([\"Customer Number\"])[\"Receipt Number\"].aggregate(\"count\").\\\n",
        "#reset_index().sort_values(by='Receipt Number', ascending=False)\n",
        "#Cust_freq_count_UK=Cust_freq_count[Cust_freq_count['Country']==\"United Kingdom\"]"
      ],
      "execution_count": 0,
      "outputs": []
    },
    {
      "cell_type": "code",
      "metadata": {
        "id": "qsWzln8i7RxR",
        "colab_type": "code",
        "outputId": "6b249844-65f5-4972-fb12-a760e00d843b",
        "colab": {
          "base_uri": "https://localhost:8080/",
          "height": 402
        }
      },
      "source": [
        "Cust_freq"
      ],
      "execution_count": 31,
      "outputs": [
        {
          "output_type": "execute_result",
          "data": {
            "text/html": [
              "<div>\n",
              "<style scoped>\n",
              "    .dataframe tbody tr th:only-of-type {\n",
              "        vertical-align: middle;\n",
              "    }\n",
              "\n",
              "    .dataframe tbody tr th {\n",
              "        vertical-align: top;\n",
              "    }\n",
              "\n",
              "    .dataframe thead th {\n",
              "        text-align: right;\n",
              "    }\n",
              "</style>\n",
              "<table border=\"1\" class=\"dataframe\">\n",
              "  <thead>\n",
              "    <tr style=\"text-align: right;\">\n",
              "      <th></th>\n",
              "      <th>Receipt Number</th>\n",
              "      <th>Customer Number</th>\n",
              "    </tr>\n",
              "  </thead>\n",
              "  <tbody>\n",
              "    <tr>\n",
              "      <th>5868993</th>\n",
              "      <td>B15056</td>\n",
              "      <td>30247</td>\n",
              "    </tr>\n",
              "    <tr>\n",
              "      <th>5863918</th>\n",
              "      <td>A15017</td>\n",
              "      <td>233070</td>\n",
              "    </tr>\n",
              "    <tr>\n",
              "      <th>5863919</th>\n",
              "      <td>I29245</td>\n",
              "      <td>*5</td>\n",
              "    </tr>\n",
              "    <tr>\n",
              "      <th>5863927</th>\n",
              "      <td>E79230</td>\n",
              "      <td>*27144</td>\n",
              "    </tr>\n",
              "    <tr>\n",
              "      <th>5863929</th>\n",
              "      <td>I88880</td>\n",
              "      <td>106492</td>\n",
              "    </tr>\n",
              "    <tr>\n",
              "      <th>...</th>\n",
              "      <td>...</td>\n",
              "      <td>...</td>\n",
              "    </tr>\n",
              "    <tr>\n",
              "      <th>16867749</th>\n",
              "      <td>I85200</td>\n",
              "      <td>1511</td>\n",
              "    </tr>\n",
              "    <tr>\n",
              "      <th>16867761</th>\n",
              "      <td>H79271</td>\n",
              "      <td>131626</td>\n",
              "    </tr>\n",
              "    <tr>\n",
              "      <th>16867759</th>\n",
              "      <td>E18889</td>\n",
              "      <td>9109</td>\n",
              "    </tr>\n",
              "    <tr>\n",
              "      <th>16867758</th>\n",
              "      <td>F84624</td>\n",
              "      <td>300014</td>\n",
              "    </tr>\n",
              "    <tr>\n",
              "      <th>16867755</th>\n",
              "      <td>B43393</td>\n",
              "      <td>136015</td>\n",
              "    </tr>\n",
              "  </tbody>\n",
              "</table>\n",
              "<p>5693251 rows × 2 columns</p>\n",
              "</div>"
            ],
            "text/plain": [
              "         Receipt Number Customer Number\n",
              "5868993          B15056           30247\n",
              "5863918          A15017          233070\n",
              "5863919          I29245              *5\n",
              "5863927          E79230          *27144\n",
              "5863929          I88880          106492\n",
              "...                 ...             ...\n",
              "16867749         I85200            1511\n",
              "16867761         H79271          131626\n",
              "16867759         E18889            9109\n",
              "16867758         F84624          300014\n",
              "16867755         B43393          136015\n",
              "\n",
              "[5693251 rows x 2 columns]"
            ]
          },
          "metadata": {
            "tags": []
          },
          "execution_count": 31
        }
      ]
    },
    {
      "cell_type": "code",
      "metadata": {
        "id": "jnHGDn8N7a-Q",
        "colab_type": "code",
        "colab": {}
      },
      "source": [
        "#Counting Frquency for each Customer\n",
        "Cust_freq_count = Cust_freq.groupby([\"Customer Number\"])[\"Receipt Number\"].aggregate(\"count\").\\ \n",
        "reset_index()   \n"
      ],
      "execution_count": 0,
      "outputs": []
    },
    {
      "cell_type": "code",
      "metadata": {
        "id": "uZjpFm8L5QzX",
        "colab_type": "code",
        "outputId": "52dca015-6af7-4227-e54c-dad38c3ecfbc",
        "colab": {
          "base_uri": "https://localhost:8080/",
          "height": 402
        }
      },
      "source": [
        "Cust_freq_count"
      ],
      "execution_count": 33,
      "outputs": [
        {
          "output_type": "execute_result",
          "data": {
            "text/html": [
              "<div>\n",
              "<style scoped>\n",
              "    .dataframe tbody tr th:only-of-type {\n",
              "        vertical-align: middle;\n",
              "    }\n",
              "\n",
              "    .dataframe tbody tr th {\n",
              "        vertical-align: top;\n",
              "    }\n",
              "\n",
              "    .dataframe thead th {\n",
              "        text-align: right;\n",
              "    }\n",
              "</style>\n",
              "<table border=\"1\" class=\"dataframe\">\n",
              "  <thead>\n",
              "    <tr style=\"text-align: right;\">\n",
              "      <th></th>\n",
              "      <th>Customer Number</th>\n",
              "      <th>Receipt Number</th>\n",
              "    </tr>\n",
              "  </thead>\n",
              "  <tbody>\n",
              "    <tr>\n",
              "      <th>0</th>\n",
              "      <td>*0</td>\n",
              "      <td>56</td>\n",
              "    </tr>\n",
              "    <tr>\n",
              "      <th>1</th>\n",
              "      <td>*1</td>\n",
              "      <td>33</td>\n",
              "    </tr>\n",
              "    <tr>\n",
              "      <th>2</th>\n",
              "      <td>*10</td>\n",
              "      <td>6</td>\n",
              "    </tr>\n",
              "    <tr>\n",
              "      <th>3</th>\n",
              "      <td>*100</td>\n",
              "      <td>5</td>\n",
              "    </tr>\n",
              "    <tr>\n",
              "      <th>4</th>\n",
              "      <td>*1000</td>\n",
              "      <td>9</td>\n",
              "    </tr>\n",
              "    <tr>\n",
              "      <th>...</th>\n",
              "      <td>...</td>\n",
              "      <td>...</td>\n",
              "    </tr>\n",
              "    <tr>\n",
              "      <th>349275</th>\n",
              "      <td>999966</td>\n",
              "      <td>14</td>\n",
              "    </tr>\n",
              "    <tr>\n",
              "      <th>349276</th>\n",
              "      <td>99997</td>\n",
              "      <td>26</td>\n",
              "    </tr>\n",
              "    <tr>\n",
              "      <th>349277</th>\n",
              "      <td>999977</td>\n",
              "      <td>4</td>\n",
              "    </tr>\n",
              "    <tr>\n",
              "      <th>349278</th>\n",
              "      <td>99998</td>\n",
              "      <td>154</td>\n",
              "    </tr>\n",
              "    <tr>\n",
              "      <th>349279</th>\n",
              "      <td>99999</td>\n",
              "      <td>27</td>\n",
              "    </tr>\n",
              "  </tbody>\n",
              "</table>\n",
              "<p>349280 rows × 2 columns</p>\n",
              "</div>"
            ],
            "text/plain": [
              "       Customer Number  Receipt Number\n",
              "0                   *0              56\n",
              "1                   *1              33\n",
              "2                  *10               6\n",
              "3                 *100               5\n",
              "4                *1000               9\n",
              "...                ...             ...\n",
              "349275          999966              14\n",
              "349276           99997              26\n",
              "349277          999977               4\n",
              "349278           99998             154\n",
              "349279           99999              27\n",
              "\n",
              "[349280 rows x 2 columns]"
            ]
          },
          "metadata": {
            "tags": []
          },
          "execution_count": 33
        }
      ]
    },
    {
      "cell_type": "code",
      "metadata": {
        "id": "ICWmIIax74Ac",
        "colab_type": "code",
        "colab": {}
      },
      "source": [
        "Cust_freq_count = Cust_freq_count.sort_values(by='Receipt Number', ascending=False)"
      ],
      "execution_count": 0,
      "outputs": []
    },
    {
      "cell_type": "code",
      "metadata": {
        "id": "oce70gBE8CEl",
        "colab_type": "code",
        "outputId": "90550716-f473-4ba8-8ee6-8e2d00fed6b6",
        "colab": {
          "base_uri": "https://localhost:8080/",
          "height": 343
        }
      },
      "source": [
        "Cust_freq_count.head(10)"
      ],
      "execution_count": 35,
      "outputs": [
        {
          "output_type": "execute_result",
          "data": {
            "text/html": [
              "<div>\n",
              "<style scoped>\n",
              "    .dataframe tbody tr th:only-of-type {\n",
              "        vertical-align: middle;\n",
              "    }\n",
              "\n",
              "    .dataframe tbody tr th {\n",
              "        vertical-align: top;\n",
              "    }\n",
              "\n",
              "    .dataframe thead th {\n",
              "        text-align: right;\n",
              "    }\n",
              "</style>\n",
              "<table border=\"1\" class=\"dataframe\">\n",
              "  <thead>\n",
              "    <tr style=\"text-align: right;\">\n",
              "      <th></th>\n",
              "      <th>Customer Number</th>\n",
              "      <th>Receipt Number</th>\n",
              "    </tr>\n",
              "  </thead>\n",
              "  <tbody>\n",
              "    <tr>\n",
              "      <th>24768</th>\n",
              "      <td>*5</td>\n",
              "      <td>982026</td>\n",
              "    </tr>\n",
              "    <tr>\n",
              "      <th>29919</th>\n",
              "      <td>*6</td>\n",
              "      <td>28775</td>\n",
              "    </tr>\n",
              "    <tr>\n",
              "      <th>87121</th>\n",
              "      <td>10000</td>\n",
              "      <td>14887</td>\n",
              "    </tr>\n",
              "    <tr>\n",
              "      <th>75474</th>\n",
              "      <td>*A96T6</td>\n",
              "      <td>8961</td>\n",
              "    </tr>\n",
              "    <tr>\n",
              "      <th>69786</th>\n",
              "      <td>*A739A</td>\n",
              "      <td>8523</td>\n",
              "    </tr>\n",
              "    <tr>\n",
              "      <th>87128</th>\n",
              "      <td>100020</td>\n",
              "      <td>7477</td>\n",
              "    </tr>\n",
              "    <tr>\n",
              "      <th>349274</th>\n",
              "      <td>99996</td>\n",
              "      <td>6478</td>\n",
              "    </tr>\n",
              "    <tr>\n",
              "      <th>7660</th>\n",
              "      <td>*22</td>\n",
              "      <td>5196</td>\n",
              "    </tr>\n",
              "    <tr>\n",
              "      <th>7037</th>\n",
              "      <td>*21</td>\n",
              "      <td>4791</td>\n",
              "    </tr>\n",
              "    <tr>\n",
              "      <th>65469</th>\n",
              "      <td>*A621Q</td>\n",
              "      <td>3487</td>\n",
              "    </tr>\n",
              "  </tbody>\n",
              "</table>\n",
              "</div>"
            ],
            "text/plain": [
              "       Customer Number  Receipt Number\n",
              "24768               *5          982026\n",
              "29919               *6           28775\n",
              "87121            10000           14887\n",
              "75474           *A96T6            8961\n",
              "69786           *A739A            8523\n",
              "87128           100020            7477\n",
              "349274           99996            6478\n",
              "7660               *22            5196\n",
              "7037               *21            4791\n",
              "65469           *A621Q            3487"
            ]
          },
          "metadata": {
            "tags": []
          },
          "execution_count": 35
        }
      ]
    },
    {
      "cell_type": "code",
      "metadata": {
        "id": "fvonpejdruqE",
        "colab_type": "code",
        "colab": {}
      },
      "source": [
        "unique_invoice=Cust_freq_count[['Receipt Number']].drop_duplicates()\n"
      ],
      "execution_count": 0,
      "outputs": []
    },
    {
      "cell_type": "code",
      "metadata": {
        "id": "dIKbIg-mtUQW",
        "colab_type": "code",
        "outputId": "d1acf147-15dd-448b-cba8-f40e9358c2bd",
        "colab": {
          "base_uri": "https://localhost:8080/",
          "height": 402
        }
      },
      "source": [
        "unique_invoice"
      ],
      "execution_count": 37,
      "outputs": [
        {
          "output_type": "execute_result",
          "data": {
            "text/html": [
              "<div>\n",
              "<style scoped>\n",
              "    .dataframe tbody tr th:only-of-type {\n",
              "        vertical-align: middle;\n",
              "    }\n",
              "\n",
              "    .dataframe tbody tr th {\n",
              "        vertical-align: top;\n",
              "    }\n",
              "\n",
              "    .dataframe thead th {\n",
              "        text-align: right;\n",
              "    }\n",
              "</style>\n",
              "<table border=\"1\" class=\"dataframe\">\n",
              "  <thead>\n",
              "    <tr style=\"text-align: right;\">\n",
              "      <th></th>\n",
              "      <th>Receipt Number</th>\n",
              "    </tr>\n",
              "  </thead>\n",
              "  <tbody>\n",
              "    <tr>\n",
              "      <th>24768</th>\n",
              "      <td>982026</td>\n",
              "    </tr>\n",
              "    <tr>\n",
              "      <th>29919</th>\n",
              "      <td>28775</td>\n",
              "    </tr>\n",
              "    <tr>\n",
              "      <th>87121</th>\n",
              "      <td>14887</td>\n",
              "    </tr>\n",
              "    <tr>\n",
              "      <th>75474</th>\n",
              "      <td>8961</td>\n",
              "    </tr>\n",
              "    <tr>\n",
              "      <th>69786</th>\n",
              "      <td>8523</td>\n",
              "    </tr>\n",
              "    <tr>\n",
              "      <th>...</th>\n",
              "      <td>...</td>\n",
              "    </tr>\n",
              "    <tr>\n",
              "      <th>218297</th>\n",
              "      <td>5</td>\n",
              "    </tr>\n",
              "    <tr>\n",
              "      <th>167472</th>\n",
              "      <td>4</td>\n",
              "    </tr>\n",
              "    <tr>\n",
              "      <th>304323</th>\n",
              "      <td>3</td>\n",
              "    </tr>\n",
              "    <tr>\n",
              "      <th>302684</th>\n",
              "      <td>2</td>\n",
              "    </tr>\n",
              "    <tr>\n",
              "      <th>159879</th>\n",
              "      <td>1</td>\n",
              "    </tr>\n",
              "  </tbody>\n",
              "</table>\n",
              "<p>424 rows × 1 columns</p>\n",
              "</div>"
            ],
            "text/plain": [
              "        Receipt Number\n",
              "24768           982026\n",
              "29919            28775\n",
              "87121            14887\n",
              "75474             8961\n",
              "69786             8523\n",
              "...                ...\n",
              "218297               5\n",
              "167472               4\n",
              "304323               3\n",
              "302684               2\n",
              "159879               1\n",
              "\n",
              "[424 rows x 1 columns]"
            ]
          },
          "metadata": {
            "tags": []
          },
          "execution_count": 37
        }
      ]
    },
    {
      "cell_type": "code",
      "metadata": {
        "id": "ONI1xo48smKm",
        "colab_type": "code",
        "colab": {}
      },
      "source": [
        "unique_invoice['Frequency_Band'] = pd.qcut(unique_invoice['Receipt Number'], 5)\n"
      ],
      "execution_count": 0,
      "outputs": []
    },
    {
      "cell_type": "code",
      "metadata": {
        "id": "12csHWrFuSN-",
        "colab_type": "code",
        "outputId": "d37c19ce-6eec-49da-d460-ddd4ee303924",
        "colab": {
          "base_uri": "https://localhost:8080/",
          "height": 195
        }
      },
      "source": [
        "#Frequency Bands\n",
        "unique_invoice=unique_invoice[['Frequency_Band']].drop_duplicates()\n",
        "unique_invoice"
      ],
      "execution_count": 39,
      "outputs": [
        {
          "output_type": "execute_result",
          "data": {
            "text/html": [
              "<div>\n",
              "<style scoped>\n",
              "    .dataframe tbody tr th:only-of-type {\n",
              "        vertical-align: middle;\n",
              "    }\n",
              "\n",
              "    .dataframe tbody tr th {\n",
              "        vertical-align: top;\n",
              "    }\n",
              "\n",
              "    .dataframe thead th {\n",
              "        text-align: right;\n",
              "    }\n",
              "</style>\n",
              "<table border=\"1\" class=\"dataframe\">\n",
              "  <thead>\n",
              "    <tr style=\"text-align: right;\">\n",
              "      <th></th>\n",
              "      <th>Frequency_Band</th>\n",
              "    </tr>\n",
              "  </thead>\n",
              "  <tbody>\n",
              "    <tr>\n",
              "      <th>24768</th>\n",
              "      <td>(388.4, 982026.0]</td>\n",
              "    </tr>\n",
              "    <tr>\n",
              "      <th>94237</th>\n",
              "      <td>(255.8, 388.4]</td>\n",
              "    </tr>\n",
              "    <tr>\n",
              "      <th>337913</th>\n",
              "      <td>(170.2, 255.8]</td>\n",
              "    </tr>\n",
              "    <tr>\n",
              "      <th>241172</th>\n",
              "      <td>(85.6, 170.2]</td>\n",
              "    </tr>\n",
              "    <tr>\n",
              "      <th>50821</th>\n",
              "      <td>(0.999, 85.6]</td>\n",
              "    </tr>\n",
              "  </tbody>\n",
              "</table>\n",
              "</div>"
            ],
            "text/plain": [
              "           Frequency_Band\n",
              "24768   (388.4, 982026.0]\n",
              "94237      (255.8, 388.4]\n",
              "337913     (170.2, 255.8]\n",
              "241172      (85.6, 170.2]\n",
              "50821       (0.999, 85.6]"
            ]
          },
          "metadata": {
            "tags": []
          },
          "execution_count": 39
        }
      ]
    },
    {
      "cell_type": "code",
      "metadata": {
        "id": "RlIWygBsuq3_",
        "colab_type": "code",
        "colab": {}
      },
      "source": [
        "def f(row):\n",
        "    if row['Receipt Number'] <= 85.6:\n",
        "        val = 1\n",
        "    elif row['Receipt Number'] > 85.6 and row['Receipt Number'] <= 170.2:\n",
        "        val = 2\n",
        "    elif row['Receipt Number'] > 170.2 and row['Receipt Number'] <= 255.8:\n",
        "        val = 3\n",
        "    elif row['Receipt Number'] > 255.8 and row['Receipt Number'] <= 388.4:\n",
        "        val = 4\n",
        "    else:\n",
        "        val = 5\n",
        "    return val"
      ],
      "execution_count": 0,
      "outputs": []
    },
    {
      "cell_type": "code",
      "metadata": {
        "id": "_7rEa5hDvG1g",
        "colab_type": "code",
        "colab": {}
      },
      "source": [
        "Cust_freq_count['Freq_Flag'] = Cust_freq_count.apply(f, axis=1)\n"
      ],
      "execution_count": 0,
      "outputs": []
    },
    {
      "cell_type": "code",
      "metadata": {
        "id": "4SCx6N4-vu0l",
        "colab_type": "code",
        "outputId": "03d986e7-a526-410e-a1a6-7841d787c610",
        "colab": {
          "base_uri": "https://localhost:8080/",
          "height": 402
        }
      },
      "source": [
        "Cust_freq_count"
      ],
      "execution_count": 42,
      "outputs": [
        {
          "output_type": "execute_result",
          "data": {
            "text/html": [
              "<div>\n",
              "<style scoped>\n",
              "    .dataframe tbody tr th:only-of-type {\n",
              "        vertical-align: middle;\n",
              "    }\n",
              "\n",
              "    .dataframe tbody tr th {\n",
              "        vertical-align: top;\n",
              "    }\n",
              "\n",
              "    .dataframe thead th {\n",
              "        text-align: right;\n",
              "    }\n",
              "</style>\n",
              "<table border=\"1\" class=\"dataframe\">\n",
              "  <thead>\n",
              "    <tr style=\"text-align: right;\">\n",
              "      <th></th>\n",
              "      <th>Customer Number</th>\n",
              "      <th>Receipt Number</th>\n",
              "      <th>Freq_Flag</th>\n",
              "    </tr>\n",
              "  </thead>\n",
              "  <tbody>\n",
              "    <tr>\n",
              "      <th>24768</th>\n",
              "      <td>*5</td>\n",
              "      <td>982026</td>\n",
              "      <td>5</td>\n",
              "    </tr>\n",
              "    <tr>\n",
              "      <th>29919</th>\n",
              "      <td>*6</td>\n",
              "      <td>28775</td>\n",
              "      <td>5</td>\n",
              "    </tr>\n",
              "    <tr>\n",
              "      <th>87121</th>\n",
              "      <td>10000</td>\n",
              "      <td>14887</td>\n",
              "      <td>5</td>\n",
              "    </tr>\n",
              "    <tr>\n",
              "      <th>75474</th>\n",
              "      <td>*A96T6</td>\n",
              "      <td>8961</td>\n",
              "      <td>5</td>\n",
              "    </tr>\n",
              "    <tr>\n",
              "      <th>69786</th>\n",
              "      <td>*A739A</td>\n",
              "      <td>8523</td>\n",
              "      <td>5</td>\n",
              "    </tr>\n",
              "    <tr>\n",
              "      <th>...</th>\n",
              "      <td>...</td>\n",
              "      <td>...</td>\n",
              "      <td>...</td>\n",
              "    </tr>\n",
              "    <tr>\n",
              "      <th>307520</th>\n",
              "      <td>502898</td>\n",
              "      <td>1</td>\n",
              "      <td>1</td>\n",
              "    </tr>\n",
              "    <tr>\n",
              "      <th>64395</th>\n",
              "      <td>*A56MW</td>\n",
              "      <td>1</td>\n",
              "      <td>1</td>\n",
              "    </tr>\n",
              "    <tr>\n",
              "      <th>64394</th>\n",
              "      <td>*A56MS</td>\n",
              "      <td>1</td>\n",
              "      <td>1</td>\n",
              "    </tr>\n",
              "    <tr>\n",
              "      <th>64393</th>\n",
              "      <td>*A56MR</td>\n",
              "      <td>1</td>\n",
              "      <td>1</td>\n",
              "    </tr>\n",
              "    <tr>\n",
              "      <th>300216</th>\n",
              "      <td>452641</td>\n",
              "      <td>1</td>\n",
              "      <td>1</td>\n",
              "    </tr>\n",
              "  </tbody>\n",
              "</table>\n",
              "<p>349280 rows × 3 columns</p>\n",
              "</div>"
            ],
            "text/plain": [
              "       Customer Number  Receipt Number  Freq_Flag\n",
              "24768               *5          982026          5\n",
              "29919               *6           28775          5\n",
              "87121            10000           14887          5\n",
              "75474           *A96T6            8961          5\n",
              "69786           *A739A            8523          5\n",
              "...                ...             ...        ...\n",
              "307520          502898               1          1\n",
              "64395           *A56MW               1          1\n",
              "64394           *A56MS               1          1\n",
              "64393           *A56MR               1          1\n",
              "300216          452641               1          1\n",
              "\n",
              "[349280 rows x 3 columns]"
            ]
          },
          "metadata": {
            "tags": []
          },
          "execution_count": 42
        }
      ]
    },
    {
      "cell_type": "code",
      "metadata": {
        "id": "82DeFYB_wcUH",
        "colab_type": "code",
        "outputId": "a12ced67-c8fa-49be-b2a2-9e4cd02d7574",
        "colab": {
          "base_uri": "https://localhost:8080/",
          "height": 405
        }
      },
      "source": [
        "import seaborn as sns\n",
        "color = sns.color_palette()\n",
        "plt.figure(figsize=(8,6))\n",
        "\n",
        "sns.countplot(x=\"Freq_Flag\", data=Cust_freq_count, color=color[1])\n",
        "plt.ylabel('Count', fontsize=12)\n",
        "plt.xlabel('Freq_Flag', fontsize=12)\n",
        "plt.xticks(rotation='vertical')\n",
        "plt.title(\"Frequency of Freq_Flag\", fontsize=15)\n",
        "plt.show()"
      ],
      "execution_count": 43,
      "outputs": [
        {
          "output_type": "display_data",
          "data": {
            "image/png": "[encoded data removed]",
            "text/plain": [
              "<Figure size 576x432 with 1 Axes>"
            ]
          },
          "metadata": {
            "tags": []
          }
        }
      ]
    },
    {
      "cell_type": "markdown",
      "metadata": {
        "id": "Ab5hUB7luEXt",
        "colab_type": "text"
      },
      "source": [
        "**Recency Flag**"
      ]
    },
    {
      "cell_type": "code",
      "metadata": {
        "id": "VS-4B1fmygVd",
        "colab_type": "code",
        "outputId": "54ad81ef-8dc8-4419-b017-f423cc504a3a",
        "colab": {
          "base_uri": "https://localhost:8080/",
          "height": 195
        }
      },
      "source": [
        "train_RFM.head()"
      ],
      "execution_count": 44,
      "outputs": [
        {
          "output_type": "execute_result",
          "data": {
            "text/html": [
              "<div>\n",
              "<style scoped>\n",
              "    .dataframe tbody tr th:only-of-type {\n",
              "        vertical-align: middle;\n",
              "    }\n",
              "\n",
              "    .dataframe tbody tr th {\n",
              "        vertical-align: top;\n",
              "    }\n",
              "\n",
              "    .dataframe thead th {\n",
              "        text-align: right;\n",
              "    }\n",
              "</style>\n",
              "<table border=\"1\" class=\"dataframe\">\n",
              "  <thead>\n",
              "    <tr style=\"text-align: right;\">\n",
              "      <th></th>\n",
              "      <th>Date</th>\n",
              "      <th>Transaction Time</th>\n",
              "      <th>Customer Number</th>\n",
              "      <th>Receipt Number</th>\n",
              "      <th>Item Number</th>\n",
              "      <th>Item Description</th>\n",
              "      <th>Net Sales</th>\n",
              "      <th>year</th>\n",
              "      <th>months</th>\n",
              "    </tr>\n",
              "  </thead>\n",
              "  <tbody>\n",
              "    <tr>\n",
              "      <th>5868993</th>\n",
              "      <td>201701</td>\n",
              "      <td>15:54:38</td>\n",
              "      <td>30247</td>\n",
              "      <td>B15056</td>\n",
              "      <td>6237762</td>\n",
              "      <td>GLAD FORCEFLEX BLK 50CT</td>\n",
              "      <td>12.74</td>\n",
              "      <td>2017</td>\n",
              "      <td>01</td>\n",
              "    </tr>\n",
              "    <tr>\n",
              "      <th>5863918</th>\n",
              "      <td>201701</td>\n",
              "      <td>14:26:52</td>\n",
              "      <td>233070</td>\n",
              "      <td>A15017</td>\n",
              "      <td>30733</td>\n",
              "      <td>BOX SGL GNG PVC OW 14CU\"</td>\n",
              "      <td>1.99</td>\n",
              "      <td>2017</td>\n",
              "      <td>01</td>\n",
              "    </tr>\n",
              "    <tr>\n",
              "      <th>5863919</th>\n",
              "      <td>201701</td>\n",
              "      <td>14:26:52</td>\n",
              "      <td>*5</td>\n",
              "      <td>I29245</td>\n",
              "      <td>PSWITCH832</td>\n",
              "      <td>LED NIGHT LIGHT SWITCH 2PK</td>\n",
              "      <td>11.24</td>\n",
              "      <td>2017</td>\n",
              "      <td>01</td>\n",
              "    </tr>\n",
              "    <tr>\n",
              "      <th>5863920</th>\n",
              "      <td>201701</td>\n",
              "      <td>14:26:52</td>\n",
              "      <td>233070</td>\n",
              "      <td>A15017</td>\n",
              "      <td>3202181</td>\n",
              "      <td>BLANK WALLPLATE 1G WHITE</td>\n",
              "      <td>0.99</td>\n",
              "      <td>2017</td>\n",
              "      <td>01</td>\n",
              "    </tr>\n",
              "    <tr>\n",
              "      <th>5863921</th>\n",
              "      <td>201701</td>\n",
              "      <td>14:26:52</td>\n",
              "      <td>233070</td>\n",
              "      <td>A15017</td>\n",
              "      <td>33180</td>\n",
              "      <td>TAPE ELECT3/4X60'VYL ACE</td>\n",
              "      <td>0.99</td>\n",
              "      <td>2017</td>\n",
              "      <td>01</td>\n",
              "    </tr>\n",
              "  </tbody>\n",
              "</table>\n",
              "</div>"
            ],
            "text/plain": [
              "           Date Transaction Time Customer Number  ... Net Sales  year months\n",
              "5868993  201701         15:54:38           30247  ...     12.74  2017     01\n",
              "5863918  201701         14:26:52          233070  ...      1.99  2017     01\n",
              "5863919  201701         14:26:52              *5  ...     11.24  2017     01\n",
              "5863920  201701         14:26:52          233070  ...      0.99  2017     01\n",
              "5863921  201701         14:26:52          233070  ...      0.99  2017     01\n",
              "\n",
              "[5 rows x 9 columns]"
            ]
          },
          "metadata": {
            "tags": []
          },
          "execution_count": 44
        }
      ]
    },
    {
      "cell_type": "code",
      "metadata": {
        "id": "zQHVg6nFxpam",
        "colab_type": "code",
        "colab": {}
      },
      "source": [
        "Cust_date=train_RFM[['Customer Number','Date']].drop_duplicates()\n"
      ],
      "execution_count": 0,
      "outputs": []
    },
    {
      "cell_type": "code",
      "metadata": {
        "id": "lmKF8TV4yr1B",
        "colab_type": "code",
        "outputId": "b94fd4e0-ddc5-42b8-e652-2d19ebaa1736",
        "colab": {
          "base_uri": "https://localhost:8080/",
          "height": 402
        }
      },
      "source": [
        "Cust_date"
      ],
      "execution_count": 46,
      "outputs": [
        {
          "output_type": "execute_result",
          "data": {
            "text/html": [
              "<div>\n",
              "<style scoped>\n",
              "    .dataframe tbody tr th:only-of-type {\n",
              "        vertical-align: middle;\n",
              "    }\n",
              "\n",
              "    .dataframe tbody tr th {\n",
              "        vertical-align: top;\n",
              "    }\n",
              "\n",
              "    .dataframe thead th {\n",
              "        text-align: right;\n",
              "    }\n",
              "</style>\n",
              "<table border=\"1\" class=\"dataframe\">\n",
              "  <thead>\n",
              "    <tr style=\"text-align: right;\">\n",
              "      <th></th>\n",
              "      <th>Customer Number</th>\n",
              "      <th>Date</th>\n",
              "    </tr>\n",
              "  </thead>\n",
              "  <tbody>\n",
              "    <tr>\n",
              "      <th>5868993</th>\n",
              "      <td>30247</td>\n",
              "      <td>201701</td>\n",
              "    </tr>\n",
              "    <tr>\n",
              "      <th>5863918</th>\n",
              "      <td>233070</td>\n",
              "      <td>201701</td>\n",
              "    </tr>\n",
              "    <tr>\n",
              "      <th>5863919</th>\n",
              "      <td>*5</td>\n",
              "      <td>201701</td>\n",
              "    </tr>\n",
              "    <tr>\n",
              "      <th>5863927</th>\n",
              "      <td>*27144</td>\n",
              "      <td>201701</td>\n",
              "    </tr>\n",
              "    <tr>\n",
              "      <th>5863929</th>\n",
              "      <td>106492</td>\n",
              "      <td>201701</td>\n",
              "    </tr>\n",
              "    <tr>\n",
              "      <th>...</th>\n",
              "      <td>...</td>\n",
              "      <td>...</td>\n",
              "    </tr>\n",
              "    <tr>\n",
              "      <th>16867786</th>\n",
              "      <td>232440</td>\n",
              "      <td>201809</td>\n",
              "    </tr>\n",
              "    <tr>\n",
              "      <th>16867792</th>\n",
              "      <td>117005</td>\n",
              "      <td>201809</td>\n",
              "    </tr>\n",
              "    <tr>\n",
              "      <th>16867735</th>\n",
              "      <td>*21885</td>\n",
              "      <td>201809</td>\n",
              "    </tr>\n",
              "    <tr>\n",
              "      <th>16867758</th>\n",
              "      <td>300014</td>\n",
              "      <td>201809</td>\n",
              "    </tr>\n",
              "    <tr>\n",
              "      <th>16867755</th>\n",
              "      <td>136015</td>\n",
              "      <td>201809</td>\n",
              "    </tr>\n",
              "  </tbody>\n",
              "</table>\n",
              "<p>2396215 rows × 2 columns</p>\n",
              "</div>"
            ],
            "text/plain": [
              "         Customer Number    Date\n",
              "5868993            30247  201701\n",
              "5863918           233070  201701\n",
              "5863919               *5  201701\n",
              "5863927           *27144  201701\n",
              "5863929           106492  201701\n",
              "...                  ...     ...\n",
              "16867786          232440  201809\n",
              "16867792          117005  201809\n",
              "16867735          *21885  201809\n",
              "16867758          300014  201809\n",
              "16867755          136015  201809\n",
              "\n",
              "[2396215 rows x 2 columns]"
            ]
          },
          "metadata": {
            "tags": []
          },
          "execution_count": 46
        }
      ]
    },
    {
      "cell_type": "code",
      "metadata": {
        "id": "3TS8KRjY5uUA",
        "colab_type": "code",
        "outputId": "7f522a49-a8a8-4c8d-c9b3-752517e531e1",
        "colab": {
          "base_uri": "https://localhost:8080/",
          "height": 758
        }
      },
      "source": [
        "Cust_date.loc[(Cust_date['Customer Number'] == '*5')]"
      ],
      "execution_count": 47,
      "outputs": [
        {
          "output_type": "execute_result",
          "data": {
            "text/html": [
              "<div>\n",
              "<style scoped>\n",
              "    .dataframe tbody tr th:only-of-type {\n",
              "        vertical-align: middle;\n",
              "    }\n",
              "\n",
              "    .dataframe tbody tr th {\n",
              "        vertical-align: top;\n",
              "    }\n",
              "\n",
              "    .dataframe thead th {\n",
              "        text-align: right;\n",
              "    }\n",
              "</style>\n",
              "<table border=\"1\" class=\"dataframe\">\n",
              "  <thead>\n",
              "    <tr style=\"text-align: right;\">\n",
              "      <th></th>\n",
              "      <th>Customer Number</th>\n",
              "      <th>Date</th>\n",
              "    </tr>\n",
              "  </thead>\n",
              "  <tbody>\n",
              "    <tr>\n",
              "      <th>5863919</th>\n",
              "      <td>*5</td>\n",
              "      <td>201701</td>\n",
              "    </tr>\n",
              "    <tr>\n",
              "      <th>6418118</th>\n",
              "      <td>*5</td>\n",
              "      <td>201801</td>\n",
              "    </tr>\n",
              "    <tr>\n",
              "      <th>14714253</th>\n",
              "      <td>*5</td>\n",
              "      <td>201710</td>\n",
              "    </tr>\n",
              "    <tr>\n",
              "      <th>15350388</th>\n",
              "      <td>*5</td>\n",
              "      <td>201810</td>\n",
              "    </tr>\n",
              "    <tr>\n",
              "      <th>13203006</th>\n",
              "      <td>*5</td>\n",
              "      <td>201711</td>\n",
              "    </tr>\n",
              "    <tr>\n",
              "      <th>13949713</th>\n",
              "      <td>*5</td>\n",
              "      <td>201811</td>\n",
              "    </tr>\n",
              "    <tr>\n",
              "      <th>3184195</th>\n",
              "      <td>*5</td>\n",
              "      <td>201712</td>\n",
              "    </tr>\n",
              "    <tr>\n",
              "      <th>4088353</th>\n",
              "      <td>*5</td>\n",
              "      <td>201812</td>\n",
              "    </tr>\n",
              "    <tr>\n",
              "      <th>4937520</th>\n",
              "      <td>*5</td>\n",
              "      <td>201702</td>\n",
              "    </tr>\n",
              "    <tr>\n",
              "      <th>5422049</th>\n",
              "      <td>*5</td>\n",
              "      <td>201802</td>\n",
              "    </tr>\n",
              "    <tr>\n",
              "      <th>10298641</th>\n",
              "      <td>*5</td>\n",
              "      <td>201703</td>\n",
              "    </tr>\n",
              "    <tr>\n",
              "      <th>10830385</th>\n",
              "      <td>*5</td>\n",
              "      <td>201803</td>\n",
              "    </tr>\n",
              "    <tr>\n",
              "      <th>0</th>\n",
              "      <td>*5</td>\n",
              "      <td>201704</td>\n",
              "    </tr>\n",
              "    <tr>\n",
              "      <th>889954</th>\n",
              "      <td>*5</td>\n",
              "      <td>201804</td>\n",
              "    </tr>\n",
              "    <tr>\n",
              "      <th>11404229</th>\n",
              "      <td>*5</td>\n",
              "      <td>201705</td>\n",
              "    </tr>\n",
              "    <tr>\n",
              "      <th>12274095</th>\n",
              "      <td>*5</td>\n",
              "      <td>201805</td>\n",
              "    </tr>\n",
              "    <tr>\n",
              "      <th>8616608</th>\n",
              "      <td>*5</td>\n",
              "      <td>201706</td>\n",
              "    </tr>\n",
              "    <tr>\n",
              "      <th>9433074</th>\n",
              "      <td>*5</td>\n",
              "      <td>201806</td>\n",
              "    </tr>\n",
              "    <tr>\n",
              "      <th>6983738</th>\n",
              "      <td>*5</td>\n",
              "      <td>201707</td>\n",
              "    </tr>\n",
              "    <tr>\n",
              "      <th>7769321</th>\n",
              "      <td>*5</td>\n",
              "      <td>201807</td>\n",
              "    </tr>\n",
              "    <tr>\n",
              "      <th>1683595</th>\n",
              "      <td>*5</td>\n",
              "      <td>201708</td>\n",
              "    </tr>\n",
              "    <tr>\n",
              "      <th>2434267</th>\n",
              "      <td>*5</td>\n",
              "      <td>201808</td>\n",
              "    </tr>\n",
              "    <tr>\n",
              "      <th>16021337</th>\n",
              "      <td>*5</td>\n",
              "      <td>201709</td>\n",
              "    </tr>\n",
              "    <tr>\n",
              "      <th>16686611</th>\n",
              "      <td>*5</td>\n",
              "      <td>201809</td>\n",
              "    </tr>\n",
              "  </tbody>\n",
              "</table>\n",
              "</div>"
            ],
            "text/plain": [
              "         Customer Number    Date\n",
              "5863919               *5  201701\n",
              "6418118               *5  201801\n",
              "14714253              *5  201710\n",
              "15350388              *5  201810\n",
              "13203006              *5  201711\n",
              "13949713              *5  201811\n",
              "3184195               *5  201712\n",
              "4088353               *5  201812\n",
              "4937520               *5  201702\n",
              "5422049               *5  201802\n",
              "10298641              *5  201703\n",
              "10830385              *5  201803\n",
              "0                     *5  201704\n",
              "889954                *5  201804\n",
              "11404229              *5  201705\n",
              "12274095              *5  201805\n",
              "8616608               *5  201706\n",
              "9433074               *5  201806\n",
              "6983738               *5  201707\n",
              "7769321               *5  201807\n",
              "1683595               *5  201708\n",
              "2434267               *5  201808\n",
              "16021337              *5  201709\n",
              "16686611              *5  201809"
            ]
          },
          "metadata": {
            "tags": []
          },
          "execution_count": 47
        }
      ]
    },
    {
      "cell_type": "code",
      "metadata": {
        "id": "v5XV39Xf1FGk",
        "colab_type": "code",
        "colab": {}
      },
      "source": [
        "Cust_date['Date'] = Cust_date['Date'].astype('int') "
      ],
      "execution_count": 0,
      "outputs": []
    },
    {
      "cell_type": "code",
      "metadata": {
        "id": "DHTPCP6Ryusx",
        "colab_type": "code",
        "colab": {}
      },
      "source": [
        "def f2(row):\n",
        "    if row['Date'] > 201804:\n",
        "        val = 5\n",
        "    elif row['Date'] <= 201804 and row['Date'] > 201712:\n",
        "        val = 4\n",
        "    elif row['Date'] <= 201712 and row['Date'] > 201708:\n",
        "        val = 3\n",
        "    elif row['Date'] <= 201708 and row['Date'] > 201704:\n",
        "        val = 2\n",
        "    else:\n",
        "        val = 1\n",
        "    return val"
      ],
      "execution_count": 0,
      "outputs": []
    },
    {
      "cell_type": "code",
      "metadata": {
        "id": "3-B1BM0u0YUp",
        "colab_type": "code",
        "colab": {}
      },
      "source": [
        "Cust_date['Recency_Flag'] = Cust_date.apply(f2, axis=1)\n"
      ],
      "execution_count": 0,
      "outputs": []
    },
    {
      "cell_type": "code",
      "metadata": {
        "id": "2QH68GnT0srF",
        "colab_type": "code",
        "colab": {}
      },
      "source": [
        "Cust_date = Cust_date.groupby(\"Customer Number\", as_index=False)[\"Recency_Flag\"].max()"
      ],
      "execution_count": 0,
      "outputs": []
    },
    {
      "cell_type": "code",
      "metadata": {
        "id": "KDlSTKlz3lNv",
        "colab_type": "code",
        "outputId": "0554572f-7c4a-4852-8fef-e623abed4797",
        "colab": {
          "base_uri": "https://localhost:8080/",
          "height": 402
        }
      },
      "source": [
        "Cust_date"
      ],
      "execution_count": 52,
      "outputs": [
        {
          "output_type": "execute_result",
          "data": {
            "text/html": [
              "<div>\n",
              "<style scoped>\n",
              "    .dataframe tbody tr th:only-of-type {\n",
              "        vertical-align: middle;\n",
              "    }\n",
              "\n",
              "    .dataframe tbody tr th {\n",
              "        vertical-align: top;\n",
              "    }\n",
              "\n",
              "    .dataframe thead th {\n",
              "        text-align: right;\n",
              "    }\n",
              "</style>\n",
              "<table border=\"1\" class=\"dataframe\">\n",
              "  <thead>\n",
              "    <tr style=\"text-align: right;\">\n",
              "      <th></th>\n",
              "      <th>Customer Number</th>\n",
              "      <th>Recency_Flag</th>\n",
              "    </tr>\n",
              "  </thead>\n",
              "  <tbody>\n",
              "    <tr>\n",
              "      <th>0</th>\n",
              "      <td>*0</td>\n",
              "      <td>5</td>\n",
              "    </tr>\n",
              "    <tr>\n",
              "      <th>1</th>\n",
              "      <td>*1</td>\n",
              "      <td>5</td>\n",
              "    </tr>\n",
              "    <tr>\n",
              "      <th>2</th>\n",
              "      <td>*10</td>\n",
              "      <td>5</td>\n",
              "    </tr>\n",
              "    <tr>\n",
              "      <th>3</th>\n",
              "      <td>*100</td>\n",
              "      <td>5</td>\n",
              "    </tr>\n",
              "    <tr>\n",
              "      <th>4</th>\n",
              "      <td>*1000</td>\n",
              "      <td>5</td>\n",
              "    </tr>\n",
              "    <tr>\n",
              "      <th>...</th>\n",
              "      <td>...</td>\n",
              "      <td>...</td>\n",
              "    </tr>\n",
              "    <tr>\n",
              "      <th>349275</th>\n",
              "      <td>999966</td>\n",
              "      <td>3</td>\n",
              "    </tr>\n",
              "    <tr>\n",
              "      <th>349276</th>\n",
              "      <td>99997</td>\n",
              "      <td>4</td>\n",
              "    </tr>\n",
              "    <tr>\n",
              "      <th>349277</th>\n",
              "      <td>999977</td>\n",
              "      <td>2</td>\n",
              "    </tr>\n",
              "    <tr>\n",
              "      <th>349278</th>\n",
              "      <td>99998</td>\n",
              "      <td>5</td>\n",
              "    </tr>\n",
              "    <tr>\n",
              "      <th>349279</th>\n",
              "      <td>99999</td>\n",
              "      <td>4</td>\n",
              "    </tr>\n",
              "  </tbody>\n",
              "</table>\n",
              "<p>349280 rows × 2 columns</p>\n",
              "</div>"
            ],
            "text/plain": [
              "       Customer Number  Recency_Flag\n",
              "0                   *0             5\n",
              "1                   *1             5\n",
              "2                  *10             5\n",
              "3                 *100             5\n",
              "4                *1000             5\n",
              "...                ...           ...\n",
              "349275          999966             3\n",
              "349276           99997             4\n",
              "349277          999977             2\n",
              "349278           99998             5\n",
              "349279           99999             4\n",
              "\n",
              "[349280 rows x 2 columns]"
            ]
          },
          "metadata": {
            "tags": []
          },
          "execution_count": 52
        }
      ]
    },
    {
      "cell_type": "code",
      "metadata": {
        "id": "aJZCdfcZ2Wum",
        "colab_type": "code",
        "outputId": "29b57ecd-b8df-42e1-d34f-b00fc54c220d",
        "colab": {
          "base_uri": "https://localhost:8080/",
          "height": 405
        }
      },
      "source": [
        "plt.figure(figsize=(8,6))\n",
        "sns.countplot(x=\"Recency_Flag\", data=Cust_date, color=color[1])\n",
        "plt.ylabel('Count', fontsize=12)\n",
        "plt.xlabel('Recency_Flag', fontsize=12)\n",
        "plt.xticks(rotation='vertical')\n",
        "plt.title(\"Frequency of Recency_Flag\", fontsize=15)\n",
        "plt.show()"
      ],
      "execution_count": 53,
      "outputs": [
        {
          "output_type": "display_data",
          "data": {
            "image/png": "[encoded data removed]",
            "text/plain": [
              "<Figure size 576x432 with 1 Axes>"
            ]
          },
          "metadata": {
            "tags": []
          }
        }
      ]
    },
    {
      "cell_type": "markdown",
      "metadata": {
        "id": "MnLZrobWuRrk",
        "colab_type": "text"
      },
      "source": [
        "**Monetary Flag**"
      ]
    },
    {
      "cell_type": "code",
      "metadata": {
        "id": "HxVt_CcqYt-X",
        "colab_type": "code",
        "outputId": "d45d7663-b9f2-4432-b332-0bcca88cfa9f",
        "colab": {
          "base_uri": "https://localhost:8080/",
          "height": 34
        }
      },
      "source": [
        "gc.collect()"
      ],
      "execution_count": 54,
      "outputs": [
        {
          "output_type": "execute_result",
          "data": {
            "text/plain": [
              "4977"
            ]
          },
          "metadata": {
            "tags": []
          },
          "execution_count": 54
        }
      ]
    },
    {
      "cell_type": "code",
      "metadata": {
        "id": "G20eJ6QDAmAP",
        "colab_type": "code",
        "outputId": "c7661f8b-0e05-4982-9e3c-41cfc8d7ac11",
        "colab": {
          "base_uri": "https://localhost:8080/",
          "height": 185
        }
      },
      "source": [
        "train_RFM.dtypes"
      ],
      "execution_count": 55,
      "outputs": [
        {
          "output_type": "execute_result",
          "data": {
            "text/plain": [
              "Date                 object\n",
              "Transaction Time     object\n",
              "Customer Number      object\n",
              "Receipt Number       object\n",
              "Item Number          object\n",
              "Item Description     object\n",
              "Net Sales           float64\n",
              "year                  int64\n",
              "months               object\n",
              "dtype: object"
            ]
          },
          "metadata": {
            "tags": []
          },
          "execution_count": 55
        }
      ]
    },
    {
      "cell_type": "code",
      "metadata": {
        "id": "tPLLqmYDXK7N",
        "colab_type": "code",
        "outputId": "dbf295ad-2930-431d-a20e-8470a3bccb9a",
        "colab": {
          "base_uri": "https://localhost:8080/",
          "height": 185
        }
      },
      "source": [
        "train_RFM.isna().sum()"
      ],
      "execution_count": 56,
      "outputs": [
        {
          "output_type": "execute_result",
          "data": {
            "text/plain": [
              "Date                0\n",
              "Transaction Time    0\n",
              "Customer Number     0\n",
              "Receipt Number      0\n",
              "Item Number         0\n",
              "Item Description    0\n",
              "Net Sales           0\n",
              "year                0\n",
              "months              0\n",
              "dtype: int64"
            ]
          },
          "metadata": {
            "tags": []
          },
          "execution_count": 56
        }
      ]
    },
    {
      "cell_type": "code",
      "metadata": {
        "id": "OmhdDqot3IOC",
        "colab_type": "code",
        "colab": {}
      },
      "source": [
        "Cust_monetory = train_RFM.groupby([\"Customer Number\"])[\"Net Sales\"].aggregate(\"sum\").\\\n",
        "reset_index()#.sort_values(by='Net Sales', ascending=False)\n"
      ],
      "execution_count": 0,
      "outputs": []
    },
    {
      "cell_type": "code",
      "metadata": {
        "id": "_-hn9RXXm3e5",
        "colab_type": "code",
        "colab": {}
      },
      "source": [
        "Cust_monetory = Cust_monetory.sort_values(by='Net Sales', ascending=False)"
      ],
      "execution_count": 0,
      "outputs": []
    },
    {
      "cell_type": "code",
      "metadata": {
        "id": "iFX48L25nFuH",
        "colab_type": "code",
        "outputId": "f92fa62b-0976-4e3c-89bc-b3f6201582d9",
        "colab": {
          "base_uri": "https://localhost:8080/",
          "height": 195
        }
      },
      "source": [
        "unique_price=Cust_monetory[['Net Sales']].drop_duplicates()\n",
        "unique_price=unique_price[unique_price['Net Sales'] > 0]\n",
        "unique_price['monetary_Band'] = pd.qcut(unique_price['Net Sales'], 5)\n",
        "unique_price=unique_price[['monetary_Band']].drop_duplicates()\n",
        "unique_price"
      ],
      "execution_count": 59,
      "outputs": [
        {
          "output_type": "execute_result",
          "data": {
            "text/html": [
              "<div>\n",
              "<style scoped>\n",
              "    .dataframe tbody tr th:only-of-type {\n",
              "        vertical-align: middle;\n",
              "    }\n",
              "\n",
              "    .dataframe tbody tr th {\n",
              "        vertical-align: top;\n",
              "    }\n",
              "\n",
              "    .dataframe thead th {\n",
              "        text-align: right;\n",
              "    }\n",
              "</style>\n",
              "<table border=\"1\" class=\"dataframe\">\n",
              "  <thead>\n",
              "    <tr style=\"text-align: right;\">\n",
              "      <th></th>\n",
              "      <th>monetary_Band</th>\n",
              "    </tr>\n",
              "  </thead>\n",
              "  <tbody>\n",
              "    <tr>\n",
              "      <th>24768</th>\n",
              "      <td>(807.57, 48857385.73]</td>\n",
              "    </tr>\n",
              "    <tr>\n",
              "      <th>132162</th>\n",
              "      <td>(454.55, 807.57]</td>\n",
              "    </tr>\n",
              "    <tr>\n",
              "      <th>190562</th>\n",
              "      <td>(262.42, 454.55]</td>\n",
              "    </tr>\n",
              "    <tr>\n",
              "      <th>130931</th>\n",
              "      <td>(128.24, 262.42]</td>\n",
              "    </tr>\n",
              "    <tr>\n",
              "      <th>251084</th>\n",
              "      <td>(-0.000999999999999787, 128.24]</td>\n",
              "    </tr>\n",
              "  </tbody>\n",
              "</table>\n",
              "</div>"
            ],
            "text/plain": [
              "                          monetary_Band\n",
              "24768             (807.57, 48857385.73]\n",
              "132162                 (454.55, 807.57]\n",
              "190562                 (262.42, 454.55]\n",
              "130931                 (128.24, 262.42]\n",
              "251084  (-0.000999999999999787, 128.24]"
            ]
          },
          "metadata": {
            "tags": []
          },
          "execution_count": 59
        }
      ]
    },
    {
      "cell_type": "code",
      "metadata": {
        "id": "oOMYw-7nnUMJ",
        "colab_type": "code",
        "colab": {}
      },
      "source": [
        "def f3(row):\n",
        "    if row['Net Sales'] <= 128.24:\n",
        "        val = 1\n",
        "    elif row['Net Sales'] > 128.24 and row['Net Sales'] <= 262.42:\n",
        "        val = 2\n",
        "    elif row['Net Sales'] > 262.42 and row['Net Sales'] <= 454.55:\n",
        "        val = 3\n",
        "    elif row['Net Sales'] > 454.55 and row['Net Sales'] <= 807.57:\n",
        "        val = 4\n",
        "    else:\n",
        "        val = 5\n",
        "    return val"
      ],
      "execution_count": 0,
      "outputs": []
    },
    {
      "cell_type": "code",
      "metadata": {
        "id": "kYFWrGt3nndB",
        "colab_type": "code",
        "colab": {}
      },
      "source": [
        "Cust_monetory['Monetary_Flag'] = Cust_monetory.apply(f3, axis=1)\n"
      ],
      "execution_count": 0,
      "outputs": []
    },
    {
      "cell_type": "code",
      "metadata": {
        "id": "yvvnYAR2oEpZ",
        "colab_type": "code",
        "outputId": "2e8f23d4-6dab-43a9-f264-157dce9df748",
        "colab": {
          "base_uri": "https://localhost:8080/",
          "height": 405
        }
      },
      "source": [
        "plt.figure(figsize=(8,6))\n",
        "sns.countplot(x=\"Monetary_Flag\", data=Cust_monetory, color=color[1])\n",
        "plt.ylabel('Count', fontsize=12)\n",
        "plt.xlabel('Monetary_Flag', fontsize=12)\n",
        "plt.xticks(rotation='vertical')\n",
        "plt.title(\"Frequency of Monetary_Flag\", fontsize=15)\n",
        "plt.show()"
      ],
      "execution_count": 62,
      "outputs": [
        {
          "output_type": "display_data",
          "data": {
            "image/png": "[encoded data removed]",
            "text/plain": [
              "<Figure size 576x432 with 1 Axes>"
            ]
          },
          "metadata": {
            "tags": []
          }
        }
      ]
    },
    {
      "cell_type": "markdown",
      "metadata": {
        "id": "HuTbRoQQuclJ",
        "colab_type": "text"
      },
      "source": [
        "**Merging Recency,Frequency and Monetary Flag**"
      ]
    },
    {
      "cell_type": "code",
      "metadata": {
        "id": "9TvxgKpkoaHv",
        "colab_type": "code",
        "outputId": "72c7f632-89d6-462a-8061-8f405c947123",
        "colab": {
          "base_uri": "https://localhost:8080/",
          "height": 343
        }
      },
      "source": [
        "Cust_All=pd.merge(Cust_date,Cust_freq_count[['Customer Number','Freq_Flag']],\\\n",
        "                     on=['Customer Number'],how='left')\n",
        "Cust_All=pd.merge(Cust_All,Cust_monetory[['Customer Number','Monetary_Flag']],\\\n",
        "                     on=['Customer Number'],how='left')\n",
        "Cust_All.tail(10)"
      ],
      "execution_count": 63,
      "outputs": [
        {
          "output_type": "execute_result",
          "data": {
            "text/html": [
              "<div>\n",
              "<style scoped>\n",
              "    .dataframe tbody tr th:only-of-type {\n",
              "        vertical-align: middle;\n",
              "    }\n",
              "\n",
              "    .dataframe tbody tr th {\n",
              "        vertical-align: top;\n",
              "    }\n",
              "\n",
              "    .dataframe thead th {\n",
              "        text-align: right;\n",
              "    }\n",
              "</style>\n",
              "<table border=\"1\" class=\"dataframe\">\n",
              "  <thead>\n",
              "    <tr style=\"text-align: right;\">\n",
              "      <th></th>\n",
              "      <th>Customer Number</th>\n",
              "      <th>Recency_Flag</th>\n",
              "      <th>Freq_Flag</th>\n",
              "      <th>Monetary_Flag</th>\n",
              "    </tr>\n",
              "  </thead>\n",
              "  <tbody>\n",
              "    <tr>\n",
              "      <th>349270</th>\n",
              "      <td>99994</td>\n",
              "      <td>2</td>\n",
              "      <td>1</td>\n",
              "      <td>4</td>\n",
              "    </tr>\n",
              "    <tr>\n",
              "      <th>349271</th>\n",
              "      <td>999948</td>\n",
              "      <td>2</td>\n",
              "      <td>1</td>\n",
              "      <td>1</td>\n",
              "    </tr>\n",
              "    <tr>\n",
              "      <th>349272</th>\n",
              "      <td>999949</td>\n",
              "      <td>1</td>\n",
              "      <td>1</td>\n",
              "      <td>1</td>\n",
              "    </tr>\n",
              "    <tr>\n",
              "      <th>349273</th>\n",
              "      <td>99995</td>\n",
              "      <td>5</td>\n",
              "      <td>1</td>\n",
              "      <td>4</td>\n",
              "    </tr>\n",
              "    <tr>\n",
              "      <th>349274</th>\n",
              "      <td>99996</td>\n",
              "      <td>5</td>\n",
              "      <td>5</td>\n",
              "      <td>5</td>\n",
              "    </tr>\n",
              "    <tr>\n",
              "      <th>349275</th>\n",
              "      <td>999966</td>\n",
              "      <td>3</td>\n",
              "      <td>1</td>\n",
              "      <td>1</td>\n",
              "    </tr>\n",
              "    <tr>\n",
              "      <th>349276</th>\n",
              "      <td>99997</td>\n",
              "      <td>4</td>\n",
              "      <td>1</td>\n",
              "      <td>5</td>\n",
              "    </tr>\n",
              "    <tr>\n",
              "      <th>349277</th>\n",
              "      <td>999977</td>\n",
              "      <td>2</td>\n",
              "      <td>1</td>\n",
              "      <td>1</td>\n",
              "    </tr>\n",
              "    <tr>\n",
              "      <th>349278</th>\n",
              "      <td>99998</td>\n",
              "      <td>5</td>\n",
              "      <td>2</td>\n",
              "      <td>5</td>\n",
              "    </tr>\n",
              "    <tr>\n",
              "      <th>349279</th>\n",
              "      <td>99999</td>\n",
              "      <td>4</td>\n",
              "      <td>1</td>\n",
              "      <td>5</td>\n",
              "    </tr>\n",
              "  </tbody>\n",
              "</table>\n",
              "</div>"
            ],
            "text/plain": [
              "       Customer Number  Recency_Flag  Freq_Flag  Monetary_Flag\n",
              "349270           99994             2          1              4\n",
              "349271          999948             2          1              1\n",
              "349272          999949             1          1              1\n",
              "349273           99995             5          1              4\n",
              "349274           99996             5          5              5\n",
              "349275          999966             3          1              1\n",
              "349276           99997             4          1              5\n",
              "349277          999977             2          1              1\n",
              "349278           99998             5          2              5\n",
              "349279           99999             4          1              5"
            ]
          },
          "metadata": {
            "tags": []
          },
          "execution_count": 63
        }
      ]
    },
    {
      "cell_type": "code",
      "metadata": {
        "id": "lNEjddifydMU",
        "colab_type": "code",
        "outputId": "316cad32-150c-4f80-e43f-1e9ba25383aa",
        "colab": {
          "base_uri": "https://localhost:8080/",
          "height": 77
        }
      },
      "source": [
        "Cust_All.loc[(Cust_All['Customer Number'] == '*5')]"
      ],
      "execution_count": 64,
      "outputs": [
        {
          "output_type": "execute_result",
          "data": {
            "text/html": [
              "<div>\n",
              "<style scoped>\n",
              "    .dataframe tbody tr th:only-of-type {\n",
              "        vertical-align: middle;\n",
              "    }\n",
              "\n",
              "    .dataframe tbody tr th {\n",
              "        vertical-align: top;\n",
              "    }\n",
              "\n",
              "    .dataframe thead th {\n",
              "        text-align: right;\n",
              "    }\n",
              "</style>\n",
              "<table border=\"1\" class=\"dataframe\">\n",
              "  <thead>\n",
              "    <tr style=\"text-align: right;\">\n",
              "      <th></th>\n",
              "      <th>Customer Number</th>\n",
              "      <th>Recency_Flag</th>\n",
              "      <th>Freq_Flag</th>\n",
              "      <th>Monetary_Flag</th>\n",
              "    </tr>\n",
              "  </thead>\n",
              "  <tbody>\n",
              "    <tr>\n",
              "      <th>24768</th>\n",
              "      <td>*5</td>\n",
              "      <td>5</td>\n",
              "      <td>5</td>\n",
              "      <td>5</td>\n",
              "    </tr>\n",
              "  </tbody>\n",
              "</table>\n",
              "</div>"
            ],
            "text/plain": [
              "      Customer Number  Recency_Flag  Freq_Flag  Monetary_Flag\n",
              "24768              *5             5          5              5"
            ]
          },
          "metadata": {
            "tags": []
          },
          "execution_count": 64
        }
      ]
    },
    {
      "cell_type": "markdown",
      "metadata": {
        "id": "_Yd7q_5muuSw",
        "colab_type": "text"
      },
      "source": [
        "**Segmenting Customers on the basis of RFM Scores**"
      ]
    },
    {
      "cell_type": "code",
      "metadata": {
        "id": "gfdS55f6pIqd",
        "colab_type": "code",
        "outputId": "ec90eb56-6342-4239-c6f8-4669a4249c28",
        "colab": {
          "base_uri": "https://localhost:8080/",
          "height": 34
        }
      },
      "source": [
        "#Champions\n",
        "Champions = Cust_All.loc[(Cust_All['Recency_Flag'] >=4) & (Cust_All['Freq_Flag'] >= 4) & (Cust_All['Monetary_Flag'] >= 4)]\n",
        "Champions.shape"
      ],
      "execution_count": 65,
      "outputs": [
        {
          "output_type": "execute_result",
          "data": {
            "text/plain": [
              "(248, 4)"
            ]
          },
          "metadata": {
            "tags": []
          },
          "execution_count": 65
        }
      ]
    },
    {
      "cell_type": "code",
      "metadata": {
        "id": "qA52EUf9sQAP",
        "colab_type": "code",
        "outputId": "6f814d34-6118-4224-ae0f-9631f5f32c86",
        "colab": {
          "base_uri": "https://localhost:8080/",
          "height": 34
        }
      },
      "source": [
        "#Loyal_Customers\n",
        "Loyal_Customers = Cust_All.loc[(Cust_All['Freq_Flag'] >= 4)]\n",
        "Loyal_Customers.shape"
      ],
      "execution_count": 66,
      "outputs": [
        {
          "output_type": "execute_result",
          "data": {
            "text/plain": [
              "(255, 4)"
            ]
          },
          "metadata": {
            "tags": []
          },
          "execution_count": 66
        }
      ]
    },
    {
      "cell_type": "code",
      "metadata": {
        "id": "qDxrpGB_8Vy9",
        "colab_type": "code",
        "outputId": "33eab04a-5cbf-419e-99ff-8c0c24116c68",
        "colab": {
          "base_uri": "https://localhost:8080/",
          "height": 34
        }
      },
      "source": [
        "#Potential_Loyalist\n",
        "Potential_Loyalist = Cust_All.loc[(Cust_All['Recency_Flag'] ==5) & (Cust_All['Freq_Flag'] != 1 ) & (Cust_All['Monetary_Flag'] == 4)]\n",
        "Potential_Loyalist.shape"
      ],
      "execution_count": 67,
      "outputs": [
        {
          "output_type": "execute_result",
          "data": {
            "text/plain": [
              "(54, 4)"
            ]
          },
          "metadata": {
            "tags": []
          },
          "execution_count": 67
        }
      ]
    },
    {
      "cell_type": "code",
      "metadata": {
        "id": "rzBSgWAc9rBu",
        "colab_type": "code",
        "outputId": "3e37df78-6e32-4a8f-e5e1-1c6f99b381fe",
        "colab": {
          "base_uri": "https://localhost:8080/",
          "height": 34
        }
      },
      "source": [
        "#Recent Customers\n",
        "Recent_Customers = Cust_All.loc[(Cust_All['Recency_Flag'] ==5) & (Cust_All['Freq_Flag'] < 5 ) ]\n",
        "Recent_Customers.shape"
      ],
      "execution_count": 68,
      "outputs": [
        {
          "output_type": "execute_result",
          "data": {
            "text/plain": [
              "(270887, 4)"
            ]
          },
          "metadata": {
            "tags": []
          },
          "execution_count": 68
        }
      ]
    },
    {
      "cell_type": "code",
      "metadata": {
        "id": "gYRDxpYX_Qi0",
        "colab_type": "code",
        "outputId": "5a956088-c72c-4a56-d23a-ef3a062fb3ab",
        "colab": {
          "base_uri": "https://localhost:8080/",
          "height": 34
        }
      },
      "source": [
        "#Promising\n",
        "Promising = Cust_All.loc[(Cust_All['Recency_Flag'] ==5) & (Cust_All['Freq_Flag'] >=2 ) & (Cust_All['Freq_Flag'] <=4 ) & (Cust_All['Monetary_Flag'] <= 3 )   ]\n",
        "Promising.shape"
      ],
      "execution_count": 69,
      "outputs": [
        {
          "output_type": "execute_result",
          "data": {
            "text/plain": [
              "(16, 4)"
            ]
          },
          "metadata": {
            "tags": []
          },
          "execution_count": 69
        }
      ]
    },
    {
      "cell_type": "code",
      "metadata": {
        "id": "6CORvmCZ_rOw",
        "colab_type": "code",
        "outputId": "07a1241a-fda5-4ba9-ad4a-72fb5459b22c",
        "colab": {
          "base_uri": "https://localhost:8080/",
          "height": 34
        }
      },
      "source": [
        "#Customers_Needing_Attention\n",
        "Customers_Needing_Attention = Cust_All.loc[(Cust_All['Recency_Flag'] >= 3) &  (Cust_All['Recency_Flag'] < 5) & (Cust_All['Freq_Flag'] >= 2 ) & (Cust_All['Monetary_Flag'] >= 3)]\n",
        "Customers_Needing_Attention.shape"
      ],
      "execution_count": 70,
      "outputs": [
        {
          "output_type": "execute_result",
          "data": {
            "text/plain": [
              "(26, 4)"
            ]
          },
          "metadata": {
            "tags": []
          },
          "execution_count": 70
        }
      ]
    },
    {
      "cell_type": "code",
      "metadata": {
        "id": "a31n9T9qATYe",
        "colab_type": "code",
        "outputId": "ca053294-324d-492d-fcad-847248672d65",
        "colab": {
          "base_uri": "https://localhost:8080/",
          "height": 34
        }
      },
      "source": [
        "#About_To_Sleep\n",
        "About_To_Sleep = Cust_All.loc[(Cust_All['Recency_Flag'] <=3) & (Cust_All['Freq_Flag'] <= 3 ) & (Cust_All['Monetary_Flag'] <= 3)]\n",
        "About_To_Sleep.shape"
      ],
      "execution_count": 71,
      "outputs": [
        {
          "output_type": "execute_result",
          "data": {
            "text/plain": [
              "(53609, 4)"
            ]
          },
          "metadata": {
            "tags": []
          },
          "execution_count": 71
        }
      ]
    },
    {
      "cell_type": "code",
      "metadata": {
        "id": "O4-MBhGmCa7D",
        "colab_type": "code",
        "outputId": "ae617ad5-2398-4724-c465-ad398a26ba2a",
        "colab": {
          "base_uri": "https://localhost:8080/",
          "height": 34
        }
      },
      "source": [
        "#At_Risk\n",
        "At_Risk = Cust_All.loc[(Cust_All['Recency_Flag'] <=3) & (Cust_All['Freq_Flag'] >= 2 ) & (Cust_All['Monetary_Flag'] >= 2)]\n",
        "At_Risk.shape"
      ],
      "execution_count": 72,
      "outputs": [
        {
          "output_type": "execute_result",
          "data": {
            "text/plain": [
              "(17, 4)"
            ]
          },
          "metadata": {
            "tags": []
          },
          "execution_count": 72
        }
      ]
    },
    {
      "cell_type": "code",
      "metadata": {
        "id": "4hFEy_gGDFDC",
        "colab_type": "code",
        "outputId": "c5eb7b54-f3b1-4547-cc78-8894e92aa1e5",
        "colab": {
          "base_uri": "https://localhost:8080/",
          "height": 34
        }
      },
      "source": [
        "#Cant_Lose_Them\n",
        "Cant_Lose_Them = Cust_All.loc[(Cust_All['Recency_Flag'] <=4) & (Cust_All['Freq_Flag'] >= 3 ) & (Cust_All['Monetary_Flag'] >= 3)]\n",
        "Cant_Lose_Them.shape"
      ],
      "execution_count": 73,
      "outputs": [
        {
          "output_type": "execute_result",
          "data": {
            "text/plain": [
              "(10, 4)"
            ]
          },
          "metadata": {
            "tags": []
          },
          "execution_count": 73
        }
      ]
    },
    {
      "cell_type": "code",
      "metadata": {
        "id": "C3e3vPzxDoyY",
        "colab_type": "code",
        "outputId": "5af24535-f2d1-41dc-9198-0386b2c0a682",
        "colab": {
          "base_uri": "https://localhost:8080/",
          "height": 34
        }
      },
      "source": [
        "#Hibernating\n",
        "Hibernating = Cust_All.loc[(Cust_All['Recency_Flag'] <=2) & (Cust_All['Freq_Flag'] <= 2 ) & (Cust_All['Monetary_Flag'] <= 2)]\n",
        "Hibernating.shape"
      ],
      "execution_count": 74,
      "outputs": [
        {
          "output_type": "execute_result",
          "data": {
            "text/plain": [
              "(31090, 4)"
            ]
          },
          "metadata": {
            "tags": []
          },
          "execution_count": 74
        }
      ]
    },
    {
      "cell_type": "code",
      "metadata": {
        "id": "h6pS66XHD9uk",
        "colab_type": "code",
        "outputId": "192f5040-0168-454e-d33e-72c85e0af618",
        "colab": {
          "base_uri": "https://localhost:8080/",
          "height": 34
        }
      },
      "source": [
        "#Lost\n",
        "Lost = Cust_All.loc[(Cust_All['Recency_Flag'] ==1)& (Cust_All['Freq_Flag'] == 1 ) & (Cust_All['Monetary_Flag'] == 1)]\n",
        "Lost.shape"
      ],
      "execution_count": 75,
      "outputs": [
        {
          "output_type": "execute_result",
          "data": {
            "text/plain": [
              "(11253, 4)"
            ]
          },
          "metadata": {
            "tags": []
          },
          "execution_count": 75
        }
      ]
    },
    {
      "cell_type": "code",
      "metadata": {
        "id": "UyW__rGfuq0l",
        "colab_type": "code",
        "outputId": "018a78e1-f50b-4edd-9af8-146c7a9ac9b5",
        "colab": {
          "base_uri": "https://localhost:8080/",
          "height": 34
        }
      },
      "source": [
        "#spend_thrift_cust\n",
        "spend_thrift_cust = Cust_All.loc[(Cust_All['Freq_Flag'] == 5)& (Cust_All['Monetary_Flag'] == 5)]\n",
        "spend_thrift_cust.shape"
      ],
      "execution_count": 76,
      "outputs": [
        {
          "output_type": "execute_result",
          "data": {
            "text/plain": [
              "(100, 4)"
            ]
          },
          "metadata": {
            "tags": []
          },
          "execution_count": 76
        }
      ]
    },
    {
      "cell_type": "code",
      "metadata": {
        "id": "3aAfrbUVFLdK",
        "colab_type": "code",
        "colab": {}
      },
      "source": [
        "customer_segments = ['Champions','Loyal_Customers','Promising','Need_Attention','At_Risk','Cant_Lose_Them']\n",
        "freq_segments = [Champions.shape[0],Loyal_Customers.shape[0],Promising.shape[0],Customers_Needing_Attention.shape[0],At_Risk.shape[0],Cant_Lose_Them.shape[0]]"
      ],
      "execution_count": 0,
      "outputs": []
    },
    {
      "cell_type": "code",
      "metadata": {
        "id": "94RByUsXJ-WN",
        "colab_type": "code",
        "colab": {}
      },
      "source": [
        "data = {'customer_segments' : ['Champions','Loyal_Customers','Promising','Customers_Needing_Attention','At_Risk','Cant_Lose_Them'],\n",
        "'freq_segments' : [Champions.shape[0],Loyal_Customers.shape[0],Promising.shape[0],Customers_Needing_Attention.shape[0],At_Risk.shape[0],Cant_Lose_Them.shape[0]]}"
      ],
      "execution_count": 0,
      "outputs": []
    },
    {
      "cell_type": "code",
      "metadata": {
        "id": "Z0wX_oz3HwpC",
        "colab_type": "code",
        "colab": {}
      },
      "source": [
        "RFM_seg = pd.DataFrame(data)"
      ],
      "execution_count": 0,
      "outputs": []
    },
    {
      "cell_type": "code",
      "metadata": {
        "id": "MQshKgF8I2qj",
        "colab_type": "code",
        "outputId": "d42a15bd-7fc3-4ed0-d5ea-899ff6f509f2",
        "colab": {
          "base_uri": "https://localhost:8080/",
          "height": 225
        }
      },
      "source": [
        "RFM_seg"
      ],
      "execution_count": 80,
      "outputs": [
        {
          "output_type": "execute_result",
          "data": {
            "text/html": [
              "<div>\n",
              "<style scoped>\n",
              "    .dataframe tbody tr th:only-of-type {\n",
              "        vertical-align: middle;\n",
              "    }\n",
              "\n",
              "    .dataframe tbody tr th {\n",
              "        vertical-align: top;\n",
              "    }\n",
              "\n",
              "    .dataframe thead th {\n",
              "        text-align: right;\n",
              "    }\n",
              "</style>\n",
              "<table border=\"1\" class=\"dataframe\">\n",
              "  <thead>\n",
              "    <tr style=\"text-align: right;\">\n",
              "      <th></th>\n",
              "      <th>customer_segments</th>\n",
              "      <th>freq_segments</th>\n",
              "    </tr>\n",
              "  </thead>\n",
              "  <tbody>\n",
              "    <tr>\n",
              "      <th>0</th>\n",
              "      <td>Champions</td>\n",
              "      <td>248</td>\n",
              "    </tr>\n",
              "    <tr>\n",
              "      <th>1</th>\n",
              "      <td>Loyal_Customers</td>\n",
              "      <td>255</td>\n",
              "    </tr>\n",
              "    <tr>\n",
              "      <th>2</th>\n",
              "      <td>Promising</td>\n",
              "      <td>16</td>\n",
              "    </tr>\n",
              "    <tr>\n",
              "      <th>3</th>\n",
              "      <td>Customers_Needing_Attention</td>\n",
              "      <td>26</td>\n",
              "    </tr>\n",
              "    <tr>\n",
              "      <th>4</th>\n",
              "      <td>At_Risk</td>\n",
              "      <td>17</td>\n",
              "    </tr>\n",
              "    <tr>\n",
              "      <th>5</th>\n",
              "      <td>Cant_Lose_Them</td>\n",
              "      <td>10</td>\n",
              "    </tr>\n",
              "  </tbody>\n",
              "</table>\n",
              "</div>"
            ],
            "text/plain": [
              "             customer_segments  freq_segments\n",
              "0                    Champions            248\n",
              "1              Loyal_Customers            255\n",
              "2                    Promising             16\n",
              "3  Customers_Needing_Attention             26\n",
              "4                      At_Risk             17\n",
              "5               Cant_Lose_Them             10"
            ]
          },
          "metadata": {
            "tags": []
          },
          "execution_count": 80
        }
      ]
    },
    {
      "cell_type": "code",
      "metadata": {
        "id": "Fa7_CBdHElJE",
        "colab_type": "code",
        "outputId": "50a62bc8-a6b7-4b5b-e8a2-e54866868090",
        "colab": {
          "base_uri": "https://localhost:8080/",
          "height": 738
        }
      },
      "source": [
        "fig2 =plt.figure(figsize=(12,11))\n",
        "sns.barplot(customer_segments,freq_segments)\n",
        "plt.ylabel( \"Frequency of Segments\", fontsize=13)\n",
        "plt.xlabel('Customer Segments', fontsize=13)\n",
        "plt.xticks(fontsize=13,rotation=30)\n",
        "plt.title(\"Customer Segmentation using RFM\", fontsize=15)\n",
        "plt.show()\n",
        "fig2.savefig('RFM_barplot.png')"
      ],
      "execution_count": 106,
      "outputs": [
        {
          "output_type": "display_data",
          "data": {
            "image/png": "[encoded data removed]",
            "text/plain": [
              "<Figure size 864x792 with 1 Axes>"
            ]
          },
          "metadata": {
            "tags": []
          }
        }
      ]
    },
    {
      "cell_type": "markdown",
      "metadata": {
        "id": "3KzUup6MvOyQ",
        "colab_type": "text"
      },
      "source": [
        "Figure: Customer Segmentation using RFM analysis: Differentitation of Customers on the basis of set of RFM values"
      ]
    },
    {
      "cell_type": "code",
      "metadata": {
        "id": "BHzNGqQ7XNe2",
        "colab_type": "code",
        "outputId": "d30e1d18-d3df-473a-b78c-f1b949a50222",
        "colab": {
          "base_uri": "https://localhost:8080/",
          "height": 34
        }
      },
      "source": [
        "Cust_All.shape"
      ],
      "execution_count": 82,
      "outputs": [
        {
          "output_type": "execute_result",
          "data": {
            "text/plain": [
              "(349280, 4)"
            ]
          },
          "metadata": {
            "tags": []
          },
          "execution_count": 82
        }
      ]
    },
    {
      "cell_type": "code",
      "metadata": {
        "id": "Z-gA5pVnWJyC",
        "colab_type": "code",
        "outputId": "aa717ab0-da39-47c8-8d8c-bf0587cd95c1",
        "colab": {
          "base_uri": "https://localhost:8080/",
          "height": 466
        }
      },
      "source": [
        "from matplotlib.ticker import MaxNLocator\n",
        "\n",
        "#ax = plt.figure().gca()\n",
        "#ax.yaxis.set_major_locator(MaxNLocator(integer=True))\n",
        "\n",
        "fig = plt.figure(figsize=(10, 8))\n",
        "ax = fig.add_subplot(111, projection='3d')\n",
        "\n",
        "xs = Cust_All['Recency_Flag']\n",
        "ys = Cust_All['Freq_Flag']\n",
        "zs = Cust_All['Monetary_Flag']\n",
        "volume = xs*ys*zs\n",
        "sc = ax.scatter(xs, ys, zs, s=volume*10,  edgecolors='white')\n",
        "#sc = ax.scatter(xs, ys, zs, s=150,  edgecolors='white')\n",
        "\n",
        "ax.yaxis.set_major_locator(MaxNLocator(integer=True))\n",
        "ax.xaxis.set_major_locator(MaxNLocator(integer=True))\n",
        "ax.zaxis.set_major_locator(MaxNLocator(integer=True))\n",
        "\n",
        "ax.set_xlabel('Recency',fontsize=12)\n",
        "ax.set_ylabel('Frequency',fontsize=12)\n",
        "ax.set_zlabel('Monetary',fontsize=12)\n",
        "plt.title(\"Customer Significance and Valuability\", fontsize=14)\n",
        "\n",
        "plt.show()"
      ],
      "execution_count": 83,
      "outputs": [
        {
          "output_type": "display_data",
          "data": {
            "image/png": "[encoded data removed]",
            "text/plain": [
              "<Figure size 720x576 with 1 Axes>"
            ]
          },
          "metadata": {
            "tags": []
          }
        }
      ]
    },
    {
      "cell_type": "markdown",
      "metadata": {
        "id": "1hHSl-9HvIbk",
        "colab_type": "text"
      },
      "source": [
        "Figure: Customer Significance and Valuability using RFM analysis: 1. Color Density: Color density is directly proportional to\n",
        "the Number of Customers with same RFM set values i.e. Darker the colour, more the number of Customers with that\n",
        "set of RFM value. 2. Size: Customer significance to the store is directly proportional to the size of the bubble i.e. Most\n",
        "Valuable Customers will have largest bubble with RFM values set of 5,5,5."
      ]
    },
    {
      "cell_type": "code",
      "metadata": {
        "id": "nKd1NOhBtzqc",
        "colab_type": "code",
        "colab": {}
      },
      "source": [
        "fig.savefig('3d_scatter.png')"
      ],
      "execution_count": 0,
      "outputs": []
    },
    {
      "cell_type": "markdown",
      "metadata": {
        "id": "5q3tgtxYbOs7",
        "colab_type": "text"
      },
      "source": [
        "## **Validation**"
      ]
    },
    {
      "cell_type": "code",
      "metadata": {
        "id": "LY1EWQaSbNCL",
        "colab_type": "code",
        "outputId": "7c6300a8-8a20-459c-c45b-23523610b646",
        "colab": {
          "base_uri": "https://localhost:8080/",
          "height": 195
        }
      },
      "source": [
        "train_RFM.head()"
      ],
      "execution_count": 85,
      "outputs": [
        {
          "output_type": "execute_result",
          "data": {
            "text/html": [
              "<div>\n",
              "<style scoped>\n",
              "    .dataframe tbody tr th:only-of-type {\n",
              "        vertical-align: middle;\n",
              "    }\n",
              "\n",
              "    .dataframe tbody tr th {\n",
              "        vertical-align: top;\n",
              "    }\n",
              "\n",
              "    .dataframe thead th {\n",
              "        text-align: right;\n",
              "    }\n",
              "</style>\n",
              "<table border=\"1\" class=\"dataframe\">\n",
              "  <thead>\n",
              "    <tr style=\"text-align: right;\">\n",
              "      <th></th>\n",
              "      <th>Date</th>\n",
              "      <th>Transaction Time</th>\n",
              "      <th>Customer Number</th>\n",
              "      <th>Receipt Number</th>\n",
              "      <th>Item Number</th>\n",
              "      <th>Item Description</th>\n",
              "      <th>Net Sales</th>\n",
              "      <th>year</th>\n",
              "      <th>months</th>\n",
              "    </tr>\n",
              "  </thead>\n",
              "  <tbody>\n",
              "    <tr>\n",
              "      <th>5868993</th>\n",
              "      <td>201701</td>\n",
              "      <td>15:54:38</td>\n",
              "      <td>30247</td>\n",
              "      <td>B15056</td>\n",
              "      <td>6237762</td>\n",
              "      <td>GLAD FORCEFLEX BLK 50CT</td>\n",
              "      <td>12.74</td>\n",
              "      <td>2017</td>\n",
              "      <td>01</td>\n",
              "    </tr>\n",
              "    <tr>\n",
              "      <th>5863918</th>\n",
              "      <td>201701</td>\n",
              "      <td>14:26:52</td>\n",
              "      <td>233070</td>\n",
              "      <td>A15017</td>\n",
              "      <td>30733</td>\n",
              "      <td>BOX SGL GNG PVC OW 14CU\"</td>\n",
              "      <td>1.99</td>\n",
              "      <td>2017</td>\n",
              "      <td>01</td>\n",
              "    </tr>\n",
              "    <tr>\n",
              "      <th>5863919</th>\n",
              "      <td>201701</td>\n",
              "      <td>14:26:52</td>\n",
              "      <td>*5</td>\n",
              "      <td>I29245</td>\n",
              "      <td>PSWITCH832</td>\n",
              "      <td>LED NIGHT LIGHT SWITCH 2PK</td>\n",
              "      <td>11.24</td>\n",
              "      <td>2017</td>\n",
              "      <td>01</td>\n",
              "    </tr>\n",
              "    <tr>\n",
              "      <th>5863920</th>\n",
              "      <td>201701</td>\n",
              "      <td>14:26:52</td>\n",
              "      <td>233070</td>\n",
              "      <td>A15017</td>\n",
              "      <td>3202181</td>\n",
              "      <td>BLANK WALLPLATE 1G WHITE</td>\n",
              "      <td>0.99</td>\n",
              "      <td>2017</td>\n",
              "      <td>01</td>\n",
              "    </tr>\n",
              "    <tr>\n",
              "      <th>5863921</th>\n",
              "      <td>201701</td>\n",
              "      <td>14:26:52</td>\n",
              "      <td>233070</td>\n",
              "      <td>A15017</td>\n",
              "      <td>33180</td>\n",
              "      <td>TAPE ELECT3/4X60'VYL ACE</td>\n",
              "      <td>0.99</td>\n",
              "      <td>2017</td>\n",
              "      <td>01</td>\n",
              "    </tr>\n",
              "  </tbody>\n",
              "</table>\n",
              "</div>"
            ],
            "text/plain": [
              "           Date Transaction Time Customer Number  ... Net Sales  year months\n",
              "5868993  201701         15:54:38           30247  ...     12.74  2017     01\n",
              "5863918  201701         14:26:52          233070  ...      1.99  2017     01\n",
              "5863919  201701         14:26:52              *5  ...     11.24  2017     01\n",
              "5863920  201701         14:26:52          233070  ...      0.99  2017     01\n",
              "5863921  201701         14:26:52          233070  ...      0.99  2017     01\n",
              "\n",
              "[5 rows x 9 columns]"
            ]
          },
          "metadata": {
            "tags": []
          },
          "execution_count": 85
        }
      ]
    },
    {
      "cell_type": "code",
      "metadata": {
        "id": "6nh3tDBDfwoJ",
        "colab_type": "code",
        "outputId": "97a96ba1-fdaf-45c9-963c-e7da3031cd22",
        "colab": {
          "base_uri": "https://localhost:8080/",
          "height": 402
        }
      },
      "source": [
        "train_RFM.loc[train_RFM['Customer Number'] == '10000']"
      ],
      "execution_count": 86,
      "outputs": [
        {
          "output_type": "execute_result",
          "data": {
            "text/html": [
              "<div>\n",
              "<style scoped>\n",
              "    .dataframe tbody tr th:only-of-type {\n",
              "        vertical-align: middle;\n",
              "    }\n",
              "\n",
              "    .dataframe tbody tr th {\n",
              "        vertical-align: top;\n",
              "    }\n",
              "\n",
              "    .dataframe thead th {\n",
              "        text-align: right;\n",
              "    }\n",
              "</style>\n",
              "<table border=\"1\" class=\"dataframe\">\n",
              "  <thead>\n",
              "    <tr style=\"text-align: right;\">\n",
              "      <th></th>\n",
              "      <th>Date</th>\n",
              "      <th>Transaction Time</th>\n",
              "      <th>Customer Number</th>\n",
              "      <th>Receipt Number</th>\n",
              "      <th>Item Number</th>\n",
              "      <th>Item Description</th>\n",
              "      <th>Net Sales</th>\n",
              "      <th>year</th>\n",
              "      <th>months</th>\n",
              "    </tr>\n",
              "  </thead>\n",
              "  <tbody>\n",
              "    <tr>\n",
              "      <th>5862808</th>\n",
              "      <td>201701</td>\n",
              "      <td>14:04:01</td>\n",
              "      <td>10000</td>\n",
              "      <td>B88766</td>\n",
              "      <td>8211369</td>\n",
              "      <td>CHIMNEY STARTER</td>\n",
              "      <td>17.99</td>\n",
              "      <td>2017</td>\n",
              "      <td>01</td>\n",
              "    </tr>\n",
              "    <tr>\n",
              "      <th>6041366</th>\n",
              "      <td>201701</td>\n",
              "      <td>13:46:40</td>\n",
              "      <td>10000</td>\n",
              "      <td>A82760</td>\n",
              "      <td>1335348</td>\n",
              "      <td>CAULK ALEX FDRY WH10.1OZ</td>\n",
              "      <td>7.18</td>\n",
              "      <td>2017</td>\n",
              "      <td>01</td>\n",
              "    </tr>\n",
              "    <tr>\n",
              "      <th>6038577</th>\n",
              "      <td>201701</td>\n",
              "      <td>12:10:30</td>\n",
              "      <td>10000</td>\n",
              "      <td>A82756</td>\n",
              "      <td>B055101Q</td>\n",
              "      <td>REG SEL INT S-G WHITE QT</td>\n",
              "      <td>17.59</td>\n",
              "      <td>2017</td>\n",
              "      <td>01</td>\n",
              "    </tr>\n",
              "    <tr>\n",
              "      <th>6037625</th>\n",
              "      <td>201701</td>\n",
              "      <td>11:33:29</td>\n",
              "      <td>10000</td>\n",
              "      <td>A82750</td>\n",
              "      <td>B055101Q</td>\n",
              "      <td>REG SEL INT S-G WHITE QT</td>\n",
              "      <td>17.59</td>\n",
              "      <td>2017</td>\n",
              "      <td>01</td>\n",
              "    </tr>\n",
              "    <tr>\n",
              "      <th>6037593</th>\n",
              "      <td>201701</td>\n",
              "      <td>11:32:04</td>\n",
              "      <td>10000</td>\n",
              "      <td>A82749</td>\n",
              "      <td>B079201Q</td>\n",
              "      <td>ADVANCE INT SATIN WHT QT</td>\n",
              "      <td>39.98</td>\n",
              "      <td>2017</td>\n",
              "      <td>01</td>\n",
              "    </tr>\n",
              "    <tr>\n",
              "      <th>...</th>\n",
              "      <td>...</td>\n",
              "      <td>...</td>\n",
              "      <td>...</td>\n",
              "      <td>...</td>\n",
              "      <td>...</td>\n",
              "      <td>...</td>\n",
              "      <td>...</td>\n",
              "      <td>...</td>\n",
              "      <td>...</td>\n",
              "    </tr>\n",
              "    <tr>\n",
              "      <th>16869008</th>\n",
              "      <td>201809</td>\n",
              "      <td>12:32:33</td>\n",
              "      <td>10000</td>\n",
              "      <td>14108</td>\n",
              "      <td>37044806</td>\n",
              "      <td>G-FORCE 6'ROLLING SCAFFOLD</td>\n",
              "      <td>179.99</td>\n",
              "      <td>2018</td>\n",
              "      <td>09</td>\n",
              "    </tr>\n",
              "    <tr>\n",
              "      <th>16869007</th>\n",
              "      <td>201809</td>\n",
              "      <td>12:32:33</td>\n",
              "      <td>10000</td>\n",
              "      <td>14108</td>\n",
              "      <td>B050809F</td>\n",
              "      <td>CEILING WB U-FLT WHT 5GL</td>\n",
              "      <td>-405.00</td>\n",
              "      <td>2018</td>\n",
              "      <td>09</td>\n",
              "    </tr>\n",
              "    <tr>\n",
              "      <th>16869886</th>\n",
              "      <td>201809</td>\n",
              "      <td>12:51:44</td>\n",
              "      <td>10000</td>\n",
              "      <td>B27102</td>\n",
              "      <td>B05481X</td>\n",
              "      <td>REG SEL INT MATTE BS1 GL</td>\n",
              "      <td>42.39</td>\n",
              "      <td>2018</td>\n",
              "      <td>09</td>\n",
              "    </tr>\n",
              "    <tr>\n",
              "      <th>16869887</th>\n",
              "      <td>201809</td>\n",
              "      <td>12:51:44</td>\n",
              "      <td>10000</td>\n",
              "      <td>B27102</td>\n",
              "      <td>61400028</td>\n",
              "      <td>PURDY 9X1/2 WHITE DOVE 3PK</td>\n",
              "      <td>13.49</td>\n",
              "      <td>2018</td>\n",
              "      <td>09</td>\n",
              "    </tr>\n",
              "    <tr>\n",
              "      <th>16869888</th>\n",
              "      <td>201809</td>\n",
              "      <td>12:51:44</td>\n",
              "      <td>10000</td>\n",
              "      <td>B27102</td>\n",
              "      <td>37000075</td>\n",
              "      <td>TRAY LINER-G FORCE #75 BLK PLSTC</td>\n",
              "      <td>3.58</td>\n",
              "      <td>2018</td>\n",
              "      <td>09</td>\n",
              "    </tr>\n",
              "  </tbody>\n",
              "</table>\n",
              "<p>39117 rows × 9 columns</p>\n",
              "</div>"
            ],
            "text/plain": [
              "            Date Transaction Time Customer Number  ... Net Sales  year months\n",
              "5862808   201701         14:04:01           10000  ...     17.99  2017     01\n",
              "6041366   201701         13:46:40           10000  ...      7.18  2017     01\n",
              "6038577   201701         12:10:30           10000  ...     17.59  2017     01\n",
              "6037625   201701         11:33:29           10000  ...     17.59  2017     01\n",
              "6037593   201701         11:32:04           10000  ...     39.98  2017     01\n",
              "...          ...              ...             ...  ...       ...   ...    ...\n",
              "16869008  201809         12:32:33           10000  ...    179.99  2018     09\n",
              "16869007  201809         12:32:33           10000  ...   -405.00  2018     09\n",
              "16869886  201809         12:51:44           10000  ...     42.39  2018     09\n",
              "16869887  201809         12:51:44           10000  ...     13.49  2018     09\n",
              "16869888  201809         12:51:44           10000  ...      3.58  2018     09\n",
              "\n",
              "[39117 rows x 9 columns]"
            ]
          },
          "metadata": {
            "tags": []
          },
          "execution_count": 86
        }
      ]
    },
    {
      "cell_type": "code",
      "metadata": {
        "id": "Fwf-DgrHbild",
        "colab_type": "code",
        "outputId": "dd317917-4fa2-4345-d358-7fe7377421bb",
        "colab": {
          "base_uri": "https://localhost:8080/",
          "height": 218
        }
      },
      "source": [
        "train_RFM['Customer Number'].value_counts()"
      ],
      "execution_count": 87,
      "outputs": [
        {
          "output_type": "execute_result",
          "data": {
            "text/plain": [
              "*5        4967743\n",
              "*6          60999\n",
              "10000       39117\n",
              "*A96T6      22208\n",
              "100020      21756\n",
              "           ...   \n",
              "347728          1\n",
              "548633          1\n",
              "549257          1\n",
              "*AC6MU          1\n",
              "*A33G6          1\n",
              "Name: Customer Number, Length: 349280, dtype: int64"
            ]
          },
          "metadata": {
            "tags": []
          },
          "execution_count": 87
        }
      ]
    },
    {
      "cell_type": "code",
      "metadata": {
        "id": "vp-VA7EFdqDC",
        "colab_type": "code",
        "outputId": "e2ae868b-5fec-4fc0-db35-055bbd09a088",
        "colab": {
          "base_uri": "https://localhost:8080/",
          "height": 34
        }
      },
      "source": [
        "train_RFM.loc[train_RFM['Customer Number'] == '10000']['Net Sales'].sum()"
      ],
      "execution_count": 88,
      "outputs": [
        {
          "output_type": "execute_result",
          "data": {
            "text/plain": [
              "1117686.9100000001"
            ]
          },
          "metadata": {
            "tags": []
          },
          "execution_count": 88
        }
      ]
    },
    {
      "cell_type": "code",
      "metadata": {
        "id": "7rr_gOpHb68a",
        "colab_type": "code",
        "outputId": "aefe7adf-8e5a-445c-8094-0c27245641e5",
        "colab": {
          "base_uri": "https://localhost:8080/",
          "height": 77
        }
      },
      "source": [
        "Cust_All.loc[(Cust_All['Customer Number'] == '10000')  ]"
      ],
      "execution_count": 89,
      "outputs": [
        {
          "output_type": "execute_result",
          "data": {
            "text/html": [
              "<div>\n",
              "<style scoped>\n",
              "    .dataframe tbody tr th:only-of-type {\n",
              "        vertical-align: middle;\n",
              "    }\n",
              "\n",
              "    .dataframe tbody tr th {\n",
              "        vertical-align: top;\n",
              "    }\n",
              "\n",
              "    .dataframe thead th {\n",
              "        text-align: right;\n",
              "    }\n",
              "</style>\n",
              "<table border=\"1\" class=\"dataframe\">\n",
              "  <thead>\n",
              "    <tr style=\"text-align: right;\">\n",
              "      <th></th>\n",
              "      <th>Customer Number</th>\n",
              "      <th>Recency_Flag</th>\n",
              "      <th>Freq_Flag</th>\n",
              "      <th>Monetary_Flag</th>\n",
              "    </tr>\n",
              "  </thead>\n",
              "  <tbody>\n",
              "    <tr>\n",
              "      <th>87121</th>\n",
              "      <td>10000</td>\n",
              "      <td>5</td>\n",
              "      <td>5</td>\n",
              "      <td>5</td>\n",
              "    </tr>\n",
              "  </tbody>\n",
              "</table>\n",
              "</div>"
            ],
            "text/plain": [
              "      Customer Number  Recency_Flag  Freq_Flag  Monetary_Flag\n",
              "87121           10000             5          5              5"
            ]
          },
          "metadata": {
            "tags": []
          },
          "execution_count": 89
        }
      ]
    },
    {
      "cell_type": "code",
      "metadata": {
        "id": "lm9UuhrKhWAm",
        "colab_type": "code",
        "outputId": "4a6d3ce6-1eb5-48e3-cb1f-06232eb84b3f",
        "colab": {
          "base_uri": "https://localhost:8080/",
          "height": 402
        }
      },
      "source": [
        "train_RFM.loc[train_RFM['Customer Number'] == '10000']"
      ],
      "execution_count": 90,
      "outputs": [
        {
          "output_type": "execute_result",
          "data": {
            "text/html": [
              "<div>\n",
              "<style scoped>\n",
              "    .dataframe tbody tr th:only-of-type {\n",
              "        vertical-align: middle;\n",
              "    }\n",
              "\n",
              "    .dataframe tbody tr th {\n",
              "        vertical-align: top;\n",
              "    }\n",
              "\n",
              "    .dataframe thead th {\n",
              "        text-align: right;\n",
              "    }\n",
              "</style>\n",
              "<table border=\"1\" class=\"dataframe\">\n",
              "  <thead>\n",
              "    <tr style=\"text-align: right;\">\n",
              "      <th></th>\n",
              "      <th>Date</th>\n",
              "      <th>Transaction Time</th>\n",
              "      <th>Customer Number</th>\n",
              "      <th>Receipt Number</th>\n",
              "      <th>Item Number</th>\n",
              "      <th>Item Description</th>\n",
              "      <th>Net Sales</th>\n",
              "      <th>year</th>\n",
              "      <th>months</th>\n",
              "    </tr>\n",
              "  </thead>\n",
              "  <tbody>\n",
              "    <tr>\n",
              "      <th>5862808</th>\n",
              "      <td>201701</td>\n",
              "      <td>14:04:01</td>\n",
              "      <td>10000</td>\n",
              "      <td>B88766</td>\n",
              "      <td>8211369</td>\n",
              "      <td>CHIMNEY STARTER</td>\n",
              "      <td>17.99</td>\n",
              "      <td>2017</td>\n",
              "      <td>01</td>\n",
              "    </tr>\n",
              "    <tr>\n",
              "      <th>6041366</th>\n",
              "      <td>201701</td>\n",
              "      <td>13:46:40</td>\n",
              "      <td>10000</td>\n",
              "      <td>A82760</td>\n",
              "      <td>1335348</td>\n",
              "      <td>CAULK ALEX FDRY WH10.1OZ</td>\n",
              "      <td>7.18</td>\n",
              "      <td>2017</td>\n",
              "      <td>01</td>\n",
              "    </tr>\n",
              "    <tr>\n",
              "      <th>6038577</th>\n",
              "      <td>201701</td>\n",
              "      <td>12:10:30</td>\n",
              "      <td>10000</td>\n",
              "      <td>A82756</td>\n",
              "      <td>B055101Q</td>\n",
              "      <td>REG SEL INT S-G WHITE QT</td>\n",
              "      <td>17.59</td>\n",
              "      <td>2017</td>\n",
              "      <td>01</td>\n",
              "    </tr>\n",
              "    <tr>\n",
              "      <th>6037625</th>\n",
              "      <td>201701</td>\n",
              "      <td>11:33:29</td>\n",
              "      <td>10000</td>\n",
              "      <td>A82750</td>\n",
              "      <td>B055101Q</td>\n",
              "      <td>REG SEL INT S-G WHITE QT</td>\n",
              "      <td>17.59</td>\n",
              "      <td>2017</td>\n",
              "      <td>01</td>\n",
              "    </tr>\n",
              "    <tr>\n",
              "      <th>6037593</th>\n",
              "      <td>201701</td>\n",
              "      <td>11:32:04</td>\n",
              "      <td>10000</td>\n",
              "      <td>A82749</td>\n",
              "      <td>B079201Q</td>\n",
              "      <td>ADVANCE INT SATIN WHT QT</td>\n",
              "      <td>39.98</td>\n",
              "      <td>2017</td>\n",
              "      <td>01</td>\n",
              "    </tr>\n",
              "    <tr>\n",
              "      <th>...</th>\n",
              "      <td>...</td>\n",
              "      <td>...</td>\n",
              "      <td>...</td>\n",
              "      <td>...</td>\n",
              "      <td>...</td>\n",
              "      <td>...</td>\n",
              "      <td>...</td>\n",
              "      <td>...</td>\n",
              "      <td>...</td>\n",
              "    </tr>\n",
              "    <tr>\n",
              "      <th>16869008</th>\n",
              "      <td>201809</td>\n",
              "      <td>12:32:33</td>\n",
              "      <td>10000</td>\n",
              "      <td>14108</td>\n",
              "      <td>37044806</td>\n",
              "      <td>G-FORCE 6'ROLLING SCAFFOLD</td>\n",
              "      <td>179.99</td>\n",
              "      <td>2018</td>\n",
              "      <td>09</td>\n",
              "    </tr>\n",
              "    <tr>\n",
              "      <th>16869007</th>\n",
              "      <td>201809</td>\n",
              "      <td>12:32:33</td>\n",
              "      <td>10000</td>\n",
              "      <td>14108</td>\n",
              "      <td>B050809F</td>\n",
              "      <td>CEILING WB U-FLT WHT 5GL</td>\n",
              "      <td>-405.00</td>\n",
              "      <td>2018</td>\n",
              "      <td>09</td>\n",
              "    </tr>\n",
              "    <tr>\n",
              "      <th>16869886</th>\n",
              "      <td>201809</td>\n",
              "      <td>12:51:44</td>\n",
              "      <td>10000</td>\n",
              "      <td>B27102</td>\n",
              "      <td>B05481X</td>\n",
              "      <td>REG SEL INT MATTE BS1 GL</td>\n",
              "      <td>42.39</td>\n",
              "      <td>2018</td>\n",
              "      <td>09</td>\n",
              "    </tr>\n",
              "    <tr>\n",
              "      <th>16869887</th>\n",
              "      <td>201809</td>\n",
              "      <td>12:51:44</td>\n",
              "      <td>10000</td>\n",
              "      <td>B27102</td>\n",
              "      <td>61400028</td>\n",
              "      <td>PURDY 9X1/2 WHITE DOVE 3PK</td>\n",
              "      <td>13.49</td>\n",
              "      <td>2018</td>\n",
              "      <td>09</td>\n",
              "    </tr>\n",
              "    <tr>\n",
              "      <th>16869888</th>\n",
              "      <td>201809</td>\n",
              "      <td>12:51:44</td>\n",
              "      <td>10000</td>\n",
              "      <td>B27102</td>\n",
              "      <td>37000075</td>\n",
              "      <td>TRAY LINER-G FORCE #75 BLK PLSTC</td>\n",
              "      <td>3.58</td>\n",
              "      <td>2018</td>\n",
              "      <td>09</td>\n",
              "    </tr>\n",
              "  </tbody>\n",
              "</table>\n",
              "<p>39117 rows × 9 columns</p>\n",
              "</div>"
            ],
            "text/plain": [
              "            Date Transaction Time Customer Number  ... Net Sales  year months\n",
              "5862808   201701         14:04:01           10000  ...     17.99  2017     01\n",
              "6041366   201701         13:46:40           10000  ...      7.18  2017     01\n",
              "6038577   201701         12:10:30           10000  ...     17.59  2017     01\n",
              "6037625   201701         11:33:29           10000  ...     17.59  2017     01\n",
              "6037593   201701         11:32:04           10000  ...     39.98  2017     01\n",
              "...          ...              ...             ...  ...       ...   ...    ...\n",
              "16869008  201809         12:32:33           10000  ...    179.99  2018     09\n",
              "16869007  201809         12:32:33           10000  ...   -405.00  2018     09\n",
              "16869886  201809         12:51:44           10000  ...     42.39  2018     09\n",
              "16869887  201809         12:51:44           10000  ...     13.49  2018     09\n",
              "16869888  201809         12:51:44           10000  ...      3.58  2018     09\n",
              "\n",
              "[39117 rows x 9 columns]"
            ]
          },
          "metadata": {
            "tags": []
          },
          "execution_count": 90
        }
      ]
    },
    {
      "cell_type": "code",
      "metadata": {
        "id": "bJ6D3d8bgidQ",
        "colab_type": "code",
        "outputId": "ab21d0c1-1014-43d1-d3c4-4210ccd28d5d",
        "colab": {
          "base_uri": "https://localhost:8080/",
          "height": 34
        }
      },
      "source": [
        "train_RFM.loc[train_RFM['Customer Number'] == '24805']['Net Sales'].sum()"
      ],
      "execution_count": 91,
      "outputs": [
        {
          "output_type": "execute_result",
          "data": {
            "text/plain": [
              "12.58"
            ]
          },
          "metadata": {
            "tags": []
          },
          "execution_count": 91
        }
      ]
    },
    {
      "cell_type": "code",
      "metadata": {
        "id": "lhFaCsbChhNA",
        "colab_type": "code",
        "outputId": "3a7fa2b8-ff43-41a1-efec-e5da02c0f252",
        "colab": {
          "base_uri": "https://localhost:8080/",
          "height": 77
        }
      },
      "source": [
        "Cust_All.loc[(Cust_All['Customer Number'] == '24805')  ]"
      ],
      "execution_count": 92,
      "outputs": [
        {
          "output_type": "execute_result",
          "data": {
            "text/html": [
              "<div>\n",
              "<style scoped>\n",
              "    .dataframe tbody tr th:only-of-type {\n",
              "        vertical-align: middle;\n",
              "    }\n",
              "\n",
              "    .dataframe tbody tr th {\n",
              "        vertical-align: top;\n",
              "    }\n",
              "\n",
              "    .dataframe thead th {\n",
              "        text-align: right;\n",
              "    }\n",
              "</style>\n",
              "<table border=\"1\" class=\"dataframe\">\n",
              "  <thead>\n",
              "    <tr style=\"text-align: right;\">\n",
              "      <th></th>\n",
              "      <th>Customer Number</th>\n",
              "      <th>Recency_Flag</th>\n",
              "      <th>Freq_Flag</th>\n",
              "      <th>Monetary_Flag</th>\n",
              "    </tr>\n",
              "  </thead>\n",
              "  <tbody>\n",
              "    <tr>\n",
              "      <th>173460</th>\n",
              "      <td>24805</td>\n",
              "      <td>5</td>\n",
              "      <td>1</td>\n",
              "      <td>1</td>\n",
              "    </tr>\n",
              "  </tbody>\n",
              "</table>\n",
              "</div>"
            ],
            "text/plain": [
              "       Customer Number  Recency_Flag  Freq_Flag  Monetary_Flag\n",
              "173460           24805             5          1              1"
            ]
          },
          "metadata": {
            "tags": []
          },
          "execution_count": 92
        }
      ]
    },
    {
      "cell_type": "code",
      "metadata": {
        "id": "zz_Dwje1i1sa",
        "colab_type": "code",
        "colab": {}
      },
      "source": [
        "Customer_Number = ['10000','24805']\n",
        "Recent_Date = ['09/2018','09/2018']\n",
        "Frequency_of_Shopping = ['39117','1']\n",
        "Total_Net_sales = ['1117686.91','12.58']\n",
        "resultDf = pd.DataFrame(list(zip(Customer_Number, Recent_Date,Frequency_of_Shopping,Total_Net_sales)), \n",
        "               columns =['Customer Number', 'Recent_Date','Frequency_of_Shopping','Total_Net_sales'])"
      ],
      "execution_count": 0,
      "outputs": []
    },
    {
      "cell_type": "markdown",
      "metadata": {
        "id": "g3LM5vW4wTv_",
        "colab_type": "text"
      },
      "source": [
        " Table 1"
      ]
    },
    {
      "cell_type": "code",
      "metadata": {
        "id": "xR-qGTa_ki-M",
        "colab_type": "code",
        "outputId": "1b3cc722-b2e9-47d1-91d8-6ebc4d8f42a9",
        "colab": {
          "base_uri": "https://localhost:8080/",
          "height": 106
        }
      },
      "source": [
        "resultDf"
      ],
      "execution_count": 94,
      "outputs": [
        {
          "output_type": "execute_result",
          "data": {
            "text/html": [
              "<div>\n",
              "<style scoped>\n",
              "    .dataframe tbody tr th:only-of-type {\n",
              "        vertical-align: middle;\n",
              "    }\n",
              "\n",
              "    .dataframe tbody tr th {\n",
              "        vertical-align: top;\n",
              "    }\n",
              "\n",
              "    .dataframe thead th {\n",
              "        text-align: right;\n",
              "    }\n",
              "</style>\n",
              "<table border=\"1\" class=\"dataframe\">\n",
              "  <thead>\n",
              "    <tr style=\"text-align: right;\">\n",
              "      <th></th>\n",
              "      <th>Customer Number</th>\n",
              "      <th>Recent_Date</th>\n",
              "      <th>Frequency_of_Shopping</th>\n",
              "      <th>Total_Net_sales</th>\n",
              "    </tr>\n",
              "  </thead>\n",
              "  <tbody>\n",
              "    <tr>\n",
              "      <th>0</th>\n",
              "      <td>10000</td>\n",
              "      <td>09/2018</td>\n",
              "      <td>39117</td>\n",
              "      <td>1117686.91</td>\n",
              "    </tr>\n",
              "    <tr>\n",
              "      <th>1</th>\n",
              "      <td>24805</td>\n",
              "      <td>09/2018</td>\n",
              "      <td>1</td>\n",
              "      <td>12.58</td>\n",
              "    </tr>\n",
              "  </tbody>\n",
              "</table>\n",
              "</div>"
            ],
            "text/plain": [
              "  Customer Number Recent_Date Frequency_of_Shopping Total_Net_sales\n",
              "0           10000     09/2018                 39117      1117686.91\n",
              "1           24805     09/2018                     1           12.58"
            ]
          },
          "metadata": {
            "tags": []
          },
          "execution_count": 94
        }
      ]
    },
    {
      "cell_type": "markdown",
      "metadata": {
        "id": "j1J0TwenwXcU",
        "colab_type": "text"
      },
      "source": [
        "Table 2"
      ]
    },
    {
      "cell_type": "code",
      "metadata": {
        "id": "Irw6kXLRlL98",
        "colab_type": "code",
        "outputId": "58086f90-afb1-4fb8-d793-afd8c29f7674",
        "colab": {
          "base_uri": "https://localhost:8080/",
          "height": 106
        }
      },
      "source": [
        "Cust_All.loc[(Cust_All['Customer Number'].isin(['10000','24805']))  ]"
      ],
      "execution_count": 95,
      "outputs": [
        {
          "output_type": "execute_result",
          "data": {
            "text/html": [
              "<div>\n",
              "<style scoped>\n",
              "    .dataframe tbody tr th:only-of-type {\n",
              "        vertical-align: middle;\n",
              "    }\n",
              "\n",
              "    .dataframe tbody tr th {\n",
              "        vertical-align: top;\n",
              "    }\n",
              "\n",
              "    .dataframe thead th {\n",
              "        text-align: right;\n",
              "    }\n",
              "</style>\n",
              "<table border=\"1\" class=\"dataframe\">\n",
              "  <thead>\n",
              "    <tr style=\"text-align: right;\">\n",
              "      <th></th>\n",
              "      <th>Customer Number</th>\n",
              "      <th>Recency_Flag</th>\n",
              "      <th>Freq_Flag</th>\n",
              "      <th>Monetary_Flag</th>\n",
              "    </tr>\n",
              "  </thead>\n",
              "  <tbody>\n",
              "    <tr>\n",
              "      <th>87121</th>\n",
              "      <td>10000</td>\n",
              "      <td>5</td>\n",
              "      <td>5</td>\n",
              "      <td>5</td>\n",
              "    </tr>\n",
              "    <tr>\n",
              "      <th>173460</th>\n",
              "      <td>24805</td>\n",
              "      <td>5</td>\n",
              "      <td>1</td>\n",
              "      <td>1</td>\n",
              "    </tr>\n",
              "  </tbody>\n",
              "</table>\n",
              "</div>"
            ],
            "text/plain": [
              "       Customer Number  Recency_Flag  Freq_Flag  Monetary_Flag\n",
              "87121            10000             5          5              5\n",
              "173460           24805             5          1              1"
            ]
          },
          "metadata": {
            "tags": []
          },
          "execution_count": 95
        }
      ]
    },
    {
      "cell_type": "markdown",
      "metadata": {
        "id": "xUvNSV7gvg_3",
        "colab_type": "text"
      },
      "source": [
        "## **Comparing Results to Validate**\n",
        "\n",
        "**Recency:**\n",
        "Our dataset contains latest transactions up to 09/2018 for all the customers. Recent_Date of transaction for both\n",
        "Customers is from 09/2018 which is under last 4 months. Thus, they should have Recency_Flag score 5 which\n",
        "we can validate from the table 2.\n",
        "\n",
        "**Frequency:**\n",
        "From table 1, Frequency of shopping for Customer Number ’10000’ is greater than the Customer Number ’24805’.\n",
        "Comparatively, Freq_Flag value for Customer Number ’10000’ should be the highest and for ’24805’ should be\n",
        "the lowest. Thus, we can validate that from table 2 as Freq_Flag for ’10000’ is 5 and for ’24805’ is 1.\n",
        "\n",
        "**Monetary:**\n",
        "Total Net Sales Amount for Customer Number ’10000’ is greater than the Customer Number ’24805’ as shown\n",
        "in table 1. Comparatively, Monetary_Flag value for Customer Number ’10000’ should be the highest and for\n",
        "’24805’ should be the lowest. Thus, we can validate that from table 2 as Monetary_Flag for ’10000’ is 5 and for\n",
        "’24805’ is 1."
      ]
    }
  ]
}